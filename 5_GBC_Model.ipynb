{
 "cells": [
  {
   "cell_type": "markdown",
   "metadata": {},
   "source": [
    "# Classification Prediction with Imbalanced Target"
   ]
  },
  {
   "cell_type": "markdown",
   "metadata": {},
   "source": [
    "# Mary Donovan Martello"
   ]
  },
  {
   "cell_type": "markdown",
   "metadata": {},
   "source": [
    "## The goal of this project was to design predictive binary classification models to predict whether credit card account holders will default on their payments in the next month. The models address the imbalance in the target variable. This notebook uses a Gradient Boosting Classification model to make the default prediciton."
   ]
  },
  {
   "cell_type": "markdown",
   "metadata": {},
   "source": [
    "# Part 5:  Gradient Boosting Classification Model"
   ]
  },
  {
   "cell_type": "code",
   "execution_count": null,
   "metadata": {},
   "outputs": [],
   "source": []
  },
  {
   "cell_type": "code",
   "execution_count": 2,
   "metadata": {},
   "outputs": [],
   "source": [
    "# import libraries\n",
    "\n",
    "import pandas as pd\n",
    "from pandas import read_csv\n",
    "import numpy as np\n",
    "from numpy import mean\n",
    "from numpy import std\n",
    "from numpy import argmax\n",
    "\n",
    "import seaborn as sns\n",
    "import matplotlib.pyplot as plt\n",
    "from IPython.display import Markdown, display\n",
    "\n",
    "from sklearn.preprocessing import LabelEncoder\n",
    "from sklearn.preprocessing import OneHotEncoder\n",
    "from sklearn.compose import ColumnTransformer\n",
    "\n",
    "from sklearn.model_selection import StratifiedKFold\n",
    "from sklearn.model_selection import train_test_split\n",
    "from sklearn.pipeline import make_pipeline\n",
    "from sklearn.model_selection import GridSearchCV\n",
    "from sklearn.model_selection import cross_validate\n",
    "from sklearn import model_selection, metrics\n",
    "from sklearn.metrics import accuracy_score\n",
    "from sklearn.metrics import recall_score\n",
    "from sklearn.metrics import classification_report\n",
    "from sklearn.metrics import log_loss\n",
    "from sklearn.metrics import brier_score_loss\n",
    "from sklearn.metrics import roc_auc_score\n",
    "from sklearn.metrics import confusion_matrix\n",
    "\n",
    "from sklearn.ensemble import GradientBoostingClassifier\n",
    "from sklearn.linear_model import LogisticRegression\n",
    "from sklearn.ensemble import RandomForestClassifier\n",
    "\n",
    "#stop unnecessary warnings from printing to the screen\n",
    "import warnings\n",
    "warnings.simplefilter('ignore')\n",
    "\n"
   ]
  },
  {
   "cell_type": "code",
   "execution_count": null,
   "metadata": {},
   "outputs": [],
   "source": []
  },
  {
   "cell_type": "markdown",
   "metadata": {},
   "source": [
    "### This notebook uses two datasets. The first dataset includes the full data that was cleaned, prepared, and transformed into Principal Component features in the 1_EDA_Prep notebook. The second dataset is the first dataset that has been reduced to the best select features identified in the 2_Test_Subsets_of_Features notebook."
   ]
  },
  {
   "cell_type": "code",
   "execution_count": 4,
   "metadata": {},
   "outputs": [],
   "source": [
    "# Load data into a dataframe\n",
    "\n",
    "df = pd.read_csv('pcaDefault.csv')\n"
   ]
  },
  {
   "cell_type": "code",
   "execution_count": null,
   "metadata": {},
   "outputs": [],
   "source": []
  },
  {
   "cell_type": "markdown",
   "metadata": {},
   "source": [
    "### Need a dataframe with dummy features for probability prediction and the classifier threshold."
   ]
  },
  {
   "cell_type": "code",
   "execution_count": 77,
   "metadata": {},
   "outputs": [
    {
     "name": "stdout",
     "output_type": "stream",
     "text": [
      "   SEX  EDUCATION  MARRIAGE\n",
      "0    1          1         2\n",
      "1    1          2         2\n",
      "2    1          1         1\n",
      "3    2          2         2\n"
     ]
    }
   ],
   "source": [
    "# use only to create subsets\n",
    "\n",
    "# convert categorical data to numbers \n",
    "#get the categorical data\n",
    "cat_features = ['SEX', 'EDUCATION', 'MARRIAGE']\n",
    "df_cat = df[cat_features]\n",
    "\n",
    "# create dummy variable dataframe for categorical values \n",
    "dfDumm = pd.get_dummies(df_cat)\n",
    "\n",
    "# check the data\n",
    "print(dfDumm.head(4))\n",
    "\n",
    "# create a whole features dataset that can be used for train and validation data splitting\n",
    "# combine the numerical features and the dummie features together\n",
    "dfNum = df.drop(['SEX', 'EDUCATION', 'MARRIAGE', 'default'], axis = 1)\n",
    "X = pd.concat([dfNum, dfDumm], axis=1)\n",
    "# create a whole target dataset that can be used for train and validation data splitting\n",
    "y =  df['default']\n"
   ]
  },
  {
   "cell_type": "markdown",
   "metadata": {},
   "source": [
    "Check the input features for testing feature subsets."
   ]
  },
  {
   "cell_type": "code",
   "execution_count": 8,
   "metadata": {},
   "outputs": [
    {
     "data": {
      "text/plain": [
       "Index(['PC1', 'PC2', 'PC3', 'PC4', 'PC5', 'PC6', 'PC7', 'PC8', 'SEX',\n",
       "       'EDUCATION', 'MARRIAGE'],\n",
       "      dtype='object')"
      ]
     },
     "execution_count": 8,
     "metadata": {},
     "output_type": "execute_result"
    }
   ],
   "source": [
    "X.columns"
   ]
  },
  {
   "cell_type": "code",
   "execution_count": 9,
   "metadata": {},
   "outputs": [
    {
     "data": {
      "text/plain": [
       "(30000, 11)"
      ]
     },
     "execution_count": 9,
     "metadata": {},
     "output_type": "execute_result"
    }
   ],
   "source": [
    "X.shape"
   ]
  },
  {
   "cell_type": "code",
   "execution_count": null,
   "metadata": {},
   "outputs": [],
   "source": []
  },
  {
   "cell_type": "markdown",
   "metadata": {},
   "source": [
    "## Model Selection and Evaluation"
   ]
  },
  {
   "cell_type": "markdown",
   "metadata": {},
   "source": [
    "**Create Feature Dataframe for GridSearch Pipeline**"
   ]
  },
  {
   "cell_type": "code",
   "execution_count": 6,
   "metadata": {},
   "outputs": [],
   "source": [
    "\n",
    "# separate into input and output columns (X variable for features and y for target variables)\n",
    "\n",
    "Xp = df.drop('default', axis = 1) \n",
    "yP = df['default']\n",
    "# will not label encode the target variable for random forest model\n",
    "yRFp = df['default']\n",
    "\n",
    "# one-hot encode input variables\n",
    "# use ColumnTransformer to indicate which categorical variables to encode\n",
    "# https://machinelearningmastery.com/one-hot-encoding-for-categorical-data/\n",
    "#https://github.com/scikit-learn/scikit-learn/issues/9132 to include categories = 'auto' when negative values in X\n",
    "onehot_encoder = OneHotEncoder(categories='auto')\n",
    "onehot_encoder.fit(Xp)\n",
    "transformer = ColumnTransformer(transformers=[('cat', OneHotEncoder(), [8, 9, 10])], remainder='passthrough')\n",
    "Xp = transformer.fit_transform(Xp)\n",
    "\n",
    "# ordinal encode target variable\n",
    "label_encoder = LabelEncoder()\n",
    "label_encoder.fit(yP)\n",
    "yP = label_encoder.transform(yP)\n"
   ]
  },
  {
   "cell_type": "code",
   "execution_count": 57,
   "metadata": {},
   "outputs": [],
   "source": [
    "# custom confusion matrix function to show percentages\n",
    "def conf_matrix(y,pred):\n",
    "    ((tn, fp), (fn, tp)) = metrics.confusion_matrix(y, pred)\n",
    "    \n",
    "    return pd.DataFrame([[f'TN = {tn} (TNR = {tn / (tn+fp):1.2%})', \n",
    "                                f'FP = {fp} (FPR = {fp / (tn+fp):1.2%})'], \n",
    "                         [f'FN = {fn} (FNR = {fn / (fn+tp):1.2%})', \n",
    "                                f'TP = {tp} (TPR = {tp / (fn+tp):1.2%})']],\n",
    "            index=['True 0(No Default)', 'True 1(Default)'], \n",
    "            columns=['Pred 0(No Default)', \n",
    "                            'Pred 1(Default)'])"
   ]
  },
  {
   "cell_type": "code",
   "execution_count": null,
   "metadata": {},
   "outputs": [],
   "source": []
  },
  {
   "cell_type": "code",
   "execution_count": null,
   "metadata": {},
   "outputs": [],
   "source": []
  },
  {
   "cell_type": "markdown",
   "metadata": {},
   "source": [
    "**Phase 1: All input features with GridSearch and Stratified K-fold cross validation**"
   ]
  },
  {
   "cell_type": "code",
   "execution_count": 73,
   "metadata": {},
   "outputs": [
    {
     "name": "stdout",
     "output_type": "stream",
     "text": [
      "{'fit_time': array([105.49652982, 105.44068074, 105.37386155, 104.84926748,\n",
      "       102.98407435, 102.3088882 , 102.72079206, 103.01100492,\n",
      "        67.06047988,  66.79234815]), 'score_time': array([0.02692699, 0.03291106, 0.03689766, 0.0309124 , 0.02692652,\n",
      "       0.02592874, 0.02791548, 0.03191328, 0.01562428, 0.01561999]), 'test_accuracy': array([0.79206931, 0.79073642, 0.79173609, 0.78973675, 0.792     ,\n",
      "       0.79533333, 0.78826275, 0.79493164, 0.79593198, 0.79126375]), 'train_accuracy': array([0.80140005, 0.80136301, 0.80154821, 0.80228897, 0.79966667,\n",
      "       0.79725926, 0.79997037, 0.80034073, 0.8035258 , 0.80137773]), 'test_precision_macro': array([0.70788009, 0.70285608, 0.71000769, 0.70038787, 0.71930439,\n",
      "       0.74615385, 0.69444971, 0.72340667, 0.73019547, 0.70690747]), 'train_precision_macro': array([0.75587324, 0.74906947, 0.75401253, 0.75462032, 0.75571389,\n",
      "       0.75105492, 0.7483037 , 0.74937041, 0.76105824, 0.75191811]), 'test_recall_macro': array([0.5673158 , 0.56430375, 0.56332841, 0.56042753, 0.55814697,\n",
      "       0.55920944, 0.55568297, 0.5686055 , 0.56870751, 0.5624703 ]), 'train_recall_macro': array([0.57744751, 0.5808406 , 0.57892136, 0.58143507, 0.57105518,\n",
      "       0.56405452, 0.57581055, 0.57670758, 0.58288779, 0.57941105]), 'test_neg_log_loss': array([-0.46067276, -0.46677593, -0.46302895, -0.45984534, -0.46103123,\n",
      "       -0.45325473, -0.46096512, -0.44947771, -0.45075623, -0.46432964]), 'train_neg_log_loss': array([-0.44427128, -0.44194698, -0.44303312, -0.44321801, -0.44437134,\n",
      "       -0.44789396, -0.44501971, -0.44496539, -0.44471122, -0.44423812])}\n",
      "results\n"
     ]
    }
   ],
   "source": [
    "# grid search in a pipeline GradientBoostingClassifier \n",
    "\n",
    "#Create pipeline and gridsearch\n",
    "modelGBC = GradientBoostingClassifier(learning_rate=0.1, min_samples_split=500,\n",
    "                                  min_samples_leaf=50,max_depth=8,max_features='sqrt', subsample=0.8,random_state=10)\n",
    "\n",
    "param_GBC = {'n_estimators':range(20,81,10)}\n",
    "\n",
    "grid = GridSearchCV(modelGBC, param_GBC, cv=5, verbose=0)\n",
    "\n",
    "scoring = ['accuracy', 'precision_macro', 'recall_macro', 'neg_log_loss']\n",
    "\n",
    "# create a pipeline that standardizes, then runs logistic regression\n",
    "#pipeline=make_pipeline(standardizer, grid)\n",
    "pipeline=make_pipeline(grid)\n",
    "# create k-fold cross-validation\n",
    "skf= StratifiedKFold(n_splits=10, shuffle=True, random_state=1)\n",
    "# conduct a k-fold cross-validation\n",
    "cv_results=cross_validate(pipeline, # Pipeline\n",
    "                           Xp, # Feature matrix\n",
    "                           yP,#target vector\n",
    "                           cv=skf, # Cross-validation technique\n",
    "                           scoring = scoring, # Loss function\n",
    "                           n_jobs = -1)\n",
    "#print(cv_results.mean())\n",
    "print (cv_results)\n",
    "print(\"results\")"
   ]
  },
  {
   "cell_type": "code",
   "execution_count": null,
   "metadata": {},
   "outputs": [],
   "source": []
  },
  {
   "cell_type": "markdown",
   "metadata": {},
   "source": [
    "**Phase 2: Best subset of features with GridSearch and Stratified K-fold cross validation**"
   ]
  },
  {
   "cell_type": "code",
   "execution_count": 74,
   "metadata": {},
   "outputs": [
    {
     "name": "stdout",
     "output_type": "stream",
     "text": [
      "{'fit_time': array([68.99884987, 68.46028996, 68.33552408, 68.76437688, 78.3137548 ,\n",
      "       78.13866425, 77.09956384, 77.60637927, 51.9342916 , 52.01435399]), 'score_time': array([0.02991939, 0.0289247 , 0.03091669, 0.03989053, 0.02220821,\n",
      "       0.03034663, 0.02792478, 0.01915622, 0.03390527, 0.01894951]), 'test_accuracy': array([0.7994002 , 0.79606798, 0.80073309, 0.79473509, 0.80033333,\n",
      "       0.804     , 0.79693231, 0.80526842, 0.80026676, 0.79393131]), 'train_accuracy': array([0.80673358, 0.80895589, 0.80943739, 0.80777066, 0.80718519,\n",
      "       0.80592593, 0.80863672, 0.808933  , 0.80641458, 0.80941447]), 'test_precision_macro': array([0.72168221, 0.70906665, 0.72763244, 0.70710514, 0.72116889,\n",
      "       0.74710701, 0.70872846, 0.7402017 , 0.72450686, 0.70041181]), 'train_precision_macro': array([0.74624754, 0.74987923, 0.7486613 , 0.74804551, 0.7453082 ,\n",
      "       0.74716842, 0.74684093, 0.75162005, 0.74536397, 0.7524789 ]), 'test_recall_macro': array([0.59466331, 0.59198476, 0.59498005, 0.58573833, 0.60122597,\n",
      "       0.59333997, 0.59797529, 0.60386643, 0.59525474, 0.59118796]), 'train_recall_macro': array([0.60538922, 0.61197124, 0.61527762, 0.60839289, 0.60825304,\n",
      "       0.60103035, 0.61349822, 0.61039217, 0.60481975, 0.61172013]), 'test_neg_log_loss': array([-0.45561278, -0.45979305, -0.45724611, -0.45381389, -0.45452896,\n",
      "       -0.44496066, -0.45435623, -0.44240614, -0.44361729, -0.45741083]), 'train_neg_log_loss': array([-0.43775504, -0.43587393, -0.43628489, -0.43752369, -0.43701624,\n",
      "       -0.43838196, -0.43741869, -0.43760621, -0.43709753, -0.43624375])}\n",
      "results\n"
     ]
    }
   ],
   "source": [
    "# Best subset grid search in a pipeline GradientBoostingClassifier [classification metrics but not probability metrics]\n",
    "\n",
    "#Create pipeline and gridsearch\n",
    "modelGBC = GradientBoostingClassifier(learning_rate=0.1, min_samples_split=500,\n",
    "                                  min_samples_leaf=50,max_depth=8,max_features='sqrt', subsample=0.8,random_state=10)\n",
    "\n",
    "param_GBC = {'n_estimators':range(20,81,10)}\n",
    "\n",
    "grid = GridSearchCV(modelGBC, param_GBC, cv=5, verbose=0)\n",
    "\n",
    "scoring = ['accuracy', 'precision_macro', 'recall_macro', 'neg_log_loss']\n",
    "\n",
    "# create a pipeline that standardizes, then runs logistic regression\n",
    "#pipeline=make_pipeline(standardizer, grid)\n",
    "pipeline=make_pipeline(grid)\n",
    "# create k-fold cross-validation\n",
    "skf= StratifiedKFold(n_splits=10, shuffle=True, random_state=1)\n",
    "# conduct a k-fold cross-validation\n",
    "cv_results=cross_validate(pipeline, # Pipeline\n",
    "                           subset7, # Feature matrix\n",
    "                           yP,#target vector\n",
    "                           cv=skf, # Cross-validation technique\n",
    "                           scoring = scoring, # Loss function\n",
    "                           n_jobs = -1)\n",
    "#print(cv_results.mean())\n",
    "print (cv_results)\n",
    "print(\"results\")"
   ]
  },
  {
   "cell_type": "code",
   "execution_count": null,
   "metadata": {},
   "outputs": [],
   "source": []
  },
  {
   "cell_type": "markdown",
   "metadata": {},
   "source": [
    "**Tune the Hyperparameters of the Gradient Boosting Classifier in Multiple Steps**"
   ]
  },
  {
   "cell_type": "code",
   "execution_count": 135,
   "metadata": {},
   "outputs": [
    {
     "data": {
      "text/plain": [
       "GridSearchCV(cv=5, error_score='raise-deprecating',\n",
       "       estimator=GradientBoostingClassifier(criterion='friedman_mse', init=None,\n",
       "              learning_rate=0.1, loss='deviance', max_depth=8,\n",
       "              max_features='sqrt', max_leaf_nodes=None,\n",
       "              min_impurity_decrease=0.0, min_impurity_split=None,\n",
       "              min_samples_leaf=50, min_sa...      subsample=0.8, tol=0.0001, validation_fraction=0.1,\n",
       "              verbose=0, warm_start=False),\n",
       "       fit_params=None, iid=False, n_jobs=4,\n",
       "       param_grid={'n_estimators': range(20, 81, 10)},\n",
       "       pre_dispatch='2*n_jobs', refit=True, return_train_score='warn',\n",
       "       scoring='roc_auc', verbose=0)"
      ]
     },
     "execution_count": 135,
     "metadata": {},
     "output_type": "execute_result"
    }
   ],
   "source": [
    "# will run muliple grid searches tuning different paramaters with best subset\n",
    "# this first search tests for number of estimators\n",
    "\n",
    "param_test1 = {'n_estimators':range(20,81,10)}\n",
    "\n",
    "gsearch1 = GridSearchCV(estimator = GradientBoostingClassifier(learning_rate=0.1, min_samples_split=500,min_samples_leaf=50,max_depth=8,max_features='sqrt',subsample=0.8,random_state=10), \n",
    "param_grid = param_test1, scoring='roc_auc',n_jobs=4,iid=False, cv=5)\n",
    "gsearch1.fit(subset7, yP)\n",
    "\n"
   ]
  },
  {
   "cell_type": "code",
   "execution_count": null,
   "metadata": {},
   "outputs": [],
   "source": []
  },
  {
   "cell_type": "code",
   "execution_count": 137,
   "metadata": {},
   "outputs": [
    {
     "data": {
      "text/plain": [
       "({'mean_fit_time': array([1.51573997, 2.00842562, 1.73942161, 2.14182711, 2.40237098,\n",
       "         2.71413798, 2.84190507]),\n",
       "  'std_fit_time': array([0.0496384 , 0.31983727, 0.03028193, 0.06410582, 0.05765335,\n",
       "         0.02046368, 0.28781283]),\n",
       "  'mean_score_time': array([0.02473478, 0.01894865, 0.01914492, 0.02234106, 0.0253324 ,\n",
       "         0.02793131, 0.02592916]),\n",
       "  'std_score_time': array([0.01123739, 0.00302422, 0.00160199, 0.00195363, 0.00337167,\n",
       "         0.00274978, 0.00432657]),\n",
       "  'param_n_estimators': masked_array(data=[20, 30, 40, 50, 60, 70, 80],\n",
       "               mask=[False, False, False, False, False, False, False],\n",
       "         fill_value='?',\n",
       "              dtype=object),\n",
       "  'params': [{'n_estimators': 20},\n",
       "   {'n_estimators': 30},\n",
       "   {'n_estimators': 40},\n",
       "   {'n_estimators': 50},\n",
       "   {'n_estimators': 60},\n",
       "   {'n_estimators': 70},\n",
       "   {'n_estimators': 80}],\n",
       "  'split0_test_score': array([0.72988936, 0.74237666, 0.74551351, 0.74938992, 0.74653104,\n",
       "         0.74362454, 0.74551657]),\n",
       "  'split1_test_score': array([0.86269049, 0.85352256, 0.84442042, 0.83603719, 0.82974425,\n",
       "         0.82066662, 0.81237628]),\n",
       "  'split2_test_score': array([0.7647512 , 0.7728015 , 0.76912335, 0.76742526, 0.76598357,\n",
       "         0.76198813, 0.75860807]),\n",
       "  'split3_test_score': array([0.63446838, 0.63174998, 0.62863883, 0.6247978 , 0.62401245,\n",
       "         0.62491366, 0.62490496]),\n",
       "  'split4_test_score': array([0.66112093, 0.66204024, 0.66321827, 0.6638187 , 0.663677  ,\n",
       "         0.66094173, 0.65912197]),\n",
       "  'mean_test_score': array([0.73058407, 0.73249819, 0.73018288, 0.72829377, 0.72598966,\n",
       "         0.72242694, 0.72010557]),\n",
       "  'std_test_score': array([0.08084966, 0.07935158, 0.07693771, 0.07543662, 0.07357811,\n",
       "         0.07064663, 0.06844589]),\n",
       "  'rank_test_score': array([2, 1, 3, 4, 5, 6, 7]),\n",
       "  'split0_train_score': array([0.82498594, 0.83256833, 0.83771459, 0.84402426, 0.84975528,\n",
       "         0.85455011, 0.85790376]),\n",
       "  'split1_train_score': array([0.74986906, 0.7583335 , 0.76671663, 0.77169152, 0.77603282,\n",
       "         0.78248064, 0.78950455]),\n",
       "  'split2_train_score': array([0.7720848 , 0.77901845, 0.78481404, 0.78711453, 0.79155881,\n",
       "         0.79730786, 0.80109773]),\n",
       "  'split3_train_score': array([0.81922516, 0.82586848, 0.8301085 , 0.83513671, 0.83793844,\n",
       "         0.8405897 , 0.84294587]),\n",
       "  'split4_train_score': array([0.81847211, 0.82452967, 0.8293866 , 0.83179916, 0.83550421,\n",
       "         0.83846067, 0.84099613]),\n",
       "  'mean_train_score': array([0.79692741, 0.80406369, 0.80974807, 0.81395324, 0.81815791,\n",
       "         0.8226778 , 0.82648961]),\n",
       "  'std_train_score': array([0.03026644, 0.02975007, 0.02848071, 0.02890624, 0.02888803,\n",
       "         0.02773166, 0.02638461])},\n",
       " {'n_estimators': 30},\n",
       " 0.7324981894665531)"
      ]
     },
     "execution_count": 137,
     "metadata": {},
     "output_type": "execute_result"
    }
   ],
   "source": [
    "# this shows that the optimal number of estimators is 30; so below use 30 for n_estimators\n",
    "gsearch1.cv_results_, gsearch1.best_params_, gsearch1.best_score_"
   ]
  },
  {
   "cell_type": "code",
   "execution_count": 138,
   "metadata": {},
   "outputs": [
    {
     "data": {
      "text/plain": [
       "({'mean_fit_time': array([1.95796199, 1.91966152, 1.89672427, 2.01800027, 1.87458458,\n",
       "         2.51387634, 2.44086914, 3.05881681, 3.28820024, 2.68900547,\n",
       "         3.91316414, 3.15415854, 2.60962071, 2.83002915, 2.46480894,\n",
       "         3.50721483, 3.35103459, 3.32290764, 2.93893771, 2.82624135,\n",
       "         4.31425529, 3.98193979, 3.96060748, 3.96858153, 3.51639256,\n",
       "         4.88772359, 5.13246741, 4.47263174, 5.09098325, 4.31545482]),\n",
       "  'std_fit_time': array([0.04234898, 0.05444636, 0.07532702, 0.0884286 , 0.03394227,\n",
       "         0.04165163, 0.08850959, 0.33341182, 0.4670742 , 0.14833003,\n",
       "         0.11396859, 0.39798636, 0.06897823, 0.1018066 , 0.03198859,\n",
       "         0.06318975, 0.22501457, 0.18292399, 0.0454225 , 0.04309671,\n",
       "         0.16600748, 0.10495771, 0.23186287, 0.34908043, 0.23188996,\n",
       "         0.35109763, 0.10069708, 0.2342135 , 0.09133272, 0.50314173]),\n",
       "  'mean_score_time': array([0.01835308, 0.02134438, 0.0177527 , 0.0197474 , 0.01914911,\n",
       "         0.02513056, 0.02353759, 0.02752562, 0.02393699, 0.02812514,\n",
       "         0.03390884, 0.02732697, 0.02453165, 0.02972116, 0.02374191,\n",
       "         0.03071799, 0.03470736, 0.02952747, 0.03011918, 0.02712407,\n",
       "         0.0390975 , 0.03889685, 0.04168329, 0.03829737, 0.03032141,\n",
       "         0.04926782, 0.05545211, 0.04607501, 0.04846735, 0.03889561]),\n",
       "  'std_score_time': array([0.0011937 , 0.003432  , 0.00074668, 0.00203437, 0.00146542,\n",
       "         0.00231038, 0.00149359, 0.00411709, 0.00167021, 0.00709157,\n",
       "         0.00282047, 0.00264592, 0.00135145, 0.00547814, 0.00212523,\n",
       "         0.00074575, 0.0054043 , 0.00161564, 0.00324138, 0.0017183 ,\n",
       "         0.00395845, 0.00520099, 0.00599568, 0.00938974, 0.00293089,\n",
       "         0.01932547, 0.01399925, 0.00662668, 0.00348207, 0.00588264]),\n",
       "  'param_max_depth': masked_array(data=[5, 5, 5, 5, 5, 7, 7, 7, 7, 7, 9, 9, 9, 9, 9, 11, 11,\n",
       "                     11, 11, 11, 13, 13, 13, 13, 13, 15, 15, 15, 15, 15],\n",
       "               mask=[False, False, False, False, False, False, False, False,\n",
       "                     False, False, False, False, False, False, False, False,\n",
       "                     False, False, False, False, False, False, False, False,\n",
       "                     False, False, False, False, False, False],\n",
       "         fill_value='?',\n",
       "              dtype=object),\n",
       "  'param_min_samples_split': masked_array(data=[200, 400, 600, 800, 1000, 200, 400, 600, 800, 1000,\n",
       "                     200, 400, 600, 800, 1000, 200, 400, 600, 800, 1000,\n",
       "                     200, 400, 600, 800, 1000, 200, 400, 600, 800, 1000],\n",
       "               mask=[False, False, False, False, False, False, False, False,\n",
       "                     False, False, False, False, False, False, False, False,\n",
       "                     False, False, False, False, False, False, False, False,\n",
       "                     False, False, False, False, False, False],\n",
       "         fill_value='?',\n",
       "              dtype=object),\n",
       "  'params': [{'max_depth': 5, 'min_samples_split': 200},\n",
       "   {'max_depth': 5, 'min_samples_split': 400},\n",
       "   {'max_depth': 5, 'min_samples_split': 600},\n",
       "   {'max_depth': 5, 'min_samples_split': 800},\n",
       "   {'max_depth': 5, 'min_samples_split': 1000},\n",
       "   {'max_depth': 7, 'min_samples_split': 200},\n",
       "   {'max_depth': 7, 'min_samples_split': 400},\n",
       "   {'max_depth': 7, 'min_samples_split': 600},\n",
       "   {'max_depth': 7, 'min_samples_split': 800},\n",
       "   {'max_depth': 7, 'min_samples_split': 1000},\n",
       "   {'max_depth': 9, 'min_samples_split': 200},\n",
       "   {'max_depth': 9, 'min_samples_split': 400},\n",
       "   {'max_depth': 9, 'min_samples_split': 600},\n",
       "   {'max_depth': 9, 'min_samples_split': 800},\n",
       "   {'max_depth': 9, 'min_samples_split': 1000},\n",
       "   {'max_depth': 11, 'min_samples_split': 200},\n",
       "   {'max_depth': 11, 'min_samples_split': 400},\n",
       "   {'max_depth': 11, 'min_samples_split': 600},\n",
       "   {'max_depth': 11, 'min_samples_split': 800},\n",
       "   {'max_depth': 11, 'min_samples_split': 1000},\n",
       "   {'max_depth': 13, 'min_samples_split': 200},\n",
       "   {'max_depth': 13, 'min_samples_split': 400},\n",
       "   {'max_depth': 13, 'min_samples_split': 600},\n",
       "   {'max_depth': 13, 'min_samples_split': 800},\n",
       "   {'max_depth': 13, 'min_samples_split': 1000},\n",
       "   {'max_depth': 15, 'min_samples_split': 200},\n",
       "   {'max_depth': 15, 'min_samples_split': 400},\n",
       "   {'max_depth': 15, 'min_samples_split': 600},\n",
       "   {'max_depth': 15, 'min_samples_split': 800},\n",
       "   {'max_depth': 15, 'min_samples_split': 1000}],\n",
       "  'split0_test_score': array([0.7515397 , 0.76400356, 0.76227129, 0.75725401, 0.75083004,\n",
       "         0.75045434, 0.75878573, 0.74778866, 0.74482431, 0.74898457,\n",
       "         0.75665432, 0.75582203, 0.74891101, 0.75560054, 0.76563777,\n",
       "         0.74687999, 0.74987834, 0.74492519, 0.73391853, 0.73929742,\n",
       "         0.74863949, 0.75816582, 0.74951867, 0.75097458, 0.74763397,\n",
       "         0.74389904, 0.74124505, 0.75228329, 0.7528957 , 0.7454808 ]),\n",
       "  'split1_test_score': array([0.85576895, 0.85835882, 0.86844087, 0.86324137, 0.86751337,\n",
       "         0.82942995, 0.84494275, 0.843227  , 0.84944955, 0.85229084,\n",
       "         0.8008465 , 0.81416855, 0.8254566 , 0.83250813, 0.84319531,\n",
       "         0.78379428, 0.80643876, 0.81894869, 0.82374448, 0.82736522,\n",
       "         0.76545503, 0.79257406, 0.80739706, 0.81646299, 0.83240895,\n",
       "         0.75843221, 0.78695196, 0.80573307, 0.80683063, 0.8218311 ]),\n",
       "  'split2_test_score': array([0.77836175, 0.78324752, 0.78424114, 0.78625604, 0.79296375,\n",
       "         0.76968317, 0.77301123, 0.78628805, 0.79866873, 0.79081944,\n",
       "         0.7481323 , 0.7673639 , 0.77126403, 0.78126633, 0.78235348,\n",
       "         0.74608193, 0.76566766, 0.77045304, 0.77200277, 0.7727341 ,\n",
       "         0.73843188, 0.75648094, 0.75904815, 0.76967148, 0.77265992,\n",
       "         0.72243537, 0.7440801 , 0.75357749, 0.76887436, 0.76966181]),\n",
       "  'split3_test_score': array([0.62831533, 0.62751168, 0.63082095, 0.62773705, 0.62685793,\n",
       "         0.62293925, 0.6276652 , 0.62468999, 0.62492681, 0.62786203,\n",
       "         0.62749943, 0.62650283, 0.62587866, 0.63136811, 0.62330741,\n",
       "         0.6258506 , 0.62342699, 0.6263356 , 0.6246167 , 0.62623013,\n",
       "         0.62103063, 0.62284378, 0.6225273 , 0.62401011, 0.624466  ,\n",
       "         0.60825025, 0.62015981, 0.61779699, 0.62424362, 0.62822995]),\n",
       "  'split4_test_score': array([0.65717423, 0.65899519, 0.66071438, 0.6603017 , 0.66050993,\n",
       "         0.65747981, 0.66137376, 0.6566405 , 0.66247655, 0.66006951,\n",
       "         0.64984514, 0.65303253, 0.66304028, 0.65834388, 0.661837  ,\n",
       "         0.64887324, 0.65104011, 0.65516326, 0.65828275, 0.66015871,\n",
       "         0.63785916, 0.65859994, 0.65130947, 0.65589305, 0.65804007,\n",
       "         0.64052604, 0.65150626, 0.6545738 , 0.65577869, 0.66034049]),\n",
       "  'mean_test_score': array([0.73423199, 0.73842336, 0.74129773, 0.73895803, 0.739735  ,\n",
       "         0.7259973 , 0.73315574, 0.73172684, 0.73606919, 0.73600528,\n",
       "         0.71659554, 0.72337797, 0.72691012, 0.7318174 , 0.7352662 ,\n",
       "         0.71029601, 0.71929037, 0.72316516, 0.72251304, 0.72515712,\n",
       "         0.70228324, 0.71773291, 0.71796013, 0.72340244, 0.72704178,\n",
       "         0.69470858, 0.70878863, 0.71679293, 0.7217246 , 0.72510883]),\n",
       "  'std_test_score': array([0.08267341, 0.08444916, 0.08619536, 0.08552791, 0.0875232 ,\n",
       "         0.07552552, 0.07876877, 0.08094694, 0.08320934, 0.08265179,\n",
       "         0.06646989, 0.07150326, 0.0727316 , 0.07568074, 0.08088876,\n",
       "         0.06152203, 0.07004171, 0.07195047, 0.07285101, 0.07337759,\n",
       "         0.06033034, 0.06517374, 0.06961733, 0.07210779, 0.07601358,\n",
       "         0.05943058, 0.0625216 , 0.06956211, 0.06969818, 0.07118376]),\n",
       "  'rank_test_score': array([ 8,  4,  1,  3,  2, 14,  9, 11,  5,  6, 26, 18, 13, 10,  7, 27, 22,\n",
       "         19, 20, 15, 29, 24, 23, 17, 12, 30, 28, 25, 21, 16]),\n",
       "  'split0_train_score': array([0.82885806, 0.82700281, 0.82216015, 0.82035136, 0.81715138,\n",
       "         0.86025431, 0.85290846, 0.84383398, 0.83990895, 0.83492347,\n",
       "         0.89218809, 0.8753806 , 0.86602647, 0.85685931, 0.84981715,\n",
       "         0.91410726, 0.89915481, 0.88071351, 0.87128576, 0.86066118,\n",
       "         0.93727109, 0.90674005, 0.89891998, 0.88560015, 0.87162991,\n",
       "         0.95148101, 0.92875971, 0.90687124, 0.89648628, 0.88442471]),\n",
       "  'split1_train_score': array([0.75287172, 0.74934887, 0.74439877, 0.74255849, 0.73728876,\n",
       "         0.78890199, 0.77583932, 0.76846088, 0.76232868, 0.75517477,\n",
       "         0.82039869, 0.80168091, 0.79016529, 0.78299447, 0.77139192,\n",
       "         0.85326585, 0.82072115, 0.80948039, 0.79921386, 0.78467781,\n",
       "         0.88407085, 0.84538075, 0.82310215, 0.80891977, 0.79593959,\n",
       "         0.90025419, 0.85952916, 0.8374041 , 0.81709508, 0.80409761]),\n",
       "  'split2_train_score': array([0.76850535, 0.76559061, 0.76306859, 0.7602632 , 0.76089085,\n",
       "         0.79639067, 0.78672743, 0.7837716 , 0.77711755, 0.77472574,\n",
       "         0.82665793, 0.81021738, 0.79901116, 0.79138565, 0.78823861,\n",
       "         0.8561929 , 0.83251847, 0.81223145, 0.8076119 , 0.79955901,\n",
       "         0.8813066 , 0.8478277 , 0.83106287, 0.81103498, 0.80828265,\n",
       "         0.89593761, 0.85803468, 0.84238474, 0.82486091, 0.81928308]),\n",
       "  'split3_train_score': array([0.81920772, 0.81773861, 0.81535915, 0.8133252 , 0.81194637,\n",
       "         0.84761031, 0.83714992, 0.83201313, 0.82852558, 0.82354025,\n",
       "         0.87114929, 0.85604449, 0.84661144, 0.8408515 , 0.83596927,\n",
       "         0.8929023 , 0.87545523, 0.86038457, 0.84886181, 0.84517606,\n",
       "         0.91325063, 0.88617958, 0.87116122, 0.86013006, 0.85257083,\n",
       "         0.92999352, 0.89639615, 0.88026662, 0.86601136, 0.85836734]),\n",
       "  'split4_train_score': array([0.82017956, 0.81547243, 0.81322631, 0.81170158, 0.80964404,\n",
       "         0.84500764, 0.83502862, 0.83102997, 0.82573967, 0.82336753,\n",
       "         0.86873008, 0.85272341, 0.8464068 , 0.83679629, 0.83416392,\n",
       "         0.88785401, 0.86850674, 0.85709703, 0.85008698, 0.84230887,\n",
       "         0.91201015, 0.88308332, 0.87102704, 0.85978233, 0.85226945,\n",
       "         0.91989184, 0.89480211, 0.87861265, 0.86879164, 0.85684718]),\n",
       "  'mean_train_score': array([0.79792448, 0.79503067, 0.7916426 , 0.78963997, 0.78738428,\n",
       "         0.82763299, 0.81753075, 0.81182191, 0.80672409, 0.80234635,\n",
       "         0.85582481, 0.83920936, 0.82964423, 0.82177744, 0.81591617,\n",
       "         0.88086446, 0.85927128, 0.84398139, 0.83541206, 0.82647659,\n",
       "         0.90558186, 0.87384228, 0.85905465, 0.84509346, 0.83613848,\n",
       "         0.91951164, 0.88750436, 0.86910787, 0.85464905, 0.84460398]),\n",
       "  'std_train_score': array([0.03098512, 0.03133458, 0.0316484 , 0.03184511, 0.03223767,\n",
       "         0.02912489, 0.03042923, 0.0298945 , 0.03093746, 0.03143373,\n",
       "         0.0276745 , 0.02836663, 0.02962941, 0.02914756, 0.03043958,\n",
       "         0.02310505, 0.02877407, 0.02824433, 0.02744569, 0.02912254,\n",
       "         0.02076705, 0.02369256, 0.0281257 , 0.03017008, 0.02891979,\n",
       "         0.02029108, 0.02640227, 0.02592368, 0.0295875 , 0.02900666])},\n",
       " {'max_depth': 5, 'min_samples_split': 600},\n",
       " 0.741297726609789)"
      ]
     },
     "execution_count": 138,
     "metadata": {},
     "output_type": "execute_result"
    }
   ],
   "source": [
    "# will run muliple grid searches tuning different paramaters with best subset\n",
    "# this second search tests for max depth and minimum sample split\n",
    "\n",
    "param_test2 = {'max_depth':range(5,16,2), 'min_samples_split':range(200,1001,200)}\n",
    "gsearch2 = GridSearchCV(estimator = GradientBoostingClassifier(learning_rate=0.1, n_estimators=60, max_features='sqrt', \n",
    "                                                               subsample=0.8, random_state=10), \n",
    "param_grid = param_test2, scoring='roc_auc',n_jobs=4,iid=False, cv=5)\n",
    "gsearch2.fit(subset7, yP)\n",
    "gsearch2.cv_results_, gsearch2.best_params_, gsearch2.best_score_\n",
    "\n",
    "\n"
   ]
  },
  {
   "cell_type": "code",
   "execution_count": null,
   "metadata": {},
   "outputs": [],
   "source": []
  },
  {
   "cell_type": "code",
   "execution_count": 140,
   "metadata": {
    "scrolled": true
   },
   "outputs": [
    {
     "data": {
      "text/plain": [
       "({'mean_fit_time': array([0.86707883, 0.87825289, 0.85710731, 0.85790539, 0.87944722,\n",
       "         0.86368918, 0.87785144, 0.86647987, 0.98616018, 1.0128911 ,\n",
       "         0.9023808 , 0.85331597, 0.90517755, 0.87985072, 0.77293477]),\n",
       "  'std_fit_time': array([0.01230689, 0.01374452, 0.02061888, 0.01383907, 0.02296256,\n",
       "         0.00848736, 0.01346079, 0.02403024, 0.02959577, 0.02841641,\n",
       "         0.01656853, 0.01519902, 0.01583933, 0.01918352, 0.06281139]),\n",
       "  'mean_score_time': array([0.01256638, 0.0121644 , 0.01336417, 0.01256804, 0.01256676,\n",
       "         0.01356258, 0.01276693, 0.01336365, 0.01336398, 0.01356273,\n",
       "         0.01236663, 0.0141623 , 0.01216888, 0.01296043, 0.01196761]),\n",
       "  'std_score_time': array([0.00135263, 0.000744  , 0.00048815, 0.00048973, 0.00135176,\n",
       "         0.00184915, 0.00074619, 0.00299802, 0.0007972 , 0.00135386,\n",
       "         0.00079746, 0.00132295, 0.00074425, 0.0006309 , 0.00126226]),\n",
       "  'param_min_samples_leaf': masked_array(data=[30, 30, 30, 40, 40, 40, 50, 50, 50, 60, 60, 60, 70, 70,\n",
       "                     70],\n",
       "               mask=[False, False, False, False, False, False, False, False,\n",
       "                     False, False, False, False, False, False, False],\n",
       "         fill_value='?',\n",
       "              dtype=object),\n",
       "  'param_min_samples_split': masked_array(data=[600, 800, 1000, 600, 800, 1000, 600, 800, 1000, 600,\n",
       "                     800, 1000, 600, 800, 1000],\n",
       "               mask=[False, False, False, False, False, False, False, False,\n",
       "                     False, False, False, False, False, False, False],\n",
       "         fill_value='?',\n",
       "              dtype=object),\n",
       "  'params': [{'min_samples_leaf': 30, 'min_samples_split': 600},\n",
       "   {'min_samples_leaf': 30, 'min_samples_split': 800},\n",
       "   {'min_samples_leaf': 30, 'min_samples_split': 1000},\n",
       "   {'min_samples_leaf': 40, 'min_samples_split': 600},\n",
       "   {'min_samples_leaf': 40, 'min_samples_split': 800},\n",
       "   {'min_samples_leaf': 40, 'min_samples_split': 1000},\n",
       "   {'min_samples_leaf': 50, 'min_samples_split': 600},\n",
       "   {'min_samples_leaf': 50, 'min_samples_split': 800},\n",
       "   {'min_samples_leaf': 50, 'min_samples_split': 1000},\n",
       "   {'min_samples_leaf': 60, 'min_samples_split': 600},\n",
       "   {'min_samples_leaf': 60, 'min_samples_split': 800},\n",
       "   {'min_samples_leaf': 60, 'min_samples_split': 1000},\n",
       "   {'min_samples_leaf': 70, 'min_samples_split': 600},\n",
       "   {'min_samples_leaf': 70, 'min_samples_split': 800},\n",
       "   {'min_samples_leaf': 70, 'min_samples_split': 1000}],\n",
       "  'split0_test_score': array([0.76197584, 0.74569165, 0.7455857 , 0.7525586 , 0.75138807,\n",
       "         0.73654045, 0.76708441, 0.74808605, 0.73465849, 0.7596969 ,\n",
       "         0.75209024, 0.73650782, 0.76478783, 0.7501493 , 0.74227514]),\n",
       "  'split1_test_score': array([0.88294232, 0.88035333, 0.88774044, 0.88768827, 0.8830531 ,\n",
       "         0.88328226, 0.88555316, 0.88016723, 0.88568741, 0.88500107,\n",
       "         0.87886004, 0.8780422 , 0.87765509, 0.88195281, 0.88052636]),\n",
       "  'split2_test_score': array([0.78547762, 0.794779  , 0.7977867 , 0.78670064, 0.78920738,\n",
       "         0.79627995, 0.78770603, 0.79256841, 0.79750901, 0.78877028,\n",
       "         0.78666524, 0.8003407 , 0.7828738 , 0.7899279 , 0.80041496]),\n",
       "  'split3_test_score': array([0.63830869, 0.63537113, 0.63302323, 0.63699166, 0.63776104,\n",
       "         0.63425374, 0.6341761 , 0.63579275, 0.63318087, 0.63542588,\n",
       "         0.63541999, 0.63169088, 0.63491879, 0.63413247, 0.63473334]),\n",
       "  'split4_test_score': array([0.65847856, 0.65982708, 0.657309  , 0.66264881, 0.65850824,\n",
       "         0.65933271, 0.66045719, 0.6577945 , 0.65763457, 0.65702818,\n",
       "         0.65661163, 0.66002677, 0.65836025, 0.65796289, 0.66150812]),\n",
       "  'mean_test_score': array([0.74543661, 0.74320444, 0.74428901, 0.7453176 , 0.74398357,\n",
       "         0.74193782, 0.74699538, 0.74288179, 0.74173407, 0.74518446,\n",
       "         0.74192943, 0.74132167, 0.74371915, 0.74282508, 0.74389158]),\n",
       "  'std_test_score': array([0.08924432, 0.08950502, 0.0931532 , 0.09011441, 0.08947582,\n",
       "         0.09097243, 0.09107824, 0.08949977, 0.09245539, 0.09107963,\n",
       "         0.08885709, 0.09036226, 0.08836229, 0.09016043, 0.09007677]),\n",
       "  'rank_test_score': array([ 2,  9,  5,  3,  6, 12,  1, 10, 14,  4, 13, 15,  8, 11,  7]),\n",
       "  'split0_train_score': array([0.80985803, 0.80584224, 0.80333139, 0.80803173, 0.80659309,\n",
       "         0.80398503, 0.809524  , 0.80510517, 0.8032916 , 0.80882245,\n",
       "         0.80662148, 0.80425778, 0.80860516, 0.805783  , 0.80469217]),\n",
       "  'split1_train_score': array([0.73114953, 0.72990157, 0.72548573, 0.73075553, 0.72802744,\n",
       "         0.72583762, 0.73062738, 0.72703472, 0.72548919, 0.73183396,\n",
       "         0.72935361, 0.72658799, 0.73091966, 0.72976712, 0.72660997]),\n",
       "  'split2_train_score': array([0.75586512, 0.75385622, 0.75303143, 0.75413572, 0.75333463,\n",
       "         0.75328374, 0.75462355, 0.75361009, 0.7527444 , 0.75489673,\n",
       "         0.75436782, 0.7515049 , 0.7554956 , 0.75393018, 0.75142029]),\n",
       "  'split3_train_score': array([0.8045775 , 0.80348233, 0.80305475, 0.80442161, 0.80283486,\n",
       "         0.80336773, 0.80454301, 0.8024914 , 0.80159121, 0.80477135,\n",
       "         0.80249231, 0.80120356, 0.80404703, 0.80302193, 0.80093645]),\n",
       "  'split4_train_score': array([0.80510351, 0.80334677, 0.80054534, 0.80540733, 0.80440109,\n",
       "         0.80134247, 0.80509809, 0.80410446, 0.80172067, 0.80370857,\n",
       "         0.80111342, 0.8016835 , 0.80362936, 0.80214672, 0.80223073]),\n",
       "  'mean_train_score': array([0.78131074, 0.77928583, 0.77708973, 0.78055038, 0.77903822,\n",
       "         0.77756332, 0.78088321, 0.77846917, 0.77696741, 0.78080661,\n",
       "         0.77878973, 0.77704755, 0.78053936, 0.77892979, 0.77717792]),\n",
       "  'std_train_score': array([0.03189361, 0.03148051, 0.0321084 , 0.03200059, 0.03234687,\n",
       "         0.03223187, 0.03219211, 0.03227131, 0.03208981, 0.03147487,\n",
       "         0.03122539, 0.03202947, 0.03150477, 0.031249  , 0.03215499])},\n",
       " {'min_samples_leaf': 50, 'min_samples_split': 600},\n",
       " 0.7469953768058473)"
      ]
     },
     "execution_count": 140,
     "metadata": {},
     "output_type": "execute_result"
    }
   ],
   "source": [
    "# will run muliple grid searches tuning different paramaters with best subset\n",
    "# the above second search shows the best max-depth of 5 and min_samples_split of 600; will the max_depth value here and\n",
    "# do a third grid search for other paramaters and test a higher value for min_smaples_split\n",
    "\n",
    "param_test3 = {'min_samples_split':range(600,1200,200), 'min_samples_leaf':range(30,71,10)}\n",
    "gsearch3 = GridSearchCV(estimator = GradientBoostingClassifier(learning_rate=0.1, n_estimators=30,max_depth=5,\n",
    "                                                               max_features='sqrt', subsample=0.8, random_state=10),\n",
    "param_grid = param_test3, scoring='roc_auc',n_jobs=4,iid=False, cv=5)\n",
    "gsearch3.fit(subset7, yP)\n",
    "gsearch3.cv_results_, gsearch3.best_params_, gsearch3.best_score_\n"
   ]
  },
  {
   "cell_type": "code",
   "execution_count": null,
   "metadata": {},
   "outputs": [],
   "source": []
  },
  {
   "cell_type": "code",
   "execution_count": 146,
   "metadata": {},
   "outputs": [
    {
     "data": {
      "text/plain": [
       "({'mean_fit_time': array([0.84992447, 0.84434085, 0.85192132, 0.86289177, 0.88902225,\n",
       "         0.81142826]),\n",
       "  'std_fit_time': array([0.03369336, 0.01810264, 0.03338025, 0.0125274 , 0.01723638,\n",
       "         0.08607607]),\n",
       "  'mean_score_time': array([0.01416297, 0.01515851, 0.01296549, 0.01456103, 0.01296458,\n",
       "         0.01117153]),\n",
       "  'std_score_time': array([0.00074586, 0.00544013, 0.00209219, 0.00522359, 0.0012615 ,\n",
       "         0.00171754]),\n",
       "  'param_subsample': masked_array(data=[0.6, 0.7, 0.75, 0.8, 0.85, 0.9],\n",
       "               mask=[False, False, False, False, False, False],\n",
       "         fill_value='?',\n",
       "              dtype=object),\n",
       "  'params': [{'subsample': 0.6},\n",
       "   {'subsample': 0.7},\n",
       "   {'subsample': 0.75},\n",
       "   {'subsample': 0.8},\n",
       "   {'subsample': 0.85},\n",
       "   {'subsample': 0.9}],\n",
       "  'split0_test_score': array([0.74626137, 0.73915722, 0.75611538, 0.76708441, 0.74206969,\n",
       "         0.74462015]),\n",
       "  'split1_test_score': array([0.88964261, 0.87663833, 0.88439384, 0.88555316, 0.88134703,\n",
       "         0.87767016]),\n",
       "  'split2_test_score': array([0.7957681 , 0.79121421, 0.79223533, 0.78770603, 0.78385298,\n",
       "         0.78213102]),\n",
       "  'split3_test_score': array([0.63208323, 0.63382495, 0.63530268, 0.6341761 , 0.63959564,\n",
       "         0.63655504]),\n",
       "  'split4_test_score': array([0.65347916, 0.65854518, 0.65951094, 0.66045719, 0.65475357,\n",
       "         0.65927367]),\n",
       "  'mean_test_score': array([0.74344689, 0.73987598, 0.74551163, 0.74699538, 0.74032378,\n",
       "         0.74005001]),\n",
       "  'std_test_score': array([0.09446129, 0.08854557, 0.09069283, 0.09107824, 0.08860453,\n",
       "         0.08714015]),\n",
       "  'rank_test_score': array([3, 6, 2, 1, 4, 5]),\n",
       "  'split0_train_score': array([0.80426107, 0.80630038, 0.80723385, 0.809524  , 0.80893305,\n",
       "         0.80861363]),\n",
       "  'split1_train_score': array([0.72673402, 0.73141388, 0.72949334, 0.73062738, 0.73246956,\n",
       "         0.7308202 ]),\n",
       "  'split2_train_score': array([0.75248882, 0.75424191, 0.75514176, 0.75462355, 0.75524457,\n",
       "         0.75547768]),\n",
       "  'split3_train_score': array([0.80092076, 0.80303329, 0.80407981, 0.80454301, 0.8053826 ,\n",
       "         0.80539949]),\n",
       "  'split4_train_score': array([0.80300398, 0.80371991, 0.80425043, 0.80509809, 0.8024139 ,\n",
       "         0.80388245]),\n",
       "  'mean_train_score': array([0.77748173, 0.77974187, 0.78003984, 0.78088321, 0.78088874,\n",
       "         0.78083869]),\n",
       "  'std_train_score': array([0.03199338, 0.03101172, 0.03186989, 0.03219211, 0.03115062,\n",
       "         0.03178278])},\n",
       " {'subsample': 0.8},\n",
       " 0.7469953768058473)"
      ]
     },
     "execution_count": 146,
     "metadata": {},
     "output_type": "execute_result"
    }
   ],
   "source": [
    "# will run muliple grid searches tuning different paramaters with best subset\n",
    "# the above third search shows the best min_samples_leaf of 50 and again min_samples_split of 600; will these values here and\n",
    "# do a fourth grid search for other paramaters\n",
    "\n",
    "param_test4 = {'subsample':[0.6,0.7,0.75,0.8,0.85,0.9]}\n",
    "gsearch4 = GridSearchCV(estimator = GradientBoostingClassifier(learning_rate=0.1, n_estimators=30,max_depth=5,max_features='sqrt', \n",
    "                                                               min_samples_split=600, min_samples_leaf=50, subsample=0.8, \n",
    "                                                               random_state=10),\n",
    "param_grid = param_test4, scoring='roc_auc',n_jobs=4,iid=False, cv=5)\n",
    "gsearch4.fit(subset7, yP)\n",
    "gsearch4.cv_results_, gsearch4.best_params_, gsearch4.best_score_\n",
    "\n"
   ]
  },
  {
   "cell_type": "code",
   "execution_count": null,
   "metadata": {},
   "outputs": [],
   "source": []
  },
  {
   "cell_type": "code",
   "execution_count": 149,
   "metadata": {},
   "outputs": [
    {
     "data": {
      "text/plain": [
       "GradientBoostingClassifier(criterion='friedman_mse', init=None,\n",
       "              learning_rate=0.05, loss='deviance', max_depth=5,\n",
       "              max_features='sqrt', max_leaf_nodes=None,\n",
       "              min_impurity_decrease=0.0, min_impurity_split=None,\n",
       "              min_samples_leaf=50, min_samples_split=600,\n",
       "              min_weight_fraction_leaf=0.0, n_estimators=60,\n",
       "              n_iter_no_change=None, presort='auto', random_state=10,\n",
       "              subsample=0.8, tol=0.0001, validation_fraction=0.1,\n",
       "              verbose=0, warm_start=False)"
      ]
     },
     "execution_count": 149,
     "metadata": {},
     "output_type": "execute_result"
    }
   ],
   "source": [
    "# Now we need to lower the learning rate and increase the number of estimators proportionally. Note that these trees might not \n",
    "# be the most optimum values but a good benchmark.\n",
    "\n",
    "#Lets decrease the learning rate to half, i.e. 0.05 with twice (120) the number of trees.\n",
    "\n",
    "gbm_tuned_1 = GradientBoostingClassifier(learning_rate=0.05, n_estimators=60,max_depth=5,max_features='sqrt', min_samples_split=600, min_samples_leaf=50, subsample=0.8, random_state=10)\n",
    "gbm_tuned_1.fit(subset7, yP)\n",
    "gbm_tuned_1"
   ]
  },
  {
   "cell_type": "code",
   "execution_count": null,
   "metadata": {},
   "outputs": [],
   "source": []
  },
  {
   "cell_type": "markdown",
   "metadata": {},
   "source": [
    "### Probability Predictions and Classification Threshold Selection"
   ]
  },
  {
   "cell_type": "markdown",
   "metadata": {},
   "source": [
    "**Fit the model with best paramaters from the above GridSearch**"
   ]
  },
  {
   "cell_type": "code",
   "execution_count": null,
   "metadata": {},
   "outputs": [],
   "source": []
  },
  {
   "cell_type": "code",
   "execution_count": null,
   "metadata": {},
   "outputs": [],
   "source": [
    "# create a best subset features dataframe to use in fitting the model\n",
    "cat_features = ['SEX', 'EDUCATION', 'MARRIAGE']\n",
    "df_cat = df[cat_features]\n",
    "dfPCAsub7 = X.loc[:, ['PC7', 'PC1', 'PC8', 'PC2', 'PC4', 'PC3']]\n",
    "Xsub7 = pd.concat([dfPCAsub7, df_cat], axis=1)\n",
    "# create a whole target dataset that can be used for train and validation data splitting\n",
    "y =  df['default']"
   ]
  },
  {
   "cell_type": "code",
   "execution_count": 78,
   "metadata": {},
   "outputs": [],
   "source": [
    "\n",
    "# separate data into training and validation : best subset\n",
    "XTrain, XTest, yTrain, yTest = train_test_split(Xsub7, y, stratify=y, test_size =0.3, random_state=11)\n",
    "\n",
    "# fit the model with the best parameters from the tuning above\n",
    "gbc = GradientBoostingClassifier(learning_rate=0.01, n_estimators=300,max_depth=5,max_features='sqrt', min_samples_split=600, \n",
    "                                      min_samples_leaf=50, subsample=0.8, random_state=10).fit(XTrain, yTrain)\n"
   ]
  },
  {
   "cell_type": "code",
   "execution_count": null,
   "metadata": {},
   "outputs": [],
   "source": []
  },
  {
   "cell_type": "markdown",
   "metadata": {},
   "source": [
    "**Make probability predictions to choose best classification threshold for imbalanced target.**"
   ]
  },
  {
   "cell_type": "code",
   "execution_count": 79,
   "metadata": {},
   "outputs": [
    {
     "name": "stdout",
     "output_type": "stream",
     "text": [
      "Best Threshold=0.228647\n"
     ]
    }
   ],
   "source": [
    "# choose the threshold with the Receiver Operating Characteristic curve and Youden's J statistic\n",
    "\n",
    "# predict probabilities; the last part of this line keeps the probabilities for the positive outcome only\n",
    "GBpredprob=gbc.predict_proba(XTest)[:,1]\n",
    "\n",
    "# calculate roc curves\n",
    "fpr, tpr, thresholds = metrics.roc_curve(yTest, GBpredprob)\n",
    "\n",
    "# get the best threshold: Youden’s J statistic\n",
    "J = tpr - fpr\n",
    "from numpy import argmax\n",
    "ix = argmax(J)\n",
    "best_thresh = thresholds[ix]\n",
    "print('Best Threshold=%f' % (best_thresh))"
   ]
  },
  {
   "cell_type": "code",
   "execution_count": 82,
   "metadata": {},
   "outputs": [
    {
     "data": {
      "text/html": [
       "<div>\n",
       "<style scoped>\n",
       "    .dataframe tbody tr th:only-of-type {\n",
       "        vertical-align: middle;\n",
       "    }\n",
       "\n",
       "    .dataframe tbody tr th {\n",
       "        vertical-align: top;\n",
       "    }\n",
       "\n",
       "    .dataframe thead th {\n",
       "        text-align: right;\n",
       "    }\n",
       "</style>\n",
       "<table border=\"1\" class=\"dataframe\">\n",
       "  <thead>\n",
       "    <tr style=\"text-align: right;\">\n",
       "      <th></th>\n",
       "      <th>Pred 0(No Default)</th>\n",
       "      <th>Pred 1(Default)</th>\n",
       "    </tr>\n",
       "  </thead>\n",
       "  <tbody>\n",
       "    <tr>\n",
       "      <th>True 0(No Default)</th>\n",
       "      <td>TN = 5369 (TNR = 76.60%)</td>\n",
       "      <td>FP = 1640 (FPR = 23.40%)</td>\n",
       "    </tr>\n",
       "    <tr>\n",
       "      <th>True 1(Default)</th>\n",
       "      <td>FN = 748 (FNR = 37.57%)</td>\n",
       "      <td>TP = 1243 (TPR = 62.43%)</td>\n",
       "    </tr>\n",
       "  </tbody>\n",
       "</table>\n",
       "</div>"
      ],
      "text/plain": [
       "                          Pred 0(No Default)           Pred 1(Default)\n",
       "True 0(No Default)  TN = 5369 (TNR = 76.60%)  FP = 1640 (FPR = 23.40%)\n",
       "True 1(Default)      FN = 748 (FNR = 37.57%)  TP = 1243 (TPR = 62.43%)"
      ]
     },
     "execution_count": 82,
     "metadata": {},
     "output_type": "execute_result"
    }
   ],
   "source": [
    "# predprob are predicted possibilities for positive outcome prediction \n",
    "# allocate the probability predictions between 1 and 0 based on the best threshold\n",
    "GBpredprob_tuned_thresh = np.where(GBpredprob >= 0.228647, 1, 0)\n",
    "\n",
    "# custom confusion matrix with predictions (showing percentages)\n",
    "conf_matGBthresh = conf_matrix(yTest, GBpredprob_tuned_thresh)\n",
    "conf_matGBthresh"
   ]
  },
  {
   "cell_type": "code",
   "execution_count": null,
   "metadata": {},
   "outputs": [],
   "source": []
  },
  {
   "cell_type": "markdown",
   "metadata": {},
   "source": [
    "**Visualize Confusion Matrix**"
   ]
  },
  {
   "cell_type": "code",
   "execution_count": 83,
   "metadata": {},
   "outputs": [
    {
     "name": "stdout",
     "output_type": "stream",
     "text": [
      "[[5369 1640]\n",
      " [ 748 1243]]\n"
     ]
    }
   ],
   "source": [
    "# need a different format of confusion matrix for visualizing the confusion matrix of predictions\n",
    "from sklearn.metrics import confusion_matrix\n",
    "conf_matGBthresh = confusion_matrix(yTest, GBpredprob_tuned_thresh)\n",
    "print(conf_matGBthresh)"
   ]
  },
  {
   "cell_type": "code",
   "execution_count": 84,
   "metadata": {},
   "outputs": [
    {
     "data": {
      "text/plain": [
       "(array([0.5, 1.5]),\n",
       " [Text(0, 0.5, 'No Default Next Month'), Text(0, 1.5, 'Default Next Month')])"
      ]
     },
     "execution_count": 84,
     "metadata": {},
     "output_type": "execute_result"
    },
    {
     "data": {
      "image/png": "[encoded data removed]",
      "text/plain": [
       "<Figure size 720x504 with 2 Axes>"
      ]
     },
     "metadata": {},
     "output_type": "display_data"
    }
   ],
   "source": [
    "# seaborn confusion matrix\n",
    "df_cm = pd.DataFrame(conf_matGBthresh, columns=np.unique(yP), index = np.unique(yP))\n",
    "df_cm.index.name = 'Actual'\n",
    "df_cm.columns.name = 'Predicted'\n",
    "plt.figure(figsize = (10,7))\n",
    "sns.set(font_scale=1.4)#for label size\n",
    "x_axis_labels = [\"No Default Next Month\", \"Default Next Month\"] # labels for x-axis\n",
    "y_axis_labels = [\"No Default Next Month\", \"Default Next Month\"] # labels for y-axis\n",
    "sns.heatmap(df_cm, cmap=\"Blues\", annot=True,fmt='g', annot_kws={\"size\": 16}, xticklabels=x_axis_labels, yticklabels=y_axis_labels)# font size\n",
    "plt.title(\"Confusion Matrix\")\n",
    "plt.tight_layout()\n",
    "plt.ylabel(\"Actual\")\n",
    "plt.xlabel(\"Predicted\")\n",
    "# This sets the yticks \"upright\" with 0, as opposed to sideways with 90.\n",
    "plt.yticks(rotation=0)"
   ]
  },
  {
   "cell_type": "code",
   "execution_count": null,
   "metadata": {},
   "outputs": [],
   "source": []
  },
  {
   "cell_type": "markdown",
   "metadata": {},
   "source": [
    "**Classification Report to View Evaluation Metrics**"
   ]
  },
  {
   "cell_type": "code",
   "execution_count": 86,
   "metadata": {},
   "outputs": [
    {
     "data": {
      "text/plain": [
       "<AxesSubplot:>"
      ]
     },
     "execution_count": 86,
     "metadata": {},
     "output_type": "execute_result"
    },
    {
     "data": {
      "image/png": "[encoded data removed]",
      "text/plain": [
       "<Figure size 576x396 with 2 Axes>"
      ]
     },
     "metadata": {},
     "output_type": "display_data"
    }
   ],
   "source": [
    "class_repGBthresh = classification_report(yTest, GBpredprob_tuned_thresh, output_dict=True, target_names= ['No Default', 'Default'])\n",
    "\n",
    "# Create a dataframe from the dictionary and plot a heatmap of it.\n",
    "# .iloc[:-1, :] to exclude support\n",
    "sns.heatmap(pd.DataFrame(class_repGBthresh).iloc[:-1, :].T, annot=True, cmap=\"Blues\")"
   ]
  },
  {
   "cell_type": "code",
   "execution_count": 87,
   "metadata": {},
   "outputs": [
    {
     "data": {
      "text/plain": [
       "['GB_predProb.sav']"
      ]
     },
     "execution_count": 87,
     "metadata": {},
     "output_type": "execute_result"
    }
   ],
   "source": [
    "import joblib\n",
    "# save the predicted probabilities\n",
    "filename = 'GB_predProb.sav'\n",
    "joblib.dump(GBpredprob_tuned_thresh, filename)"
   ]
  },
  {
   "cell_type": "code",
   "execution_count": null,
   "metadata": {},
   "outputs": [],
   "source": []
  },
  {
   "cell_type": "markdown",
   "metadata": {},
   "source": [
    "**Calculate Loss Scores for Imbalanced Targets**"
   ]
  },
  {
   "cell_type": "code",
   "execution_count": 88,
   "metadata": {},
   "outputs": [
    {
     "name": "stdout",
     "output_type": "stream",
     "text": [
      "Log Loss Score:  0.4545300130827825\n",
      "Brier Loss Score:  0.14477935426317548\n",
      "AUC Score:  0.7515136777218125\n"
     ]
    }
   ],
   "source": [
    "# loss scores with probabilities\n",
    "\n",
    "from sklearn.metrics import log_loss\n",
    "from sklearn.metrics import brier_score_loss\n",
    "from sklearn.metrics import roc_auc_score\n",
    "\n",
    "# the probabilities of the predictions were calcaulated above [below is the code used above]\n",
    "#predtst=gbc.predict_proba(XTest)[:,1]\n",
    "\n",
    "# calculate log loss\n",
    "# In the binary classification case, the function takes a list of true outcome values and a list of probabilities as arguments \n",
    "      # and calculates the average log loss for the predictions.\n",
    "XGlossLog = log_loss(yTest, GBpredprob)\n",
    "XGlossBrier = brier_score_loss(yTest, GBpredprob)\n",
    "XGlossAUC = roc_auc_score(yTest, GBpredprob)\n",
    "print('Log Loss Score: ', XGlossLog)\n",
    "print('Brier Loss Score: ', XGlossBrier)\n",
    "print('AUC Score: ', XGlossAUC)"
   ]
  },
  {
   "cell_type": "code",
   "execution_count": null,
   "metadata": {},
   "outputs": [],
   "source": []
  },
  {
   "cell_type": "code",
   "execution_count": null,
   "metadata": {},
   "outputs": [],
   "source": []
  },
  {
   "cell_type": "code",
   "execution_count": null,
   "metadata": {},
   "outputs": [],
   "source": []
  }
 ],
 "metadata": {
  "kernelspec": {
   "display_name": "Python 3",
   "language": "python",
   "name": "python3"
  },
  "language_info": {
   "codemirror_mode": {
    "name": "ipython",
    "version": 3
   },
   "file_extension": ".py",
   "mimetype": "text/x-python",
   "name": "python",
   "nbconvert_exporter": "python",
   "pygments_lexer": "ipython3",
   "version": "3.7.6"
  }
 },
 "nbformat": 4,
 "nbformat_minor": 4
}
