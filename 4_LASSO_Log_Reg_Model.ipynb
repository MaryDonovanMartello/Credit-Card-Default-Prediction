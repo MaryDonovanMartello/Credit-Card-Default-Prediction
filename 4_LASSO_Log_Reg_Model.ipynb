{
 "cells": [
  {
   "cell_type": "markdown",
   "metadata": {},
   "source": [
    "# Classification Prediction with Imbalanced Target"
   ]
  },
  {
   "cell_type": "markdown",
   "metadata": {},
   "source": [
    "# Mary Donovan Martello"
   ]
  },
  {
   "cell_type": "markdown",
   "metadata": {},
   "source": [
    "## The goal of this project was to design predictive binary classification models to predict whether credit card account holders will default on their payments in the next month. The models address the imbalance in the target variable. This notebook uses a LASSO Logistic Regression model to make the default prediciton."
   ]
  },
  {
   "cell_type": "markdown",
   "metadata": {},
   "source": [
    "# Part 4:  LASSO Logistic Regression Model"
   ]
  },
  {
   "cell_type": "code",
   "execution_count": null,
   "metadata": {},
   "outputs": [],
   "source": []
  },
  {
   "cell_type": "code",
   "execution_count": 2,
   "metadata": {},
   "outputs": [],
   "source": [
    "# import libraries\n",
    "\n",
    "import pandas as pd\n",
    "from pandas import read_csv\n",
    "import numpy as np\n",
    "from numpy import mean\n",
    "from numpy import std\n",
    "from numpy import argmax\n",
    "\n",
    "import seaborn as sns\n",
    "import matplotlib.pyplot as plt\n",
    "from IPython.display import Markdown, display\n",
    "\n",
    "from sklearn.preprocessing import LabelEncoder\n",
    "from sklearn.preprocessing import OneHotEncoder\n",
    "from sklearn.compose import ColumnTransformer\n",
    "\n",
    "from sklearn.model_selection import StratifiedKFold\n",
    "from sklearn.model_selection import train_test_split\n",
    "from sklearn.pipeline import make_pipeline\n",
    "from sklearn.model_selection import GridSearchCV\n",
    "from sklearn.model_selection import cross_validate\n",
    "from sklearn import model_selection, metrics\n",
    "from sklearn.metrics import accuracy_score\n",
    "from sklearn.metrics import recall_score\n",
    "from sklearn.metrics import classification_report\n",
    "from sklearn.metrics import log_loss\n",
    "from sklearn.metrics import brier_score_loss\n",
    "from sklearn.metrics import roc_auc_score\n",
    "from sklearn.metrics import confusion_matrix\n",
    "\n",
    "from sklearn.ensemble import GradientBoostingClassifier\n",
    "from sklearn.linear_model import LogisticRegression\n",
    "from sklearn.ensemble import RandomForestClassifier\n",
    "\n",
    "#stop unnecessary warnings from printing to the screen\n",
    "import warnings\n",
    "warnings.simplefilter('ignore')\n",
    "\n"
   ]
  },
  {
   "cell_type": "code",
   "execution_count": null,
   "metadata": {},
   "outputs": [],
   "source": []
  },
  {
   "cell_type": "markdown",
   "metadata": {},
   "source": [
    "### This notebook uses two datasets. The first dataset includes the full data that was cleaned, prepared, and transformed into Principal Component features in the 1_EDA_Prep notebook. The second dataset is the first dataset that has been reduced to the best select features identified in the 2_Test_Subsets_of_Features notebook."
   ]
  },
  {
   "cell_type": "code",
   "execution_count": 4,
   "metadata": {},
   "outputs": [],
   "source": [
    "# Load data into a dataframe\n",
    "\n",
    "df = pd.read_csv('pcaDefault.csv')\n"
   ]
  },
  {
   "cell_type": "code",
   "execution_count": null,
   "metadata": {},
   "outputs": [],
   "source": []
  },
  {
   "cell_type": "markdown",
   "metadata": {},
   "source": [
    "### Need a dataframe with dummy features for probability prediction and the classifier threshold."
   ]
  },
  {
   "cell_type": "code",
   "execution_count": 77,
   "metadata": {},
   "outputs": [
    {
     "name": "stdout",
     "output_type": "stream",
     "text": [
      "   SEX  EDUCATION  MARRIAGE\n",
      "0    1          1         2\n",
      "1    1          2         2\n",
      "2    1          1         1\n",
      "3    2          2         2\n"
     ]
    }
   ],
   "source": [
    "\n",
    "# convert categorical data to numbers \n",
    "#get the categorical data\n",
    "cat_features = ['SEX', 'EDUCATION', 'MARRIAGE']\n",
    "df_cat = df[cat_features]\n",
    "\n",
    "# create dummy variable dataframe for categorical values \n",
    "dfDumm = pd.get_dummies(df_cat)\n",
    "\n",
    "# check the data\n",
    "print(dfDumm.head(4))\n",
    "\n",
    "# create a whole features dataset that can be used for train and validation data splitting\n",
    "# combine the numerical features and the dummie features together\n",
    "dfNum = df.drop(['SEX', 'EDUCATION', 'MARRIAGE', 'default'], axis = 1)\n",
    "X = pd.concat([dfNum, dfDumm], axis=1)\n",
    "# create a whole target dataset that can be used for train and validation data splitting\n",
    "y =  df['default']\n"
   ]
  },
  {
   "cell_type": "markdown",
   "metadata": {},
   "source": [
    "Check the input features for testing feature subsets."
   ]
  },
  {
   "cell_type": "code",
   "execution_count": 8,
   "metadata": {},
   "outputs": [
    {
     "data": {
      "text/plain": [
       "Index(['PC1', 'PC2', 'PC3', 'PC4', 'PC5', 'PC6', 'PC7', 'PC8', 'SEX',\n",
       "       'EDUCATION', 'MARRIAGE'],\n",
       "      dtype='object')"
      ]
     },
     "execution_count": 8,
     "metadata": {},
     "output_type": "execute_result"
    }
   ],
   "source": [
    "X.columns"
   ]
  },
  {
   "cell_type": "code",
   "execution_count": 9,
   "metadata": {},
   "outputs": [
    {
     "data": {
      "text/plain": [
       "(30000, 11)"
      ]
     },
     "execution_count": 9,
     "metadata": {},
     "output_type": "execute_result"
    }
   ],
   "source": [
    "X.shape"
   ]
  },
  {
   "cell_type": "code",
   "execution_count": null,
   "metadata": {},
   "outputs": [],
   "source": []
  },
  {
   "cell_type": "markdown",
   "metadata": {},
   "source": [
    "## Model Selection and Evaluation"
   ]
  },
  {
   "cell_type": "markdown",
   "metadata": {},
   "source": [
    "**Create Feature Dataframe for GridSearch Pipeline**"
   ]
  },
  {
   "cell_type": "code",
   "execution_count": 6,
   "metadata": {},
   "outputs": [],
   "source": [
    "\n",
    "# separate into input and output columns (X variable for features and y for target variables)\n",
    "\n",
    "Xp = df.drop('default', axis = 1) \n",
    "yP = df['default']\n",
    "# will not label encode the target variable for random forest model\n",
    "yRFp = df['default']\n",
    "\n",
    "# one-hot encode input variables\n",
    "# use ColumnTransformer to indicate which categorical variables to encode\n",
    "# https://machinelearningmastery.com/one-hot-encoding-for-categorical-data/\n",
    "#https://github.com/scikit-learn/scikit-learn/issues/9132 to include categories = 'auto' when negative values in X\n",
    "onehot_encoder = OneHotEncoder(categories='auto')\n",
    "onehot_encoder.fit(Xp)\n",
    "transformer = ColumnTransformer(transformers=[('cat', OneHotEncoder(), [8, 9, 10])], remainder='passthrough')\n",
    "Xp = transformer.fit_transform(Xp)\n",
    "\n",
    "# ordinal encode target variable\n",
    "label_encoder = LabelEncoder()\n",
    "label_encoder.fit(yP)\n",
    "yP = label_encoder.transform(yP)\n"
   ]
  },
  {
   "cell_type": "markdown",
   "metadata": {},
   "source": [
    "**Phase 1: All input features with GridSearch and Stratified K-fold cross validation**"
   ]
  },
  {
   "cell_type": "code",
   "execution_count": 51,
   "metadata": {},
   "outputs": [
    {
     "name": "stdout",
     "output_type": "stream",
     "text": [
      "{'fit_time': array([137.05733395, 166.88052583, 113.69085836, 133.211622  ,\n",
      "       124.01712322,  76.53418684, 127.6055243 , 126.26012278,\n",
      "       103.73639536,  83.25823951]), 'score_time': array([0.03390956, 0.02992129, 0.01496077, 0.02294135, 0.02095127,\n",
      "       0.01595926, 0.04787564, 0.01196909, 0.00797606, 0.00662279]), 'test_accuracy': array([0.79606798, 0.79573476, 0.78940353, 0.78873709, 0.794     ,\n",
      "       0.79266667, 0.78426142, 0.79393131, 0.79126375, 0.78526175]), 'train_accuracy': array([0.79095522, 0.79080707, 0.79139968, 0.7913256 , 0.79111111,\n",
      "       0.79140741, 0.79219288, 0.7909707 , 0.79111885, 0.79208177]), 'test_precision_macro': array([0.72374057, 0.72327887, 0.7011063 , 0.6945062 , 0.71559987,\n",
      "       0.71317813, 0.67095175, 0.7204641 , 0.70999388, 0.67693039]), 'train_precision_macro': array([0.70346411, 0.70262711, 0.70509778, 0.70590653, 0.70453668,\n",
      "       0.70631341, 0.71001635, 0.70519681, 0.705007  , 0.70872374]), 'test_recall_macro': array([0.57473475, 0.57344268, 0.55751826, 0.56032474, 0.57128858,\n",
      "       0.56612065, 0.56121608, 0.56580295, 0.55976977, 0.55645713]), 'train_recall_macro': array([0.56468739, 0.56465222, 0.56575202, 0.56444562, 0.56448347,\n",
      "       0.56449386, 0.56572297, 0.5630804 , 0.56419436, 0.56631089]), 'test_neg_log_loss': array([-0.46851121, -0.47296665, -0.4735296 , -0.46412077, -0.47164224,\n",
      "       -0.46211198, -0.47060415, -0.45475294, -0.46055694, -0.47248577]), 'train_neg_log_loss': array([-0.46632714, -0.46583146, -0.46574316, -0.46675169, -0.4659792 ,\n",
      "       -0.46696361, -0.46606972, -0.46780391, -0.46718755, -0.46581788])}\n",
      "results\n"
     ]
    }
   ],
   "source": [
    "# grid search in a pipeline with lasso logistic regression\n",
    "\n",
    "\n",
    "#Create lasso logistic regression pipeline and gridsearch\n",
    "logit = LogisticRegression(penalty='l1', solver='liblinear')\n",
    "\n",
    "param_logit={'C': [1.00000000e+00, 2.78255940e+00, 7.74263683e+00, 2.15443469e+01,\n",
    "       5.99484250e+01, 1.66810054e+02, 4.64158883e+02, 1.29154967e+03,\n",
    "       3.59381366e+03, 1.00000000e+04],\n",
    "            'penalty': ['l1']}\n",
    "\n",
    "grid = GridSearchCV(logit, param_logit, cv=5, verbose=0)\n",
    "scoring = ['accuracy', 'precision_macro', 'recall_macro', 'neg_log_loss']\n",
    "\n",
    "# create a pipeline that standardizes, then runs logistic regression\n",
    "#pipeline=make_pipeline(standardizer, grid)\n",
    "pipeline=make_pipeline(grid)\n",
    "# create k-fold cross-validation\n",
    "skf= StratifiedKFold(n_splits=10, shuffle=True, random_state=1)\n",
    "# conduct a k-fold cross-validation\n",
    "cv_results=cross_validate(pipeline, # Pipeline\n",
    "                           Xp, # Feature matrix\n",
    "                           yP,#target vector\n",
    "                           cv=skf, # Cross-validation technique\n",
    "                           scoring = scoring, # Loss function\n",
    "                           n_jobs = -1)\n",
    "\n",
    "print (cv_results)\n",
    "print(\"results\")"
   ]
  },
  {
   "cell_type": "code",
   "execution_count": null,
   "metadata": {},
   "outputs": [],
   "source": []
  },
  {
   "cell_type": "markdown",
   "metadata": {},
   "source": [
    "**Phase 2: Best subset of features with GridSearch and Stratified K-fold cross validation**"
   ]
  },
  {
   "cell_type": "code",
   "execution_count": 52,
   "metadata": {},
   "outputs": [
    {
     "name": "stdout",
     "output_type": "stream",
     "text": [
      "{'fit_time': array([5.24396586, 5.22701383, 5.29981875, 4.55680728, 4.18280339,\n",
      "       4.30148625, 3.99330997, 4.29444456, 3.69803786, 3.43075609]), 'score_time': array([0.01496053, 0.03291059, 0.01894855, 0.01796103, 0.03789711,\n",
      "       0.01695585, 0.01895213, 0.02493572, 0.0109725 , 0.01695371]), 'test_accuracy': array([0.79506831, 0.7934022 , 0.79006998, 0.78807064, 0.79      ,\n",
      "       0.79266667, 0.78726242, 0.79259753, 0.78992998, 0.78459486]), 'train_accuracy': array([0.79062187, 0.79028853, 0.79043668, 0.79058484, 0.79088889,\n",
      "       0.7902963 , 0.79119292, 0.79011888, 0.79015592, 0.79163735]), 'test_precision_macro': array([0.72303697, 0.71568555, 0.70571045, 0.69216867, 0.69888676,\n",
      "       0.71797577, 0.68489874, 0.71679711, 0.70378102, 0.6738962 ]), 'train_precision_macro': array([0.70357607, 0.7019707 , 0.70267131, 0.70481238, 0.70525888,\n",
      "       0.70289386, 0.70693014, 0.70281365, 0.70272496, 0.70866489]), 'test_recall_macro': array([0.57031947, 0.56763253, 0.5574071 , 0.55827965, 0.56440832,\n",
      "       0.56234785, 0.56152213, 0.56170614, 0.55729328, 0.55548894]), 'train_recall_macro': array([0.56243525, 0.56198146, 0.56219646, 0.56097279, 0.56236258,\n",
      "       0.561023  , 0.56274361, 0.56013622, 0.56045966, 0.56374813]), 'test_neg_log_loss': array([-0.46973997, -0.47404018, -0.47599786, -0.46529061, -0.473797  ,\n",
      "       -0.46408406, -0.47191229, -0.45562218, -0.46320057, -0.47608494]), 'train_neg_log_loss': array([-0.46866309, -0.46818014, -0.46795887, -0.46915626, -0.4682056 ,\n",
      "       -0.4692866 , -0.46841624, -0.47023429, -0.46938575, -0.4679499 ])}\n",
      "results\n"
     ]
    }
   ],
   "source": [
    "# subset grid search in a pipeline with lasso logistic regression\n",
    "\n",
    "from sklearn.model_selection import GridSearchCV\n",
    "from sklearn.model_selection import cross_validate\n",
    "\n",
    "#Create lasso logistic regression pipeline and gridsearch\n",
    "logit = LogisticRegression(penalty='l1', solver='liblinear')\n",
    "\n",
    "param_logit={'C': [1.00000000e+00, 2.78255940e+00, 7.74263683e+00, 2.15443469e+01,\n",
    "       5.99484250e+01, 1.66810054e+02, 4.64158883e+02, 1.29154967e+03,\n",
    "       3.59381366e+03, 1.00000000e+04],\n",
    "            'penalty': ['l1']}\n",
    "\n",
    "grid = GridSearchCV(logit, param_logit, cv=5, verbose=0)\n",
    "scoring = ['accuracy', 'precision_macro', 'recall_macro', 'neg_log_loss']\n",
    "\n",
    "# create a pipeline that standardizes, then runs logistic regression\n",
    "#pipeline=make_pipeline(standardizer, grid)\n",
    "pipeline=make_pipeline(grid)\n",
    "# create k-fold cross-validation\n",
    "skf= StratifiedKFold(n_splits=10, shuffle=True, random_state=1)\n",
    "# conduct a k-fold cross-validation\n",
    "cv_results=cross_validate(pipeline, # Pipeline\n",
    "                           subset7, # Feature matrix\n",
    "                           yP,#target vector\n",
    "                           cv=skf, # Cross-validation technique\n",
    "                           scoring = scoring, # Loss function\n",
    "                           n_jobs = -1)\n",
    "\n",
    "print (cv_results)\n",
    "print(\"results\")"
   ]
  },
  {
   "cell_type": "code",
   "execution_count": null,
   "metadata": {},
   "outputs": [],
   "source": []
  },
  {
   "cell_type": "markdown",
   "metadata": {},
   "source": [
    "**Best parameters from parameters tested in above GridSearch**"
   ]
  },
  {
   "cell_type": "code",
   "execution_count": 59,
   "metadata": {},
   "outputs": [
    {
     "data": {
      "text/plain": [
       "({'mean_fit_time': array([0.15774059, 0.077391  , 0.08317513, 0.081182  , 0.08337531,\n",
       "         0.08098364, 0.08098269, 0.08317776, 0.08497367, 0.07679253]),\n",
       "  'std_fit_time': array([0.04047471, 0.00629464, 0.00435419, 0.00580198, 0.00587102,\n",
       "         0.00554953, 0.00656831, 0.00811622, 0.00940183, 0.01263112]),\n",
       "  'mean_score_time': array([0.0633266 , 0.00797873, 0.00498796, 0.00398917, 0.00458741,\n",
       "         0.00518608, 0.00618458, 0.00558453, 0.00698161, 0.00458779]),\n",
       "  'std_score_time': array([0.02877262, 0.0014105 , 0.00154474, 0.0006303 , 0.00079763,\n",
       "         0.00097631, 0.00097704, 0.00205153, 0.00356917, 0.00119727]),\n",
       "  'param_C': masked_array(data=[1.0, 2.7825594, 7.74263683, 21.5443469, 59.948425,\n",
       "                     166.810054, 464.158883, 1291.54967, 3593.81366,\n",
       "                     10000.0],\n",
       "               mask=[False, False, False, False, False, False, False, False,\n",
       "                     False, False],\n",
       "         fill_value='?',\n",
       "              dtype=object),\n",
       "  'param_penalty': masked_array(data=['l2', 'l2', 'l2', 'l2', 'l2', 'l2', 'l2', 'l2', 'l2',\n",
       "                     'l2'],\n",
       "               mask=[False, False, False, False, False, False, False, False,\n",
       "                     False, False],\n",
       "         fill_value='?',\n",
       "              dtype=object),\n",
       "  'params': [{'C': 1.0, 'penalty': 'l2'},\n",
       "   {'C': 2.7825594, 'penalty': 'l2'},\n",
       "   {'C': 7.74263683, 'penalty': 'l2'},\n",
       "   {'C': 21.5443469, 'penalty': 'l2'},\n",
       "   {'C': 59.948425, 'penalty': 'l2'},\n",
       "   {'C': 166.810054, 'penalty': 'l2'},\n",
       "   {'C': 464.158883, 'penalty': 'l2'},\n",
       "   {'C': 1291.54967, 'penalty': 'l2'},\n",
       "   {'C': 3593.81366, 'penalty': 'l2'},\n",
       "   {'C': 10000.0, 'penalty': 'l2'}],\n",
       "  'split0_test_score': array([0.61205953, 0.61199014, 0.61199014, 0.61199014, 0.61199014,\n",
       "         0.61199014, 0.61199014, 0.61199014, 0.61199014, 0.61199014]),\n",
       "  'split1_test_score': array([0.87455832, 0.87455832, 0.87455832, 0.87455832, 0.87455832,\n",
       "         0.87455832, 0.87455832, 0.87455832, 0.87455832, 0.87455832]),\n",
       "  'split2_test_score': array([0.87658203, 0.87658203, 0.87658203, 0.87658203, 0.87658203,\n",
       "         0.87658203, 0.87658203, 0.87658203, 0.87658203, 0.87658203]),\n",
       "  'split3_test_score': array([0.84055184, 0.84055184, 0.84055184, 0.84055184, 0.84055184,\n",
       "         0.84055184, 0.84055184, 0.84055184, 0.84055184, 0.84055184]),\n",
       "  'split4_test_score': array([0.7430281, 0.7430281, 0.7430281, 0.7430281, 0.7430281, 0.7430281,\n",
       "         0.7430281, 0.7430281, 0.7430281, 0.7430281]),\n",
       "  'mean_test_score': array([0.78935596, 0.78934209, 0.78934209, 0.78934209, 0.78934209,\n",
       "         0.78934209, 0.78934209, 0.78934209, 0.78934209, 0.78934209]),\n",
       "  'std_test_score': array([0.10106349, 0.10108783, 0.10108783, 0.10108783, 0.10108783,\n",
       "         0.10108783, 0.10108783, 0.10108783, 0.10108783, 0.10108783]),\n",
       "  'rank_test_score': array([1, 2, 2, 2, 2, 2, 2, 2, 2, 2]),\n",
       "  'split0_train_score': array([0.84876015, 0.84852138, 0.84852138, 0.84852138, 0.84852138,\n",
       "         0.84852138, 0.84852138, 0.84852138, 0.84852138, 0.84852138]),\n",
       "  'split1_train_score': array([0.6753586, 0.6753586, 0.6753586, 0.6753586, 0.6753586, 0.6753586,\n",
       "         0.6753586, 0.6753586, 0.6753586, 0.6753586]),\n",
       "  'split2_train_score': array([0.68242418, 0.68211321, 0.68211321, 0.68211321, 0.68211321,\n",
       "         0.68211321, 0.68211321, 0.68211321, 0.68211321, 0.68211321]),\n",
       "  'split3_train_score': array([0.70885067, 0.70867622, 0.70850196, 0.70832789, 0.70832789,\n",
       "         0.70832789, 0.70832789, 0.70832789, 0.70832789, 0.70832789]),\n",
       "  'split4_train_score': array([0.70677138, 0.70677138, 0.70677138, 0.70677138, 0.70677138,\n",
       "         0.70677138, 0.70677138, 0.70677138, 0.70677138, 0.70677138]),\n",
       "  'mean_train_score': array([0.72443299, 0.72428816, 0.72425331, 0.72421849, 0.72421849,\n",
       "         0.72421849, 0.72421849, 0.72421849, 0.72421849, 0.72421849]),\n",
       "  'std_train_score': array([0.06353742, 0.06349376, 0.06350237, 0.06351104, 0.06351104,\n",
       "         0.06351104, 0.06351104, 0.06351104, 0.06351104, 0.06351104])},\n",
       " {'C': 1.0, 'penalty': 'l2'},\n",
       " 0.7893559646490579)"
      ]
     },
     "execution_count": 59,
     "metadata": {},
     "output_type": "execute_result"
    }
   ],
   "source": [
    "param_testLS = {'C': [1.00000000e+00, 2.78255940e+00, 7.74263683e+00, 2.15443469e+01,\n",
    "       5.99484250e+01, 1.66810054e+02, 4.64158883e+02, 1.29154967e+03,\n",
    "       3.59381366e+03, 1.00000000e+04],\n",
    "            'penalty': ['l1']}\n",
    "LSsearch = GridSearchCV(estimator = LogisticRegression(penalty='l1', solver='liblinear'), \n",
    "param_grid = param_testLR, scoring='precision_macro',n_jobs=4,iid=False, cv=5)\n",
    "LSsearch.fit(subset7, yP)\n",
    "LSsearch.cv_results_, LSsearch.best_params_, LSsearch.best_score_"
   ]
  },
  {
   "cell_type": "code",
   "execution_count": null,
   "metadata": {},
   "outputs": [],
   "source": []
  },
  {
   "cell_type": "markdown",
   "metadata": {},
   "source": [
    "### Probability Predictions and Classification Threshold Selection"
   ]
  },
  {
   "cell_type": "markdown",
   "metadata": {},
   "source": [
    "**Fit the model with best paramaters from the above GridSearch**"
   ]
  },
  {
   "cell_type": "code",
   "execution_count": 60,
   "metadata": {},
   "outputs": [],
   "source": [
    "# separate data into training and validation = full dataset from GridSearch had better results\n",
    "XTrain, XTest, yTrain, yTest = train_test_split(X, y, stratify=y, test_size =0.3, random_state=11)\n",
    "\n",
    "# use best parameters from above GridSearch\n",
    "LS = LogisticRegression(C = 1.0, penalty = 'l1', solver='liblinear').fit(XTrain, yTrain)"
   ]
  },
  {
   "cell_type": "markdown",
   "metadata": {},
   "source": [
    "**Make probability predictions to choose best classification threshold for imbalanced target.**"
   ]
  },
  {
   "cell_type": "code",
   "execution_count": 61,
   "metadata": {},
   "outputs": [
    {
     "name": "stdout",
     "output_type": "stream",
     "text": [
      "Best Threshold=0.238461\n"
     ]
    }
   ],
   "source": [
    "# choose the threshold with the Receiver Operating Characteristic curve and Youden's J statistic\n",
    "\n",
    "# predict probabilities; the last part of this line keeps the probabilities for the positive outcome only\n",
    "LSpredprob=LS.predict_proba(XTest)[:,1]\n",
    "\n",
    "# calculate roc curves\n",
    "fpr, tpr, thresholds = metrics.roc_curve(yTest, LSpredprob)\n",
    "\n",
    "# get the best threshold: Youden’s J statistic\n",
    "J = tpr - fpr\n",
    "from numpy import argmax\n",
    "ix = argmax(J)\n",
    "best_thresh = thresholds[ix]\n",
    "print('Best Threshold=%f' % (best_thresh))"
   ]
  },
  {
   "cell_type": "code",
   "execution_count": null,
   "metadata": {},
   "outputs": [],
   "source": []
  },
  {
   "cell_type": "code",
   "execution_count": null,
   "metadata": {},
   "outputs": [],
   "source": [
    "# custom confusion matrix function to show percentages\n",
    "def conf_matrix(y,pred):\n",
    "    ((tn, fp), (fn, tp)) = metrics.confusion_matrix(y, pred)\n",
    "    \n",
    "    return pd.DataFrame([[f'TN = {tn} (TNR = {tn / (tn+fp):1.2%})', \n",
    "                                f'FP = {fp} (FPR = {fp / (tn+fp):1.2%})'], \n",
    "                         [f'FN = {fn} (FNR = {fn / (fn+tp):1.2%})', \n",
    "                                f'TP = {tp} (TPR = {tp / (fn+tp):1.2%})']],\n",
    "            index=['True 0(No Default)', 'True 1(Default)'], \n",
    "            columns=['Pred 0(No Default)', \n",
    "                            'Pred 1(Default)'])"
   ]
  },
  {
   "cell_type": "markdown",
   "metadata": {},
   "source": [
    "**Use best threshold to convert probabilities to classification predictions**"
   ]
  },
  {
   "cell_type": "code",
   "execution_count": 62,
   "metadata": {},
   "outputs": [
    {
     "data": {
      "text/html": [
       "<div>\n",
       "<style scoped>\n",
       "    .dataframe tbody tr th:only-of-type {\n",
       "        vertical-align: middle;\n",
       "    }\n",
       "\n",
       "    .dataframe tbody tr th {\n",
       "        vertical-align: top;\n",
       "    }\n",
       "\n",
       "    .dataframe thead th {\n",
       "        text-align: right;\n",
       "    }\n",
       "</style>\n",
       "<table border=\"1\" class=\"dataframe\">\n",
       "  <thead>\n",
       "    <tr style=\"text-align: right;\">\n",
       "      <th></th>\n",
       "      <th>Pred 0(No Default)</th>\n",
       "      <th>Pred 1(Default)</th>\n",
       "    </tr>\n",
       "  </thead>\n",
       "  <tbody>\n",
       "    <tr>\n",
       "      <th>True 0(No Default)</th>\n",
       "      <td>TN = 5298 (TNR = 75.59%)</td>\n",
       "      <td>FP = 1711 (FPR = 24.41%)</td>\n",
       "    </tr>\n",
       "    <tr>\n",
       "      <th>True 1(Default)</th>\n",
       "      <td>FN = 784 (FNR = 39.38%)</td>\n",
       "      <td>TP = 1207 (TPR = 60.62%)</td>\n",
       "    </tr>\n",
       "  </tbody>\n",
       "</table>\n",
       "</div>"
      ],
      "text/plain": [
       "                          Pred 0(No Default)           Pred 1(Default)\n",
       "True 0(No Default)  TN = 5298 (TNR = 75.59%)  FP = 1711 (FPR = 24.41%)\n",
       "True 1(Default)      FN = 784 (FNR = 39.38%)  TP = 1207 (TPR = 60.62%)"
      ]
     },
     "execution_count": 62,
     "metadata": {},
     "output_type": "execute_result"
    }
   ],
   "source": [
    "# predprob are predicted possibilities for positive outcome prediction \n",
    "# allocate the probability predictions between 1 and 0 based on the best threshold\n",
    "LSpredprob_tuned_thresh = np.where(LSpredprob >= 0.238461, 1, 0)\n",
    "\n",
    "# custom confusion matrix with predictions (showing percentages)\n",
    "conf_matLSthresh = conf_matrix(yTest, LSpredprob_tuned_thresh)\n",
    "conf_matLSthresh"
   ]
  },
  {
   "cell_type": "markdown",
   "metadata": {},
   "source": [
    "**Visualize Confusion Matrix**"
   ]
  },
  {
   "cell_type": "code",
   "execution_count": 64,
   "metadata": {},
   "outputs": [
    {
     "name": "stdout",
     "output_type": "stream",
     "text": [
      "[[5298 1711]\n",
      " [ 784 1207]]\n"
     ]
    }
   ],
   "source": [
    "# need a different format of confusion matrix for visualizing the confusion matrix of predictions\n",
    "from sklearn.metrics import confusion_matrix\n",
    "conf_matLSthresh = confusion_matrix(yTest, LSpredprob_tuned_thresh)\n",
    "print(conf_matLSthresh)"
   ]
  },
  {
   "cell_type": "code",
   "execution_count": 66,
   "metadata": {},
   "outputs": [
    {
     "data": {
      "text/plain": [
       "(array([0.5, 1.5]),\n",
       " [Text(0, 0.5, 'No Default Next Month'), Text(0, 1.5, 'Default Next Month')])"
      ]
     },
     "execution_count": 66,
     "metadata": {},
     "output_type": "execute_result"
    },
    {
     "data": {
      "image/png": "[encoded data removed]",
      "text/plain": [
       "<Figure size 720x504 with 2 Axes>"
      ]
     },
     "metadata": {},
     "output_type": "display_data"
    }
   ],
   "source": [
    "# seaborn confusion matrix\n",
    "df_cm = pd.DataFrame(conf_matLSthresh, columns=np.unique(yP), index = np.unique(yP))\n",
    "df_cm.index.name = 'Actual'\n",
    "df_cm.columns.name = 'Predicted'\n",
    "plt.figure(figsize = (10,7))\n",
    "sns.set(font_scale=1.4)#for label size\n",
    "x_axis_labels = [\"No Default Next Month\", \"Default Next Month\"] # labels for x-axis\n",
    "y_axis_labels = [\"No Default Next Month\", \"Default Next Month\"] # labels for y-axis\n",
    "sns.heatmap(df_cm, cmap=\"Blues\", annot=True,fmt='g', annot_kws={\"size\": 16}, xticklabels=x_axis_labels, yticklabels=y_axis_labels)# font size\n",
    "plt.title(\"Confusion Matrix\")\n",
    "plt.tight_layout()\n",
    "plt.ylabel(\"Actual\")\n",
    "plt.xlabel(\"Predicted\")\n",
    "# This sets the yticks \"upright\" with 0, as opposed to sideways with 90.\n",
    "plt.yticks(rotation=0)"
   ]
  },
  {
   "cell_type": "code",
   "execution_count": null,
   "metadata": {},
   "outputs": [],
   "source": []
  },
  {
   "cell_type": "markdown",
   "metadata": {},
   "source": [
    "**Classification Report to View Evaluation Metrics**"
   ]
  },
  {
   "cell_type": "code",
   "execution_count": 69,
   "metadata": {},
   "outputs": [
    {
     "data": {
      "text/plain": [
       "<AxesSubplot:>"
      ]
     },
     "execution_count": 69,
     "metadata": {},
     "output_type": "execute_result"
    },
    {
     "data": {
      "image/png": "[encoded data removed]",
      "text/plain": [
       "<Figure size 576x396 with 2 Axes>"
      ]
     },
     "metadata": {},
     "output_type": "display_data"
    }
   ],
   "source": [
    "from sklearn.metrics import classification_report\n",
    "class_repLSthresh = classification_report(yTest, LSpredprob_tuned_thresh, output_dict=True, target_names= ['No Default', 'Default'])\n",
    "# Create a dataframe from the dictionary and plot a heatmap of it.\n",
    "import seaborn as sns\n",
    "# .iloc[:-1, :] to exclude support\n",
    "sns.heatmap(pd.DataFrame(class_repLSthresh).iloc[:-1, :].T, annot=True, cmap=\"Blues\")"
   ]
  },
  {
   "cell_type": "code",
   "execution_count": 71,
   "metadata": {},
   "outputs": [
    {
     "data": {
      "text/plain": [
       "['LS_predProbs.sav']"
      ]
     },
     "execution_count": 71,
     "metadata": {},
     "output_type": "execute_result"
    }
   ],
   "source": [
    "import joblib\n",
    "# save the predicted probabilities\n",
    "filename = 'LS_predProbs.sav'\n",
    "joblib.dump(LSpredprob_tuned_thresh, filename)"
   ]
  },
  {
   "cell_type": "code",
   "execution_count": null,
   "metadata": {},
   "outputs": [],
   "source": []
  },
  {
   "cell_type": "markdown",
   "metadata": {},
   "source": [
    "**Calculate Loss Scores for Imbalanced Targets**"
   ]
  },
  {
   "cell_type": "code",
   "execution_count": 72,
   "metadata": {},
   "outputs": [
    {
     "name": "stdout",
     "output_type": "stream",
     "text": [
      "Log Loss Score:  0.470360046312647\n",
      "Brier Loss Score:  0.15024409168996467\n",
      "AUC Score:  0.7329405494936947\n"
     ]
    }
   ],
   "source": [
    "# loss scores with probabilities\n",
    "\n",
    "from sklearn.metrics import log_loss\n",
    "from sklearn.metrics import brier_score_loss\n",
    "from sklearn.metrics import roc_auc_score\n",
    "\n",
    "# the probabilities of the predictions were calcaulated above [below is the code used above]\n",
    "#LSpredtst=LS.predict_proba(XTest)[:,1]\n",
    "\n",
    "# calculate log loss\n",
    "# In the binary classification case, the function takes a list of true outcome values and a list of probabilities as arguments \n",
    "      # and calculates the average log loss for the predictions.\n",
    "LSlossLog = log_loss(yTest, LSpredprob)\n",
    "LSlossBrier = brier_score_loss(yTest, LSpredprob)\n",
    "LSlossAUC = roc_auc_score(yTest, LSpredprob)\n",
    "print('Log Loss Score: ', LSlossLog)\n",
    "print('Brier Loss Score: ', LSlossBrier)\n",
    "print('AUC Score: ', LSlossAUC)"
   ]
  },
  {
   "cell_type": "code",
   "execution_count": null,
   "metadata": {},
   "outputs": [],
   "source": []
  },
  {
   "cell_type": "code",
   "execution_count": null,
   "metadata": {},
   "outputs": [],
   "source": []
  },
  {
   "cell_type": "code",
   "execution_count": null,
   "metadata": {},
   "outputs": [],
   "source": []
  }
 ],
 "metadata": {
  "kernelspec": {
   "display_name": "Python 3",
   "language": "python",
   "name": "python3"
  },
  "language_info": {
   "codemirror_mode": {
    "name": "ipython",
    "version": 3
   },
   "file_extension": ".py",
   "mimetype": "text/x-python",
   "name": "python",
   "nbconvert_exporter": "python",
   "pygments_lexer": "ipython3",
   "version": "3.7.6"
  }
 },
 "nbformat": 4,
 "nbformat_minor": 4
}
