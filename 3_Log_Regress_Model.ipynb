{
 "cells": [
  {
   "cell_type": "markdown",
   "metadata": {},
   "source": [
    "# Classification Prediction with Imbalanced Target"
   ]
  },
  {
   "cell_type": "markdown",
   "metadata": {},
   "source": [
    "# Mary Donovan Martello"
   ]
  },
  {
   "cell_type": "markdown",
   "metadata": {},
   "source": [
    "## The goal of this project was to design predictive binary classification models to predict whether credit card account holders will default on their payments in the next month.  The models address the imbalance in the target variable.  This notebook uses a Logistic Regression model to make the default prediciton."
   ]
  },
  {
   "cell_type": "code",
   "execution_count": null,
   "metadata": {},
   "outputs": [],
   "source": []
  },
  {
   "cell_type": "markdown",
   "metadata": {},
   "source": [
    "## Part 3: Logistic Regression Model"
   ]
  },
  {
   "cell_type": "code",
   "execution_count": null,
   "metadata": {},
   "outputs": [],
   "source": []
  },
  {
   "cell_type": "code",
   "execution_count": 2,
   "metadata": {},
   "outputs": [],
   "source": [
    "# import libraries\n",
    "\n",
    "import pandas as pd\n",
    "from pandas import read_csv\n",
    "import numpy as np\n",
    "from numpy import mean\n",
    "from numpy import std\n",
    "from numpy import argmax\n",
    "\n",
    "import seaborn as sns\n",
    "import matplotlib.pyplot as plt\n",
    "from IPython.display import Markdown, display\n",
    "\n",
    "from sklearn.preprocessing import LabelEncoder\n",
    "from sklearn.preprocessing import OneHotEncoder\n",
    "from sklearn.compose import ColumnTransformer\n",
    "\n",
    "from sklearn.model_selection import StratifiedKFold\n",
    "from sklearn.model_selection import train_test_split\n",
    "from sklearn.pipeline import make_pipeline\n",
    "from sklearn.model_selection import GridSearchCV\n",
    "from sklearn.model_selection import cross_validate\n",
    "from sklearn import model_selection, metrics\n",
    "from sklearn.metrics import accuracy_score\n",
    "from sklearn.metrics import recall_score\n",
    "from sklearn.metrics import classification_report\n",
    "from sklearn.metrics import log_loss\n",
    "from sklearn.metrics import brier_score_loss\n",
    "from sklearn.metrics import roc_auc_score\n",
    "from sklearn.metrics import confusion_matrix\n",
    "\n",
    "from sklearn.ensemble import GradientBoostingClassifier\n",
    "from sklearn.linear_model import LogisticRegression\n",
    "from sklearn.ensemble import RandomForestClassifier\n",
    "\n",
    "#stop unnecessary warnings from printing to the screen\n",
    "import warnings\n",
    "warnings.simplefilter('ignore')\n",
    "\n"
   ]
  },
  {
   "cell_type": "code",
   "execution_count": null,
   "metadata": {},
   "outputs": [],
   "source": []
  },
  {
   "cell_type": "markdown",
   "metadata": {},
   "source": [
    "### This notebook uses two datasets.  The first dataset includes the full data that was cleaned, prepared, and transformed into Principal Component features in the 1_EDA_Prep notebook.  The second dataset is the first dataset that has been reduced to the best select features identified in the 2_Test_Subsets_of_Features notebook."
   ]
  },
  {
   "cell_type": "code",
   "execution_count": 3,
   "metadata": {},
   "outputs": [],
   "source": [
    "# Load data into a dataframe\n",
    "df = pd.read_csv('pcaDefault.csv')\n",
    "\n",
    "# Load best subset data into a dataframe\n",
    "subset7 = pd.read_csv('subset7df.csv')"
   ]
  },
  {
   "cell_type": "code",
   "execution_count": null,
   "metadata": {},
   "outputs": [],
   "source": []
  },
  {
   "cell_type": "markdown",
   "metadata": {},
   "source": [
    "### Need a dataframe with dummy features for probability prediction and the classifier threshold."
   ]
  },
  {
   "cell_type": "code",
   "execution_count": 5,
   "metadata": {},
   "outputs": [
    {
     "name": "stdout",
     "output_type": "stream",
     "text": [
      "   SEX  EDUCATION  MARRIAGE\n",
      "0    1          1         2\n",
      "1    1          2         2\n",
      "2    1          1         1\n",
      "3    2          2         2\n"
     ]
    }
   ],
   "source": [
    "\n",
    "# convert categorical data to numbers \n",
    "#get the categorical data\n",
    "cat_features = ['SEX', 'EDUCATION', 'MARRIAGE']\n",
    "df_cat = df[cat_features]\n",
    "\n",
    "# create dummy variable dataframe for categorical values \n",
    "dfDumm = pd.get_dummies(df_cat)\n",
    "\n",
    "# check the data\n",
    "print(dfDumm.head(4))\n",
    "\n",
    "# create a whole features dataset that can be used for train and validation data splitting\n",
    "# combine the numerical features and the dummie features together\n",
    "dfNum = df.drop(['SEX', 'EDUCATION', 'MARRIAGE', 'default'], axis = 1)\n",
    "X = pd.concat([dfNum, dfDumm], axis=1)\n",
    "# create a whole target dataset that can be used for train and validation data splitting\n",
    "y =  df['default']\n"
   ]
  },
  {
   "cell_type": "code",
   "execution_count": null,
   "metadata": {},
   "outputs": [],
   "source": []
  },
  {
   "cell_type": "code",
   "execution_count": 8,
   "metadata": {},
   "outputs": [
    {
     "data": {
      "text/plain": [
       "Index(['PC1', 'PC2', 'PC3', 'PC4', 'PC5', 'PC6', 'PC7', 'PC8', 'SEX',\n",
       "       'EDUCATION', 'MARRIAGE'],\n",
       "      dtype='object')"
      ]
     },
     "execution_count": 8,
     "metadata": {},
     "output_type": "execute_result"
    }
   ],
   "source": [
    "X.columns"
   ]
  },
  {
   "cell_type": "code",
   "execution_count": 9,
   "metadata": {},
   "outputs": [
    {
     "data": {
      "text/plain": [
       "(30000, 11)"
      ]
     },
     "execution_count": 9,
     "metadata": {},
     "output_type": "execute_result"
    }
   ],
   "source": [
    "X.shape"
   ]
  },
  {
   "cell_type": "markdown",
   "metadata": {},
   "source": [
    "## Model Selection and Evaluation"
   ]
  },
  {
   "cell_type": "markdown",
   "metadata": {},
   "source": [
    "**Create Feature Dataframe for GridSearch Pipeline**"
   ]
  },
  {
   "cell_type": "code",
   "execution_count": 6,
   "metadata": {},
   "outputs": [],
   "source": [
    "\n",
    "# separate into input and output columns (X variable for features and y for target variables)\n",
    "\n",
    "Xp = df.drop('default', axis = 1) \n",
    "yP = df['default']\n",
    "# will not label encode the target variable for random forest model\n",
    "yRFp = df['default']\n",
    "\n",
    "# one-hot encode input variables\n",
    "# use ColumnTransformer to indicate which categorical variables to encode\n",
    "# https://machinelearningmastery.com/one-hot-encoding-for-categorical-data/\n",
    "#https://github.com/scikit-learn/scikit-learn/issues/9132 to include categories = 'auto' when negative values in X\n",
    "onehot_encoder = OneHotEncoder(categories='auto')\n",
    "onehot_encoder.fit(Xp)\n",
    "transformer = ColumnTransformer(transformers=[('cat', OneHotEncoder(), [8, 9, 10])], remainder='passthrough')\n",
    "Xp = transformer.fit_transform(Xp)\n",
    "\n",
    "# ordinal encode target variable\n",
    "label_encoder = LabelEncoder()\n",
    "label_encoder.fit(yP)\n",
    "yP = label_encoder.transform(yP)\n"
   ]
  },
  {
   "cell_type": "markdown",
   "metadata": {},
   "source": [
    "**Phase 1: All input features with GridSearch and Stratified K-fold cross validation**"
   ]
  },
  {
   "cell_type": "code",
   "execution_count": 8,
   "metadata": {},
   "outputs": [
    {
     "name": "stdout",
     "output_type": "stream",
     "text": [
      "{'fit_time': array([23.60373116, 23.51161718, 23.9834609 , 23.83577371, 25.81556225,\n",
      "       25.90156245, 25.88143229, 23.5695498 , 15.15181708, 14.14249182]), 'score_time': array([0.07188487, 0.02403474, 0.01755309, 0.01894903, 0.01506019,\n",
      "       0.01899147, 0.01297092, 0.01500511, 0.00797629, 0.00553846]), 'test_accuracy': array([0.7964012 , 0.79573476, 0.78940353, 0.78873709, 0.79333333,\n",
      "       0.79266667, 0.78426142, 0.79393131, 0.79126375, 0.78526175]), 'train_accuracy': array([0.79091818, 0.79077003, 0.79136264, 0.7913256 , 0.79114815,\n",
      "       0.79137037, 0.79226695, 0.7909707 , 0.79100774, 0.79208177]), 'test_precision_macro': array([0.72485316, 0.72327887, 0.7011063 , 0.6945062 , 0.71212636,\n",
      "       0.71317813, 0.67095175, 0.7204641 , 0.70999388, 0.67693039]), 'train_precision_macro': array([0.70326785, 0.70232635, 0.70490231, 0.70590653, 0.70467876,\n",
      "       0.70623079, 0.71029548, 0.70519681, 0.7044635 , 0.70872374]), 'test_recall_macro': array([0.57548777, 0.57344268, 0.55751826, 0.56032474, 0.5708605 ,\n",
      "       0.56612065, 0.56121608, 0.56580295, 0.55976977, 0.55645713]), 'train_recall_macro': array([0.56466361, 0.56474833, 0.56572825, 0.56444562, 0.5645672 ,\n",
      "       0.56435019, 0.56589039, 0.5630804 , 0.56406309, 0.56631089]), 'test_neg_log_loss': array([-0.46848807, -0.47283241, -0.4735176 , -0.46409797, -0.47161921,\n",
      "       -0.46220826, -0.47063215, -0.45480548, -0.46055147, -0.47248695]), 'train_neg_log_loss': array([-0.46630475, -0.46578621, -0.46572602, -0.46676824, -0.46595795,\n",
      "       -0.46699115, -0.46603452, -0.46781545, -0.46716857, -0.46582678])}\n",
      "results\n"
     ]
    }
   ],
   "source": [
    "# grid search in a pipeline with logistic regression\n",
    "\n",
    "#Create logistic regression pipeline and gridsearch\n",
    "logit = LogisticRegression()\n",
    "\n",
    "param_logit={'C': [1.00000000e+00, 2.78255940e+00, 7.74263683e+00, 2.15443469e+01,\n",
    "       5.99484250e+01, 1.66810054e+02, 4.64158883e+02, 1.29154967e+03,\n",
    "       3.59381366e+03, 1.00000000e+04],\n",
    "            'penalty': ['l2']}\n",
    "\n",
    "grid = GridSearchCV(logit, param_logit, cv=5, verbose=0)\n",
    "scoring = ['accuracy', 'precision_macro', 'recall_macro', 'neg_log_loss']\n",
    "\n",
    "# create a pipeline that standardizes, then runs logistic regression\n",
    "#pipeline=make_pipeline(standardizer, grid)\n",
    "pipeline=make_pipeline(grid)\n",
    "# create stratified k-fold cross-validation\n",
    "skf= StratifiedKFold(n_splits=10, shuffle=True, random_state=1)\n",
    "# conduct a k-fold cross-validation\n",
    "cv_results=cross_validate(pipeline, # Pipeline\n",
    "                           Xp, # Feature matrix\n",
    "                           yP,#target vector\n",
    "                           cv=skf, # Cross-validation technique\n",
    "                           scoring = scoring, # Loss function\n",
    "                           n_jobs = -1)\n",
    "\n",
    "print (cv_results)\n",
    "print(\"results\")"
   ]
  },
  {
   "cell_type": "code",
   "execution_count": null,
   "metadata": {},
   "outputs": [],
   "source": []
  },
  {
   "cell_type": "markdown",
   "metadata": {},
   "source": [
    "**Phase 2: Best subset of features with GridSearch and Stratified K-fold cross validation**"
   ]
  },
  {
   "cell_type": "code",
   "execution_count": 31,
   "metadata": {},
   "outputs": [
    {
     "name": "stdout",
     "output_type": "stream",
     "text": [
      "{'fit_time': array([5.11297965, 5.2079761 , 5.05296373, 5.02893329, 4.73384571,\n",
      "       4.74883699, 4.84082747, 4.71286798, 2.76946449, 2.74243307]), 'score_time': array([0.0929656 , 0.02400684, 0.01299405, 0.0120182 , 0.01496172,\n",
      "       0.01500106, 0.01299953, 0.01500201, 0.00996828, 0.01196718]), 'test_accuracy': array([0.79540153, 0.7934022 , 0.79006998, 0.78807064, 0.79      ,\n",
      "       0.79266667, 0.78726242, 0.79259753, 0.78992998, 0.78459486]), 'train_accuracy': array([0.79065891, 0.79032557, 0.79039964, 0.79062187, 0.79088889,\n",
      "       0.79025926, 0.79122995, 0.79011888, 0.79011888, 0.79171142]), 'test_precision_macro': array([0.72420908, 0.71568555, 0.70571045, 0.69216867, 0.69888676,\n",
      "       0.71797577, 0.68489874, 0.71679711, 0.70378102, 0.6738962 ]), 'train_precision_macro': array([0.70372223, 0.70206177, 0.70241143, 0.70496165, 0.70525888,\n",
      "       0.70274454, 0.70707565, 0.70281365, 0.70251512, 0.70901672]), 'test_recall_macro': array([0.57107248, 0.56763253, 0.5574071 , 0.55827965, 0.56440832,\n",
      "       0.56234785, 0.56152213, 0.56170614, 0.55729328, 0.55548894]), 'train_recall_macro': array([0.56251897, 0.56212513, 0.56223263, 0.56105651, 0.56236258,\n",
      "       0.56093927, 0.56282732, 0.56013622, 0.56043588, 0.56385562]), 'test_neg_log_loss': array([-0.46973657, -0.47404918, -0.47599801, -0.46528868, -0.47379689,\n",
      "       -0.46408371, -0.47191903, -0.45562471, -0.46319895, -0.47608524]), 'train_neg_log_loss': array([-0.46866306, -0.46818008, -0.46795885, -0.46915624, -0.46820562,\n",
      "       -0.46928657, -0.4684162 , -0.47023431, -0.46938573, -0.46794987])}\n",
      "results\n"
     ]
    }
   ],
   "source": [
    "\n",
    "# grid search in a pipeline with logistic regression\n",
    "\n",
    "from sklearn.model_selection import GridSearchCV\n",
    "from sklearn.model_selection import cross_validate\n",
    "\n",
    "#Create logistic regression pipeline and gridsearch\n",
    "logit = LogisticRegression()\n",
    "\n",
    "param_logit={'C': [1.00000000e+00, 2.78255940e+00, 7.74263683e+00, 2.15443469e+01,\n",
    "       5.99484250e+01, 1.66810054e+02, 4.64158883e+02, 1.29154967e+03,\n",
    "       3.59381366e+03, 1.00000000e+04],\n",
    "            'penalty': ['l2']}\n",
    "\n",
    "grid = GridSearchCV(logit, param_logit, cv=5, verbose=0)\n",
    "scoring = ['accuracy', 'precision_macro', 'recall_macro', 'neg_log_loss']\n",
    "\n",
    "# create a pipeline that standardizes, then runs logistic regression\n",
    "#pipeline=make_pipeline(standardizer, grid)\n",
    "pipeline=make_pipeline(grid)\n",
    "# create k-fold cross-validation\n",
    "skf= StratifiedKFold(n_splits=10, shuffle=True, random_state=1)\n",
    "# conduct a k-fold cross-validation\n",
    "cv_results=cross_validate(pipeline, # Pipeline\n",
    "                           subset7, # Feature matrix\n",
    "                           yP,#target vector\n",
    "                           cv=skf, # Cross-validation technique\n",
    "                           scoring = scoring, # Loss function\n",
    "                           n_jobs = -1)\n",
    "\n",
    "print (cv_results)\n",
    "print(\"results\")"
   ]
  },
  {
   "cell_type": "code",
   "execution_count": null,
   "metadata": {},
   "outputs": [],
   "source": []
  },
  {
   "cell_type": "markdown",
   "metadata": {},
   "source": [
    "**Best parameters from parameters tested in above GridSearch**"
   ]
  },
  {
   "cell_type": "code",
   "execution_count": 32,
   "metadata": {},
   "outputs": [
    {
     "data": {
      "text/plain": [
       "({'mean_fit_time': array([0.10737901, 0.106321  , 0.08482733, 0.09360795, 0.08790193,\n",
       "         0.08641663, 0.08810077, 0.09031515, 0.0881845 , 0.07800384]),\n",
       "  'std_fit_time': array([0.011563  , 0.01921004, 0.01327362, 0.00827418, 0.00784828,\n",
       "         0.00830909, 0.00766234, 0.00680374, 0.0092075 , 0.01923633]),\n",
       "  'mean_score_time': array([0.01097713, 0.01021299, 0.00839639, 0.00689039, 0.00489354,\n",
       "         0.00458164, 0.00781307, 0.00579381, 0.01000304, 0.00438614]),\n",
       "  'std_score_time': array([0.00141542, 0.00715606, 0.00301771, 0.00241158, 0.00136575,\n",
       "         0.00101999, 0.00293859, 0.00279145, 0.0056088 , 0.00103765]),\n",
       "  'param_C': masked_array(data=[1.0, 2.7825594, 7.74263683, 21.5443469, 59.948425,\n",
       "                     166.810054, 464.158883, 1291.54967, 3593.81366,\n",
       "                     10000.0],\n",
       "               mask=[False, False, False, False, False, False, False, False,\n",
       "                     False, False],\n",
       "         fill_value='?',\n",
       "              dtype=object),\n",
       "  'param_penalty': masked_array(data=['l2', 'l2', 'l2', 'l2', 'l2', 'l2', 'l2', 'l2', 'l2',\n",
       "                     'l2'],\n",
       "               mask=[False, False, False, False, False, False, False, False,\n",
       "                     False, False],\n",
       "         fill_value='?',\n",
       "              dtype=object),\n",
       "  'params': [{'C': 1.0, 'penalty': 'l2'},\n",
       "   {'C': 2.7825594, 'penalty': 'l2'},\n",
       "   {'C': 7.74263683, 'penalty': 'l2'},\n",
       "   {'C': 21.5443469, 'penalty': 'l2'},\n",
       "   {'C': 59.948425, 'penalty': 'l2'},\n",
       "   {'C': 166.810054, 'penalty': 'l2'},\n",
       "   {'C': 464.158883, 'penalty': 'l2'},\n",
       "   {'C': 1291.54967, 'penalty': 'l2'},\n",
       "   {'C': 3593.81366, 'penalty': 'l2'},\n",
       "   {'C': 10000.0, 'penalty': 'l2'}],\n",
       "  'split0_test_score': array([0.61205953, 0.61199014, 0.61199014, 0.61199014, 0.61199014,\n",
       "         0.61199014, 0.61199014, 0.61199014, 0.61199014, 0.61199014]),\n",
       "  'split1_test_score': array([0.87455832, 0.87455832, 0.87455832, 0.87455832, 0.87455832,\n",
       "         0.87455832, 0.87455832, 0.87455832, 0.87455832, 0.87455832]),\n",
       "  'split2_test_score': array([0.87658203, 0.87658203, 0.87658203, 0.87658203, 0.87658203,\n",
       "         0.87658203, 0.87658203, 0.87658203, 0.87658203, 0.87658203]),\n",
       "  'split3_test_score': array([0.84055184, 0.84055184, 0.84055184, 0.84055184, 0.84055184,\n",
       "         0.84055184, 0.84055184, 0.84055184, 0.84055184, 0.84055184]),\n",
       "  'split4_test_score': array([0.7430281, 0.7430281, 0.7430281, 0.7430281, 0.7430281, 0.7430281,\n",
       "         0.7430281, 0.7430281, 0.7430281, 0.7430281]),\n",
       "  'mean_test_score': array([0.78935596, 0.78934209, 0.78934209, 0.78934209, 0.78934209,\n",
       "         0.78934209, 0.78934209, 0.78934209, 0.78934209, 0.78934209]),\n",
       "  'std_test_score': array([0.10106349, 0.10108783, 0.10108783, 0.10108783, 0.10108783,\n",
       "         0.10108783, 0.10108783, 0.10108783, 0.10108783, 0.10108783]),\n",
       "  'rank_test_score': array([1, 2, 2, 2, 2, 2, 2, 2, 2, 2]),\n",
       "  'split0_train_score': array([0.84876015, 0.84852138, 0.84852138, 0.84852138, 0.84852138,\n",
       "         0.84852138, 0.84852138, 0.84852138, 0.84852138, 0.84852138]),\n",
       "  'split1_train_score': array([0.6753586, 0.6753586, 0.6753586, 0.6753586, 0.6753586, 0.6753586,\n",
       "         0.6753586, 0.6753586, 0.6753586, 0.6753586]),\n",
       "  'split2_train_score': array([0.68242418, 0.68211321, 0.68211321, 0.68211321, 0.68211321,\n",
       "         0.68211321, 0.68211321, 0.68211321, 0.68211321, 0.68211321]),\n",
       "  'split3_train_score': array([0.70885067, 0.70867622, 0.70850196, 0.70832789, 0.70832789,\n",
       "         0.70832789, 0.70832789, 0.70832789, 0.70832789, 0.70832789]),\n",
       "  'split4_train_score': array([0.70677138, 0.70677138, 0.70677138, 0.70677138, 0.70677138,\n",
       "         0.70677138, 0.70677138, 0.70677138, 0.70677138, 0.70677138]),\n",
       "  'mean_train_score': array([0.72443299, 0.72428816, 0.72425331, 0.72421849, 0.72421849,\n",
       "         0.72421849, 0.72421849, 0.72421849, 0.72421849, 0.72421849]),\n",
       "  'std_train_score': array([0.06353742, 0.06349376, 0.06350237, 0.06351104, 0.06351104,\n",
       "         0.06351104, 0.06351104, 0.06351104, 0.06351104, 0.06351104])},\n",
       " {'C': 1.0, 'penalty': 'l2'},\n",
       " 0.7893559646490579)"
      ]
     },
     "execution_count": 32,
     "metadata": {},
     "output_type": "execute_result"
    }
   ],
   "source": [
    "param_testLR = {'C': [1.00000000e+00, 2.78255940e+00, 7.74263683e+00, 2.15443469e+01,\n",
    "       5.99484250e+01, 1.66810054e+02, 4.64158883e+02, 1.29154967e+03,\n",
    "       3.59381366e+03, 1.00000000e+04],\n",
    "            'penalty': ['l2']}\n",
    "LRsearch = GridSearchCV(estimator = LogisticRegression(), \n",
    "param_grid = param_testLR, scoring='precision_macro',n_jobs=4,iid=False, cv=5)\n",
    "LRsearch.fit(subset7, yP)\n",
    "LRsearch.cv_results_, LRsearch.best_params_, LRsearch.best_score_"
   ]
  },
  {
   "cell_type": "code",
   "execution_count": null,
   "metadata": {},
   "outputs": [],
   "source": []
  },
  {
   "cell_type": "markdown",
   "metadata": {},
   "source": [
    "### Probability Predictions and Classification Threshold Selection"
   ]
  },
  {
   "cell_type": "markdown",
   "metadata": {},
   "source": [
    "**Fit the model with best paramaters from the above GridSearch**"
   ]
  },
  {
   "cell_type": "code",
   "execution_count": 33,
   "metadata": {},
   "outputs": [],
   "source": [
    "\n",
    "# separate data into training and validation = full dataset in Phase 1 performed best for Logistic Regression\n",
    "XTrain, XTest, yTrain, yTest = train_test_split(X, y, stratify=y, test_size =0.3, random_state=11)\n",
    "\n",
    "# Fit the model with best paramaters from the above GridSearch\n",
    "LR = LogisticRegression(C = 1.0, penalty = 'l2').fit(XTrain, yTrain)           "
   ]
  },
  {
   "cell_type": "markdown",
   "metadata": {},
   "source": [
    "**Address imbalanced target by making probability predictions to choose best classification threshold for imbalanced target.**"
   ]
  },
  {
   "cell_type": "code",
   "execution_count": 34,
   "metadata": {},
   "outputs": [
    {
     "name": "stdout",
     "output_type": "stream",
     "text": [
      "Best Threshold=0.238376\n"
     ]
    }
   ],
   "source": [
    "# choose the threshold with the Receiver Operating Characteristic curve and Youden's J statistic\n",
    "\n",
    "# predict probabilities; the last part of this line keeps the probabilities for the positive outcome only\n",
    "LRpredprob=LR.predict_proba(XTest)[:,1]\n",
    "\n",
    "# calculate roc curves\n",
    "fpr, tpr, thresholds = metrics.roc_curve(yTest, LRpredprob)\n",
    "\n",
    "# get the best threshold: Youden’s J statistic\n",
    "J = tpr - fpr\n",
    "from numpy import argmax\n",
    "ix = argmax(J)\n",
    "best_thresh = thresholds[ix]\n",
    "print('Best Threshold=%f' % (best_thresh))"
   ]
  },
  {
   "cell_type": "code",
   "execution_count": null,
   "metadata": {},
   "outputs": [],
   "source": []
  },
  {
   "cell_type": "code",
   "execution_count": 57,
   "metadata": {},
   "outputs": [],
   "source": [
    "# custom confusion matrix function to show percentages\n",
    "def conf_matrix(y,pred):\n",
    "    ((tn, fp), (fn, tp)) = metrics.confusion_matrix(y, pred)\n",
    "    \n",
    "    return pd.DataFrame([[f'TN = {tn} (TNR = {tn / (tn+fp):1.2%})', \n",
    "                                f'FP = {fp} (FPR = {fp / (tn+fp):1.2%})'], \n",
    "                         [f'FN = {fn} (FNR = {fn / (fn+tp):1.2%})', \n",
    "                                f'TP = {tp} (TPR = {tp / (fn+tp):1.2%})']],\n",
    "            index=['True 0(No Default)', 'True 1(Default)'], \n",
    "            columns=['Pred 0(No Default)', \n",
    "                            'Pred 1(Default)'])"
   ]
  },
  {
   "cell_type": "code",
   "execution_count": null,
   "metadata": {},
   "outputs": [],
   "source": []
  },
  {
   "cell_type": "markdown",
   "metadata": {},
   "source": [
    "**Use best threshold to convert probabilities to classification predictions**"
   ]
  },
  {
   "cell_type": "code",
   "execution_count": 58,
   "metadata": {},
   "outputs": [
    {
     "data": {
      "text/html": [
       "<div>\n",
       "<style scoped>\n",
       "    .dataframe tbody tr th:only-of-type {\n",
       "        vertical-align: middle;\n",
       "    }\n",
       "\n",
       "    .dataframe tbody tr th {\n",
       "        vertical-align: top;\n",
       "    }\n",
       "\n",
       "    .dataframe thead th {\n",
       "        text-align: right;\n",
       "    }\n",
       "</style>\n",
       "<table border=\"1\" class=\"dataframe\">\n",
       "  <thead>\n",
       "    <tr style=\"text-align: right;\">\n",
       "      <th></th>\n",
       "      <th>Pred 0(No Default)</th>\n",
       "      <th>Pred 1(Default)</th>\n",
       "    </tr>\n",
       "  </thead>\n",
       "  <tbody>\n",
       "    <tr>\n",
       "      <th>True 0(No Default)</th>\n",
       "      <td>TN = 5296 (TNR = 75.56%)</td>\n",
       "      <td>FP = 1713 (FPR = 24.44%)</td>\n",
       "    </tr>\n",
       "    <tr>\n",
       "      <th>True 1(Default)</th>\n",
       "      <td>FN = 783 (FNR = 39.33%)</td>\n",
       "      <td>TP = 1208 (TPR = 60.67%)</td>\n",
       "    </tr>\n",
       "  </tbody>\n",
       "</table>\n",
       "</div>"
      ],
      "text/plain": [
       "                          Pred 0(No Default)           Pred 1(Default)\n",
       "True 0(No Default)  TN = 5296 (TNR = 75.56%)  FP = 1713 (FPR = 24.44%)\n",
       "True 1(Default)      FN = 783 (FNR = 39.33%)  TP = 1208 (TPR = 60.67%)"
      ]
     },
     "execution_count": 58,
     "metadata": {},
     "output_type": "execute_result"
    }
   ],
   "source": [
    "# predprob are predicted possibilities for positive outcome prediction \n",
    "# allocate the probability predictions between 1 and 0 based on the best threshold\n",
    "LRpredprob_tuned_thresh = np.where(LRpredprob >= 0.238376, 1, 0)\n",
    "\n",
    "# custom confusion matrix with predictions (showing percentages)\n",
    "conf_matLRthresh = conf_matrix(yTest, LRpredprob_tuned_thresh)\n",
    "conf_matLRthresh"
   ]
  },
  {
   "cell_type": "code",
   "execution_count": null,
   "metadata": {},
   "outputs": [],
   "source": []
  },
  {
   "cell_type": "markdown",
   "metadata": {},
   "source": [
    "**Visualize Confusion Matrix**"
   ]
  },
  {
   "cell_type": "code",
   "execution_count": 49,
   "metadata": {},
   "outputs": [
    {
     "name": "stdout",
     "output_type": "stream",
     "text": [
      "[[5296 1713]\n",
      " [ 783 1208]]\n"
     ]
    }
   ],
   "source": [
    "# need a different format of confusion matrix for visualizing the confusion matrix of predictions\n",
    "from sklearn.metrics import confusion_matrix\n",
    "conf_matLR = confusion_matrix(yTest, LRpredprob_tuned_thresh)\n",
    "print(conf_matLR)"
   ]
  },
  {
   "cell_type": "code",
   "execution_count": 50,
   "metadata": {},
   "outputs": [
    {
     "data": {
      "text/plain": [
       "(array([0.5, 1.5]),\n",
       " [Text(0, 0.5, 'No Default Next Month'), Text(0, 1.5, 'Default Next Month')])"
      ]
     },
     "execution_count": 50,
     "metadata": {},
     "output_type": "execute_result"
    },
    {
     "data": {
      "image/png": "[encoded data removed]",
      "text/plain": [
       "<Figure size 720x504 with 2 Axes>"
      ]
     },
     "metadata": {},
     "output_type": "display_data"
    }
   ],
   "source": [
    "# seaborn confusion matrix\n",
    "df_cm = pd.DataFrame(conf_matLR, columns=np.unique(yP), index = np.unique(yP))\n",
    "df_cm.index.name = 'Actual'\n",
    "df_cm.columns.name = 'Predicted'\n",
    "plt.figure(figsize = (10,7))\n",
    "sns.set(font_scale=1.4)#for label size\n",
    "x_axis_labels = [\"No Default Next Month\", \"Default Next Month\"] # labels for x-axis\n",
    "y_axis_labels = [\"No Default Next Month\", \"Default Next Month\"] # labels for y-axis\n",
    "sns.heatmap(df_cm, cmap=\"Blues\", annot=True,fmt='g', annot_kws={\"size\": 16}, xticklabels=x_axis_labels, \n",
    "            yticklabels=y_axis_labels)# font size\n",
    "plt.title(\"Confusion Matrix\")\n",
    "plt.tight_layout()\n",
    "plt.ylabel(\"Actual\")\n",
    "plt.xlabel(\"Predicted\")\n",
    "# This sets the yticks \"upright\" with 0, as opposed to sideways with 90.\n",
    "plt.yticks(rotation=0)\n"
   ]
  },
  {
   "cell_type": "code",
   "execution_count": null,
   "metadata": {},
   "outputs": [],
   "source": []
  },
  {
   "cell_type": "markdown",
   "metadata": {},
   "source": [
    "**Classification Report to View Evaluation Metrics**"
   ]
  },
  {
   "cell_type": "code",
   "execution_count": 43,
   "metadata": {},
   "outputs": [
    {
     "data": {
      "text/plain": [
       "<AxesSubplot:>"
      ]
     },
     "execution_count": 43,
     "metadata": {},
     "output_type": "execute_result"
    },
    {
     "data": {
      "image/png": "[encoded data removed]",
      "text/plain": [
       "<Figure size 576x396 with 2 Axes>"
      ]
     },
     "metadata": {},
     "output_type": "display_data"
    }
   ],
   "source": [
    "from sklearn.metrics import classification_report\n",
    "class_repLRthresh = classification_report(yTest, LRpredprob_tuned_thresh, output_dict=True, target_names= ['No Default', 'Default'])\n",
    "# Create a dataframe from the dictionary and plot a heatmap of it.\n",
    "#import seaborn as sns\n",
    "# .iloc[:-1, :] to exclude support\n",
    "sns.heatmap(pd.DataFrame(class_repLRthresh).iloc[:-1, :].T, annot=True, cmap=\"Blues\")"
   ]
  },
  {
   "cell_type": "code",
   "execution_count": null,
   "metadata": {},
   "outputs": [],
   "source": []
  },
  {
   "cell_type": "code",
   "execution_count": 44,
   "metadata": {},
   "outputs": [
    {
     "data": {
      "text/plain": [
       "['LR_predProb.sav']"
      ]
     },
     "execution_count": 44,
     "metadata": {},
     "output_type": "execute_result"
    }
   ],
   "source": [
    "import joblib\n",
    "# save the probility predictions\n",
    "filename = 'LR_predProb.sav'\n",
    "joblib.dump(LRpredprob_tuned_thresh, filename)"
   ]
  },
  {
   "cell_type": "code",
   "execution_count": null,
   "metadata": {},
   "outputs": [],
   "source": []
  },
  {
   "cell_type": "markdown",
   "metadata": {},
   "source": [
    "**Calculate Loss Scores for Imbalanced Targets**"
   ]
  },
  {
   "cell_type": "code",
   "execution_count": 45,
   "metadata": {},
   "outputs": [
    {
     "name": "stdout",
     "output_type": "stream",
     "text": [
      "Log Loss Score:  0.47036261099516286\n",
      "Brier Loss Score:  0.15024368852830047\n",
      "AUC Score:  0.7329434875257965\n"
     ]
    }
   ],
   "source": [
    "# loss scores with probabilities\n",
    "\n",
    "from sklearn.metrics import log_loss\n",
    "from sklearn.metrics import brier_score_loss\n",
    "from sklearn.metrics import roc_auc_score\n",
    "\n",
    "# the probabilities of the predictions were calculated above [below is the code used above]\n",
    "#LRpredprob=LR.predict_proba(XTest)[:,1]\n",
    "\n",
    "# calculate log loss\n",
    "# In the binary classification case, the function takes a list of true outcome values and a list of probabilities as arguments \n",
    "      # and calculates the average log loss for the predictions.\n",
    "LRlossLog = log_loss(yTest, LRpredprob)\n",
    "LRlossBrier = brier_score_loss(yTest, LRpredprob)\n",
    "LRlossAUC = roc_auc_score(yTest, LRpredprob)\n",
    "print('Log Loss Score: ', LRlossLog)\n",
    "print('Brier Loss Score: ', LRlossBrier)\n",
    "print('AUC Score: ', LRlossAUC)"
   ]
  },
  {
   "cell_type": "code",
   "execution_count": null,
   "metadata": {},
   "outputs": [],
   "source": []
  },
  {
   "cell_type": "code",
   "execution_count": null,
   "metadata": {},
   "outputs": [],
   "source": []
  }
 ],
 "metadata": {
  "kernelspec": {
   "display_name": "Python 3",
   "language": "python",
   "name": "python3"
  },
  "language_info": {
   "codemirror_mode": {
    "name": "ipython",
    "version": 3
   },
   "file_extension": ".py",
   "mimetype": "text/x-python",
   "name": "python",
   "nbconvert_exporter": "python",
   "pygments_lexer": "ipython3",
   "version": "3.7.6"
  }
 },
 "nbformat": 4,
 "nbformat_minor": 4
}
