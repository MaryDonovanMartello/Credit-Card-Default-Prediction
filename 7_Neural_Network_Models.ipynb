{
 "cells": [
  {
   "cell_type": "markdown",
   "metadata": {},
   "source": [
    "# Classification Prediction with Imbalanced Target"
   ]
  },
  {
   "cell_type": "markdown",
   "metadata": {},
   "source": [
    "## Mary Donovan Martello"
   ]
  },
  {
   "cell_type": "markdown",
   "metadata": {},
   "source": [
    "# Part 7:  Neural Network Models"
   ]
  },
  {
   "cell_type": "code",
   "execution_count": null,
   "metadata": {},
   "outputs": [],
   "source": []
  },
  {
   "cell_type": "code",
   "execution_count": 2,
   "metadata": {},
   "outputs": [],
   "source": [
    "# import libraries\n",
    "\n",
    "import pandas as pd\n",
    "from pandas import read_csv\n",
    "import numpy as np\n",
    "from numpy import mean\n",
    "from numpy import std\n",
    "from numpy import argmax\n",
    "\n",
    "import seaborn as sns\n",
    "import matplotlib.pyplot as plt\n",
    "from IPython.display import Markdown, display\n",
    "\n",
    "from sklearn.preprocessing import LabelEncoder\n",
    "from sklearn.preprocessing import OneHotEncoder\n",
    "from sklearn.compose import ColumnTransformer\n",
    "\n",
    "import keras\n",
    "from keras.models import Sequential\n",
    "from keras.layers import Dense\n",
    "from keras.layers import Dropout\n",
    "from keras import models\n",
    "from keras import layers\n",
    "\n",
    "\n",
    "#stop unnecessary warnings from printing to the screen\n",
    "import warnings\n",
    "warnings.simplefilter('ignore')\n",
    "\n"
   ]
  },
  {
   "cell_type": "code",
   "execution_count": null,
   "metadata": {},
   "outputs": [],
   "source": []
  },
  {
   "cell_type": "code",
   "execution_count": 3,
   "metadata": {},
   "outputs": [],
   "source": [
    "df = pd.read_csv('pcaDefault.csv')"
   ]
  },
  {
   "cell_type": "code",
   "execution_count": 102,
   "metadata": {},
   "outputs": [
    {
     "data": {
      "text/html": [
       "<div>\n",
       "<style scoped>\n",
       "    .dataframe tbody tr th:only-of-type {\n",
       "        vertical-align: middle;\n",
       "    }\n",
       "\n",
       "    .dataframe tbody tr th {\n",
       "        vertical-align: top;\n",
       "    }\n",
       "\n",
       "    .dataframe thead th {\n",
       "        text-align: right;\n",
       "    }\n",
       "</style>\n",
       "<table border=\"1\" class=\"dataframe\">\n",
       "  <thead>\n",
       "    <tr style=\"text-align: right;\">\n",
       "      <th></th>\n",
       "      <th>PC1</th>\n",
       "      <th>PC2</th>\n",
       "      <th>PC3</th>\n",
       "      <th>PC4</th>\n",
       "      <th>PC5</th>\n",
       "      <th>PC6</th>\n",
       "      <th>PC7</th>\n",
       "      <th>PC8</th>\n",
       "      <th>SEX</th>\n",
       "      <th>EDUCATION</th>\n",
       "      <th>MARRIAGE</th>\n",
       "      <th>default</th>\n",
       "    </tr>\n",
       "  </thead>\n",
       "  <tbody>\n",
       "    <tr>\n",
       "      <th>0</th>\n",
       "      <td>-0.957833</td>\n",
       "      <td>0.937311</td>\n",
       "      <td>1.089232</td>\n",
       "      <td>-3.070175</td>\n",
       "      <td>-1.616449</td>\n",
       "      <td>-0.714438</td>\n",
       "      <td>1.412181</td>\n",
       "      <td>0.851787</td>\n",
       "      <td>1</td>\n",
       "      <td>1</td>\n",
       "      <td>2</td>\n",
       "      <td>1</td>\n",
       "    </tr>\n",
       "    <tr>\n",
       "      <th>1</th>\n",
       "      <td>0.140456</td>\n",
       "      <td>0.781096</td>\n",
       "      <td>1.595321</td>\n",
       "      <td>0.000953</td>\n",
       "      <td>-0.933724</td>\n",
       "      <td>-2.166769</td>\n",
       "      <td>0.354654</td>\n",
       "      <td>1.852528</td>\n",
       "      <td>1</td>\n",
       "      <td>2</td>\n",
       "      <td>2</td>\n",
       "      <td>1</td>\n",
       "    </tr>\n",
       "    <tr>\n",
       "      <th>2</th>\n",
       "      <td>0.975396</td>\n",
       "      <td>0.018375</td>\n",
       "      <td>-0.006510</td>\n",
       "      <td>0.065376</td>\n",
       "      <td>-0.051777</td>\n",
       "      <td>-0.004641</td>\n",
       "      <td>0.500938</td>\n",
       "      <td>1.655141</td>\n",
       "      <td>1</td>\n",
       "      <td>1</td>\n",
       "      <td>1</td>\n",
       "      <td>1</td>\n",
       "    </tr>\n",
       "    <tr>\n",
       "      <th>3</th>\n",
       "      <td>-0.147522</td>\n",
       "      <td>1.543874</td>\n",
       "      <td>-1.033714</td>\n",
       "      <td>-1.732933</td>\n",
       "      <td>2.264226</td>\n",
       "      <td>0.395811</td>\n",
       "      <td>1.405861</td>\n",
       "      <td>0.736916</td>\n",
       "      <td>2</td>\n",
       "      <td>2</td>\n",
       "      <td>2</td>\n",
       "      <td>0</td>\n",
       "    </tr>\n",
       "    <tr>\n",
       "      <th>4</th>\n",
       "      <td>-0.029195</td>\n",
       "      <td>-0.055276</td>\n",
       "      <td>0.443091</td>\n",
       "      <td>3.284571</td>\n",
       "      <td>-0.871001</td>\n",
       "      <td>2.759460</td>\n",
       "      <td>0.446885</td>\n",
       "      <td>2.491130</td>\n",
       "      <td>1</td>\n",
       "      <td>2</td>\n",
       "      <td>1</td>\n",
       "      <td>0</td>\n",
       "    </tr>\n",
       "  </tbody>\n",
       "</table>\n",
       "</div>"
      ],
      "text/plain": [
       "        PC1       PC2       PC3       PC4       PC5       PC6       PC7  \\\n",
       "0 -0.957833  0.937311  1.089232 -3.070175 -1.616449 -0.714438  1.412181   \n",
       "1  0.140456  0.781096  1.595321  0.000953 -0.933724 -2.166769  0.354654   \n",
       "2  0.975396  0.018375 -0.006510  0.065376 -0.051777 -0.004641  0.500938   \n",
       "3 -0.147522  1.543874 -1.033714 -1.732933  2.264226  0.395811  1.405861   \n",
       "4 -0.029195 -0.055276  0.443091  3.284571 -0.871001  2.759460  0.446885   \n",
       "\n",
       "        PC8  SEX  EDUCATION  MARRIAGE  default  \n",
       "0  0.851787    1          1         2        1  \n",
       "1  1.852528    1          2         2        1  \n",
       "2  1.655141    1          1         1        1  \n",
       "3  0.736916    2          2         2        0  \n",
       "4  2.491130    1          2         1        0  "
      ]
     },
     "execution_count": 102,
     "metadata": {},
     "output_type": "execute_result"
    }
   ],
   "source": [
    "df.head()"
   ]
  },
  {
   "cell_type": "code",
   "execution_count": null,
   "metadata": {},
   "outputs": [],
   "source": []
  },
  {
   "cell_type": "markdown",
   "metadata": {},
   "source": [
    "**Create a Features Dataframe without Categorical Features**"
   ]
  },
  {
   "cell_type": "code",
   "execution_count": 4,
   "metadata": {},
   "outputs": [
    {
     "name": "stdout",
     "output_type": "stream",
     "text": [
      "   SEX  EDUCATION  MARRIAGE\n",
      "0    1          1         2\n",
      "1    1          2         2\n",
      "2    1          1         1\n",
      "3    2          2         2\n"
     ]
    }
   ],
   "source": [
    "\n",
    "# create a whole features dataset that can be used for train and validation data splitting\n",
    "# drop the categorical features\n",
    "dfNum = df.drop(['SEX', 'EDUCATION', 'MARRIAGE', 'default'], axis = 1)\n"
   ]
  },
  {
   "cell_type": "code",
   "execution_count": 104,
   "metadata": {},
   "outputs": [
    {
     "data": {
      "text/html": [
       "<div>\n",
       "<style scoped>\n",
       "    .dataframe tbody tr th:only-of-type {\n",
       "        vertical-align: middle;\n",
       "    }\n",
       "\n",
       "    .dataframe tbody tr th {\n",
       "        vertical-align: top;\n",
       "    }\n",
       "\n",
       "    .dataframe thead th {\n",
       "        text-align: right;\n",
       "    }\n",
       "</style>\n",
       "<table border=\"1\" class=\"dataframe\">\n",
       "  <thead>\n",
       "    <tr style=\"text-align: right;\">\n",
       "      <th></th>\n",
       "      <th>PC1</th>\n",
       "      <th>PC2</th>\n",
       "      <th>PC3</th>\n",
       "      <th>PC4</th>\n",
       "      <th>PC5</th>\n",
       "      <th>PC6</th>\n",
       "      <th>PC7</th>\n",
       "      <th>PC8</th>\n",
       "    </tr>\n",
       "  </thead>\n",
       "  <tbody>\n",
       "    <tr>\n",
       "      <th>0</th>\n",
       "      <td>-0.957833</td>\n",
       "      <td>0.937311</td>\n",
       "      <td>1.089232</td>\n",
       "      <td>-3.070175</td>\n",
       "      <td>-1.616449</td>\n",
       "      <td>-0.714438</td>\n",
       "      <td>1.412181</td>\n",
       "      <td>0.851787</td>\n",
       "    </tr>\n",
       "    <tr>\n",
       "      <th>1</th>\n",
       "      <td>0.140456</td>\n",
       "      <td>0.781096</td>\n",
       "      <td>1.595321</td>\n",
       "      <td>0.000953</td>\n",
       "      <td>-0.933724</td>\n",
       "      <td>-2.166769</td>\n",
       "      <td>0.354654</td>\n",
       "      <td>1.852528</td>\n",
       "    </tr>\n",
       "    <tr>\n",
       "      <th>2</th>\n",
       "      <td>0.975396</td>\n",
       "      <td>0.018375</td>\n",
       "      <td>-0.006510</td>\n",
       "      <td>0.065376</td>\n",
       "      <td>-0.051777</td>\n",
       "      <td>-0.004641</td>\n",
       "      <td>0.500938</td>\n",
       "      <td>1.655141</td>\n",
       "    </tr>\n",
       "    <tr>\n",
       "      <th>3</th>\n",
       "      <td>-0.147522</td>\n",
       "      <td>1.543874</td>\n",
       "      <td>-1.033714</td>\n",
       "      <td>-1.732933</td>\n",
       "      <td>2.264226</td>\n",
       "      <td>0.395811</td>\n",
       "      <td>1.405861</td>\n",
       "      <td>0.736916</td>\n",
       "    </tr>\n",
       "    <tr>\n",
       "      <th>4</th>\n",
       "      <td>-0.029195</td>\n",
       "      <td>-0.055276</td>\n",
       "      <td>0.443091</td>\n",
       "      <td>3.284571</td>\n",
       "      <td>-0.871001</td>\n",
       "      <td>2.759460</td>\n",
       "      <td>0.446885</td>\n",
       "      <td>2.491130</td>\n",
       "    </tr>\n",
       "  </tbody>\n",
       "</table>\n",
       "</div>"
      ],
      "text/plain": [
       "        PC1       PC2       PC3       PC4       PC5       PC6       PC7  \\\n",
       "0 -0.957833  0.937311  1.089232 -3.070175 -1.616449 -0.714438  1.412181   \n",
       "1  0.140456  0.781096  1.595321  0.000953 -0.933724 -2.166769  0.354654   \n",
       "2  0.975396  0.018375 -0.006510  0.065376 -0.051777 -0.004641  0.500938   \n",
       "3 -0.147522  1.543874 -1.033714 -1.732933  2.264226  0.395811  1.405861   \n",
       "4 -0.029195 -0.055276  0.443091  3.284571 -0.871001  2.759460  0.446885   \n",
       "\n",
       "        PC8  \n",
       "0  0.851787  \n",
       "1  1.852528  \n",
       "2  1.655141  \n",
       "3  0.736916  \n",
       "4  2.491130  "
      ]
     },
     "execution_count": 104,
     "metadata": {},
     "output_type": "execute_result"
    }
   ],
   "source": [
    "dfNum.head()"
   ]
  },
  {
   "cell_type": "code",
   "execution_count": 5,
   "metadata": {},
   "outputs": [],
   "source": [
    "# create a whole target dataset that can be used for train and validation data splitting\n",
    "y =  df['default']"
   ]
  },
  {
   "cell_type": "code",
   "execution_count": 297,
   "metadata": {},
   "outputs": [
    {
     "name": "stdout",
     "output_type": "stream",
     "text": [
      "(30000, 8)\n",
      "Index(['PC1', 'PC2', 'PC3', 'PC4', 'PC5', 'PC6', 'PC7', 'PC8'], dtype='object')\n"
     ]
    },
    {
     "data": {
      "text/html": [
       "<div>\n",
       "<style scoped>\n",
       "    .dataframe tbody tr th:only-of-type {\n",
       "        vertical-align: middle;\n",
       "    }\n",
       "\n",
       "    .dataframe tbody tr th {\n",
       "        vertical-align: top;\n",
       "    }\n",
       "\n",
       "    .dataframe thead th {\n",
       "        text-align: right;\n",
       "    }\n",
       "</style>\n",
       "<table border=\"1\" class=\"dataframe\">\n",
       "  <thead>\n",
       "    <tr style=\"text-align: right;\">\n",
       "      <th></th>\n",
       "      <th>PC1</th>\n",
       "      <th>PC2</th>\n",
       "      <th>PC3</th>\n",
       "      <th>PC4</th>\n",
       "      <th>PC5</th>\n",
       "      <th>PC6</th>\n",
       "      <th>PC7</th>\n",
       "      <th>PC8</th>\n",
       "    </tr>\n",
       "  </thead>\n",
       "  <tbody>\n",
       "    <tr>\n",
       "      <th>0</th>\n",
       "      <td>-0.957833</td>\n",
       "      <td>0.937311</td>\n",
       "      <td>1.089232</td>\n",
       "      <td>-3.070175</td>\n",
       "      <td>-1.616449</td>\n",
       "      <td>-0.714438</td>\n",
       "      <td>1.412181</td>\n",
       "      <td>0.851787</td>\n",
       "    </tr>\n",
       "    <tr>\n",
       "      <th>1</th>\n",
       "      <td>0.140456</td>\n",
       "      <td>0.781096</td>\n",
       "      <td>1.595321</td>\n",
       "      <td>0.000953</td>\n",
       "      <td>-0.933724</td>\n",
       "      <td>-2.166769</td>\n",
       "      <td>0.354654</td>\n",
       "      <td>1.852528</td>\n",
       "    </tr>\n",
       "    <tr>\n",
       "      <th>2</th>\n",
       "      <td>0.975396</td>\n",
       "      <td>0.018375</td>\n",
       "      <td>-0.006510</td>\n",
       "      <td>0.065376</td>\n",
       "      <td>-0.051777</td>\n",
       "      <td>-0.004641</td>\n",
       "      <td>0.500938</td>\n",
       "      <td>1.655141</td>\n",
       "    </tr>\n",
       "    <tr>\n",
       "      <th>3</th>\n",
       "      <td>-0.147522</td>\n",
       "      <td>1.543874</td>\n",
       "      <td>-1.033714</td>\n",
       "      <td>-1.732933</td>\n",
       "      <td>2.264226</td>\n",
       "      <td>0.395811</td>\n",
       "      <td>1.405861</td>\n",
       "      <td>0.736916</td>\n",
       "    </tr>\n",
       "    <tr>\n",
       "      <th>4</th>\n",
       "      <td>-0.029195</td>\n",
       "      <td>-0.055276</td>\n",
       "      <td>0.443091</td>\n",
       "      <td>3.284571</td>\n",
       "      <td>-0.871001</td>\n",
       "      <td>2.759460</td>\n",
       "      <td>0.446885</td>\n",
       "      <td>2.491130</td>\n",
       "    </tr>\n",
       "  </tbody>\n",
       "</table>\n",
       "</div>"
      ],
      "text/plain": [
       "        PC1       PC2       PC3       PC4       PC5       PC6       PC7  \\\n",
       "0 -0.957833  0.937311  1.089232 -3.070175 -1.616449 -0.714438  1.412181   \n",
       "1  0.140456  0.781096  1.595321  0.000953 -0.933724 -2.166769  0.354654   \n",
       "2  0.975396  0.018375 -0.006510  0.065376 -0.051777 -0.004641  0.500938   \n",
       "3 -0.147522  1.543874 -1.033714 -1.732933  2.264226  0.395811  1.405861   \n",
       "4 -0.029195 -0.055276  0.443091  3.284571 -0.871001  2.759460  0.446885   \n",
       "\n",
       "        PC8  \n",
       "0  0.851787  \n",
       "1  1.852528  \n",
       "2  1.655141  \n",
       "3  0.736916  \n",
       "4  2.491130  "
      ]
     },
     "execution_count": 297,
     "metadata": {},
     "output_type": "execute_result"
    }
   ],
   "source": [
    "print(dfNum.shape)\n",
    "print(dfNum.columns)\n",
    "dfNum.head()"
   ]
  },
  {
   "cell_type": "code",
   "execution_count": 105,
   "metadata": {},
   "outputs": [],
   "source": [
    "# separate data into training and validation \n",
    "XNTrain, XNTest, yNTrain, yNTest = train_test_split(dfNum, y, stratify=y, test_size =0.3, random_state=11)"
   ]
  },
  {
   "cell_type": "code",
   "execution_count": 106,
   "metadata": {},
   "outputs": [
    {
     "name": "stdout",
     "output_type": "stream",
     "text": [
      "(21000, 8)\n",
      "Index(['PC1', 'PC2', 'PC3', 'PC4', 'PC5', 'PC6', 'PC7', 'PC8'], dtype='object')\n"
     ]
    }
   ],
   "source": [
    "print(XNTrain.shape)\n",
    "print(XNTrain.columns)"
   ]
  },
  {
   "cell_type": "code",
   "execution_count": 217,
   "metadata": {},
   "outputs": [
    {
     "name": "stdout",
     "output_type": "stream",
     "text": [
      "Epoch 1/100\n",
      "657/657 [==============================] - 1s 2ms/step - loss: 0.5146 - accuracy: 0.7783 - recall: 0.0013\n",
      "Epoch 2/100\n",
      "657/657 [==============================] - 1s 1ms/step - loss: 0.4819 - accuracy: 0.7788 - recall: 0.0000e+00\n",
      "Epoch 3/100\n",
      "657/657 [==============================] - 1s 1ms/step - loss: 0.4833 - accuracy: 0.7788 - recall: 0.0000e+00\n",
      "Epoch 4/100\n",
      "657/657 [==============================] - 1s 1ms/step - loss: 0.4812 - accuracy: 0.7788 - recall: 0.0000e+00\n",
      "Epoch 5/100\n",
      "657/657 [==============================] - 1s 1ms/step - loss: 0.4799 - accuracy: 0.7788 - recall: 0.0000e+00\n",
      "Epoch 6/100\n",
      "657/657 [==============================] - 1s 1ms/step - loss: 0.4795 - accuracy: 0.7788 - recall: 0.0000e+00\n",
      "Epoch 7/100\n",
      "657/657 [==============================] - 1s 1ms/step - loss: 0.4800 - accuracy: 0.7788 - recall: 0.0000e+00\n",
      "Epoch 8/100\n",
      "657/657 [==============================] - 1s 1ms/step - loss: 0.4812 - accuracy: 0.7788 - recall: 0.0000e+00\n",
      "Epoch 9/100\n",
      "657/657 [==============================] - 1s 1ms/step - loss: 0.4811 - accuracy: 0.7788 - recall: 0.0000e+00\n",
      "Epoch 10/100\n",
      "657/657 [==============================] - 1s 1ms/step - loss: 0.4806 - accuracy: 0.7788 - recall: 0.0000e+00\n",
      "Epoch 11/100\n",
      "657/657 [==============================] - 1s 1ms/step - loss: 0.4805 - accuracy: 0.7788 - recall: 0.0000e+00\n",
      "Epoch 12/100\n",
      "657/657 [==============================] - 1s 1ms/step - loss: 0.4809 - accuracy: 0.7788 - recall: 0.0000e+00\n",
      "Epoch 13/100\n",
      "657/657 [==============================] - 1s 1ms/step - loss: 0.4795 - accuracy: 0.7788 - recall: 0.0000e+00\n",
      "Epoch 14/100\n",
      "657/657 [==============================] - 1s 1ms/step - loss: 0.4799 - accuracy: 0.7788 - recall: 0.0000e+00\n",
      "Epoch 15/100\n",
      "657/657 [==============================] - 1s 1ms/step - loss: 0.4814 - accuracy: 0.7788 - recall: 0.0000e+00\n",
      "Epoch 16/100\n",
      "657/657 [==============================] - 1s 1ms/step - loss: 0.4806 - accuracy: 0.7788 - recall: 0.0000e+00\n",
      "Epoch 17/100\n",
      "657/657 [==============================] - 1s 1ms/step - loss: 0.4791 - accuracy: 0.7788 - recall: 0.0000e+00\n",
      "Epoch 18/100\n",
      "657/657 [==============================] - 1s 1ms/step - loss: 0.4783 - accuracy: 0.7788 - recall: 0.0000e+00\n",
      "Epoch 19/100\n",
      "657/657 [==============================] - 1s 1ms/step - loss: 0.4802 - accuracy: 0.7788 - recall: 0.0000e+00\n",
      "Epoch 20/100\n",
      "657/657 [==============================] - 1s 1ms/step - loss: 0.4759 - accuracy: 0.7870 - recall: 0.0952\n",
      "Epoch 21/100\n",
      "657/657 [==============================] - 1s 1ms/step - loss: 0.4746 - accuracy: 0.7902 - recall: 0.1490\n",
      "Epoch 22/100\n",
      "657/657 [==============================] - 1s 1ms/step - loss: 0.4742 - accuracy: 0.7901 - recall: 0.1526\n",
      "Epoch 23/100\n",
      "657/657 [==============================] - 1s 1ms/step - loss: 0.4738 - accuracy: 0.7902 - recall: 0.1619\n",
      "Epoch 24/100\n",
      "657/657 [==============================] - 1s 1ms/step - loss: 0.4726 - accuracy: 0.7900 - recall: 0.1488\n",
      "Epoch 25/100\n",
      "657/657 [==============================] - 1s 1ms/step - loss: 0.4728 - accuracy: 0.7907 - recall: 0.1533\n",
      "Epoch 26/100\n",
      "657/657 [==============================] - 1s 1ms/step - loss: 0.4733 - accuracy: 0.7884 - recall: 0.1451\n",
      "Epoch 27/100\n",
      "657/657 [==============================] - 1s 1ms/step - loss: 0.4733 - accuracy: 0.7906 - recall: 0.1557\n",
      "Epoch 28/100\n",
      "657/657 [==============================] - 1s 1ms/step - loss: 0.4735 - accuracy: 0.7879 - recall: 0.1397\n",
      "Epoch 29/100\n",
      "657/657 [==============================] - 1s 1ms/step - loss: 0.4707 - accuracy: 0.7924 - recall: 0.1503\n",
      "Epoch 30/100\n",
      "657/657 [==============================] - 1s 1ms/step - loss: 0.4708 - accuracy: 0.7914 - recall: 0.1645\n",
      "Epoch 31/100\n",
      "657/657 [==============================] - 1s 1ms/step - loss: 0.4707 - accuracy: 0.7907 - recall: 0.1554\n",
      "Epoch 32/100\n",
      "657/657 [==============================] - 1s 1ms/step - loss: 0.4697 - accuracy: 0.7913 - recall: 0.1602\n",
      "Epoch 33/100\n",
      "657/657 [==============================] - 1s 1ms/step - loss: 0.4670 - accuracy: 0.7920 - recall: 0.1653\n",
      "Epoch 34/100\n",
      "657/657 [==============================] - 1s 1ms/step - loss: 0.4664 - accuracy: 0.7956 - recall: 0.1974\n",
      "Epoch 35/100\n",
      "657/657 [==============================] - 1s 1ms/step - loss: 0.4668 - accuracy: 0.7951 - recall: 0.1920\n",
      "Epoch 36/100\n",
      "657/657 [==============================] - 1s 1ms/step - loss: 0.4653 - accuracy: 0.7960 - recall: 0.2011\n",
      "Epoch 37/100\n",
      "657/657 [==============================] - 1s 1ms/step - loss: 0.4648 - accuracy: 0.7949 - recall: 0.1959\n",
      "Epoch 38/100\n",
      "657/657 [==============================] - 1s 1ms/step - loss: 0.4641 - accuracy: 0.7952 - recall: 0.1972\n",
      "Epoch 39/100\n",
      "657/657 [==============================] - 1s 1ms/step - loss: 0.4630 - accuracy: 0.7980 - recall: 0.2123\n",
      "Epoch 40/100\n",
      "657/657 [==============================] - 1s 1ms/step - loss: 0.4638 - accuracy: 0.7947 - recall: 0.1950\n",
      "Epoch 41/100\n",
      "657/657 [==============================] - 1s 1ms/step - loss: 0.4636 - accuracy: 0.7972 - recall: 0.2062\n",
      "Epoch 42/100\n",
      "657/657 [==============================] - 1s 1ms/step - loss: 0.4640 - accuracy: 0.7959 - recall: 0.2028\n",
      "Epoch 43/100\n",
      "657/657 [==============================] - 1s 1ms/step - loss: 0.4615 - accuracy: 0.7967 - recall: 0.2013\n",
      "Epoch 44/100\n",
      "657/657 [==============================] - 1s 1ms/step - loss: 0.4616 - accuracy: 0.7957 - recall: 0.2050\n",
      "Epoch 45/100\n",
      "657/657 [==============================] - 1s 1ms/step - loss: 0.4624 - accuracy: 0.7970 - recall: 0.2030\n",
      "Epoch 46/100\n",
      "657/657 [==============================] - 1s 1ms/step - loss: 0.4621 - accuracy: 0.7964 - recall: 0.2043\n",
      "Epoch 47/100\n",
      "657/657 [==============================] - 1s 1ms/step - loss: 0.4618 - accuracy: 0.7990 - recall: 0.2207\n",
      "Epoch 48/100\n",
      "657/657 [==============================] - 1s 1ms/step - loss: 0.4611 - accuracy: 0.7951 - recall: 0.1985\n",
      "Epoch 49/100\n",
      "657/657 [==============================] - 1s 1ms/step - loss: 0.4596 - accuracy: 0.7985 - recall: 0.2133\n",
      "Epoch 50/100\n",
      "657/657 [==============================] - 1s 1ms/step - loss: 0.4605 - accuracy: 0.7973 - recall: 0.2125\n",
      "Epoch 51/100\n",
      "657/657 [==============================] - 1s 1ms/step - loss: 0.4574 - accuracy: 0.7976 - recall: 0.2123\n",
      "Epoch 52/100\n",
      "657/657 [==============================] - 1s 1ms/step - loss: 0.4590 - accuracy: 0.7977 - recall: 0.2159\n",
      "Epoch 53/100\n",
      "657/657 [==============================] - 1s 1ms/step - loss: 0.4584 - accuracy: 0.7980 - recall: 0.2123\n",
      "Epoch 54/100\n",
      "657/657 [==============================] - 1s 1ms/step - loss: 0.4589 - accuracy: 0.7977 - recall: 0.2105\n",
      "Epoch 55/100\n",
      "657/657 [==============================] - 1s 1ms/step - loss: 0.4580 - accuracy: 0.7979 - recall: 0.2125\n",
      "Epoch 56/100\n",
      "657/657 [==============================] - 1s 1ms/step - loss: 0.4599 - accuracy: 0.7974 - recall: 0.2138\n",
      "Epoch 57/100\n",
      "657/657 [==============================] - 1s 1ms/step - loss: 0.4617 - accuracy: 0.7940 - recall: 0.1884\n",
      "Epoch 58/100\n",
      "657/657 [==============================] - 1s 1ms/step - loss: 0.4588 - accuracy: 0.7986 - recall: 0.2245\n",
      "Epoch 59/100\n",
      "657/657 [==============================] - 1s 1ms/step - loss: 0.4594 - accuracy: 0.7975 - recall: 0.2112\n",
      "Epoch 60/100\n",
      "657/657 [==============================] - 1s 1ms/step - loss: 0.4589 - accuracy: 0.7975 - recall: 0.2142\n",
      "Epoch 61/100\n",
      "657/657 [==============================] - 1s 1ms/step - loss: 0.4584 - accuracy: 0.7976 - recall: 0.2153\n",
      "Epoch 62/100\n",
      "657/657 [==============================] - 1s 1ms/step - loss: 0.4592 - accuracy: 0.7968 - recall: 0.2116\n",
      "Epoch 63/100\n",
      "657/657 [==============================] - 1s 1ms/step - loss: 0.4583 - accuracy: 0.7969 - recall: 0.2161\n",
      "Epoch 64/100\n",
      "657/657 [==============================] - 1s 1ms/step - loss: 0.4591 - accuracy: 0.7982 - recall: 0.2151\n",
      "Epoch 65/100\n",
      "657/657 [==============================] - 1s 1ms/step - loss: 0.4585 - accuracy: 0.7983 - recall: 0.2226\n",
      "Epoch 66/100\n",
      "657/657 [==============================] - 1s 1ms/step - loss: 0.4575 - accuracy: 0.7975 - recall: 0.2198\n",
      "Epoch 67/100\n",
      "657/657 [==============================] - 1s 1ms/step - loss: 0.4573 - accuracy: 0.7967 - recall: 0.2151\n",
      "Epoch 68/100\n",
      "657/657 [==============================] - 1s 1ms/step - loss: 0.4581 - accuracy: 0.7964 - recall: 0.2103\n",
      "Epoch 69/100\n",
      "657/657 [==============================] - 1s 1ms/step - loss: 0.4597 - accuracy: 0.7974 - recall: 0.2108\n",
      "Epoch 70/100\n",
      "657/657 [==============================] - 1s 1ms/step - loss: 0.4564 - accuracy: 0.7999 - recall: 0.2179\n",
      "Epoch 71/100\n",
      "657/657 [==============================] - 1s 996us/step - loss: 0.4571 - accuracy: 0.7978 - recall: 0.2230\n",
      "Epoch 72/100\n",
      "657/657 [==============================] - 1s 1ms/step - loss: 0.4589 - accuracy: 0.7979 - recall: 0.2213\n",
      "Epoch 73/100\n",
      "657/657 [==============================] - 1s 1ms/step - loss: 0.4581 - accuracy: 0.7975 - recall: 0.2198\n",
      "Epoch 74/100\n",
      "657/657 [==============================] - 1s 984us/step - loss: 0.4600 - accuracy: 0.7969 - recall: 0.2086\n",
      "Epoch 75/100\n",
      "657/657 [==============================] - 1s 1ms/step - loss: 0.4566 - accuracy: 0.7978 - recall: 0.2114\n",
      "Epoch 76/100\n",
      "657/657 [==============================] - 1s 1ms/step - loss: 0.4585 - accuracy: 0.7979 - recall: 0.2200\n",
      "Epoch 77/100\n",
      "657/657 [==============================] - 1s 1ms/step - loss: 0.4568 - accuracy: 0.7981 - recall: 0.2245\n",
      "Epoch 78/100\n",
      "657/657 [==============================] - 1s 1ms/step - loss: 0.4578 - accuracy: 0.7972 - recall: 0.2166\n",
      "Epoch 79/100\n",
      "657/657 [==============================] - 1s 1ms/step - loss: 0.4566 - accuracy: 0.7986 - recall: 0.2241\n",
      "Epoch 80/100\n",
      "657/657 [==============================] - 1s 1ms/step - loss: 0.4607 - accuracy: 0.7949 - recall: 0.2075\n",
      "Epoch 81/100\n",
      "657/657 [==============================] - 1s 1ms/step - loss: 0.4562 - accuracy: 0.7989 - recall: 0.2185\n",
      "Epoch 82/100\n",
      "657/657 [==============================] - 1s 1ms/step - loss: 0.4565 - accuracy: 0.7997 - recall: 0.2267\n",
      "Epoch 83/100\n",
      "657/657 [==============================] - 1s 1ms/step - loss: 0.4570 - accuracy: 0.7983 - recall: 0.2205\n",
      "Epoch 84/100\n",
      "657/657 [==============================] - 1s 1ms/step - loss: 0.4564 - accuracy: 0.7985 - recall: 0.2187\n",
      "Epoch 85/100\n",
      "657/657 [==============================] - 1s 1ms/step - loss: 0.4544 - accuracy: 0.7997 - recall: 0.2304\n",
      "Epoch 86/100\n",
      "657/657 [==============================] - 1s 1ms/step - loss: 0.4579 - accuracy: 0.7965 - recall: 0.2164\n",
      "Epoch 87/100\n",
      "657/657 [==============================] - 1s 1ms/step - loss: 0.4569 - accuracy: 0.7968 - recall: 0.2174\n",
      "Epoch 88/100\n",
      "657/657 [==============================] - 1s 1ms/step - loss: 0.4572 - accuracy: 0.7988 - recall: 0.2159\n",
      "Epoch 89/100\n",
      "657/657 [==============================] - 1s 1ms/step - loss: 0.4573 - accuracy: 0.7984 - recall: 0.2245\n",
      "Epoch 90/100\n",
      "657/657 [==============================] - 1s 1ms/step - loss: 0.4566 - accuracy: 0.7997 - recall: 0.2286\n",
      "Epoch 91/100\n",
      "657/657 [==============================] - 1s 1ms/step - loss: 0.4568 - accuracy: 0.8000 - recall: 0.2282\n",
      "Epoch 92/100\n",
      "657/657 [==============================] - 1s 1ms/step - loss: 0.4564 - accuracy: 0.7977 - recall: 0.2260\n",
      "Epoch 93/100\n",
      "657/657 [==============================] - 1s 1ms/step - loss: 0.4578 - accuracy: 0.7969 - recall: 0.2118A: 0s - loss: 0.4781 - accuracy: 0.7878 - r\n",
      "Epoch 94/100\n",
      "657/657 [==============================] - 1s 1ms/step - loss: 0.4571 - accuracy: 0.7984 - recall: 0.2164A: 0s - loss: 0.4525 - accuracy: 0.7986 - rec\n",
      "Epoch 95/100\n",
      "657/657 [==============================] - 1s 1ms/step - loss: 0.4559 - accuracy: 0.7971 - recall: 0.2151\n",
      "Epoch 96/100\n",
      "657/657 [==============================] - 1s 1ms/step - loss: 0.4586 - accuracy: 0.7971 - recall: 0.2151\n",
      "Epoch 97/100\n",
      "657/657 [==============================] - 1s 1ms/step - loss: 0.4581 - accuracy: 0.7977 - recall: 0.2189\n",
      "Epoch 98/100\n",
      "657/657 [==============================] - 1s 1ms/step - loss: 0.4577 - accuracy: 0.7952 - recall: 0.2060\n",
      "Epoch 99/100\n",
      "657/657 [==============================] - 1s 1ms/step - loss: 0.4577 - accuracy: 0.7964 - recall: 0.2112\n",
      "Epoch 100/100\n",
      "657/657 [==============================] - 1s 992us/step - loss: 0.4563 - accuracy: 0.7971 - recall: 0.2164\n"
     ]
    }
   ],
   "source": [
    "# Initialising the ANN\n",
    "classifier = Sequential()\n",
    "\n",
    "# Adding the input layer and the first hidden layer\n",
    "classifier.add(Dense(units =15 , kernel_initializer = 'uniform', activation = 'relu', input_dim = 8))\n",
    "\n",
    "# Adding the second hidden layer\n",
    "classifier.add(Dense(units = 15, kernel_initializer = 'uniform', activation = 'relu'))\n",
    "\n",
    "# Adding dropout layer to fight overfitting\n",
    "classifier.add(Dropout(0.5))\n",
    "\n",
    "# Adding the output layer\n",
    "classifier.add(Dense(units = 1, kernel_initializer = 'uniform', activation = 'sigmoid'))\n",
    "\n",
    "# Compiling the ANN\n",
    "classifier.compile(optimizer = 'adam', loss = 'binary_crossentropy', metrics = ['accuracy', 'Recall'])\n",
    "\n",
    "# Fitting the ANN to the Training set\n",
    "results = classifier.fit(XNTrain, yNTrain, batch_size = 32, epochs = 100)"
   ]
  },
  {
   "cell_type": "code",
   "execution_count": null,
   "metadata": {},
   "outputs": [],
   "source": []
  },
  {
   "cell_type": "markdown",
   "metadata": {},
   "source": [
    "**Imbalance target requires weighting the target classes**"
   ]
  },
  {
   "cell_type": "code",
   "execution_count": 129,
   "metadata": {},
   "outputs": [],
   "source": [
    "# set variables for weighting the target classes\n",
    "pos = 6636\n",
    "neg = 23364\n",
    "total = 30000"
   ]
  },
  {
   "cell_type": "code",
   "execution_count": 130,
   "metadata": {},
   "outputs": [
    {
     "name": "stdout",
     "output_type": "stream",
     "text": [
      "Weight for class 0: 0.64\n",
      "Weight for class 1: 2.26\n"
     ]
    }
   ],
   "source": [
    "# Scaling by total/2 helps keep the loss to a similar magnitude.\n",
    "# The sum of the weights of all examples stays the same.\n",
    "weight_for_0 = (1 / neg)*(total)/2.0 \n",
    "weight_for_1 = (1 / pos)*(total)/2.0\n",
    "\n",
    "class_weight = {0: weight_for_0, 1: weight_for_1}\n",
    "\n",
    "print('Weight for class 0: {:.2f}'.format(weight_for_0))\n",
    "print('Weight for class 1: {:.2f}'.format(weight_for_1))"
   ]
  },
  {
   "cell_type": "code",
   "execution_count": null,
   "metadata": {},
   "outputs": [],
   "source": []
  },
  {
   "cell_type": "markdown",
   "metadata": {},
   "source": [
    "**Set apart validation data**"
   ]
  },
  {
   "cell_type": "code",
   "execution_count": null,
   "metadata": {},
   "outputs": [],
   "source": [
    "x_val = XNTrain[:10000]\n",
    "partial_x_train = XNTrain[10000:]\n",
    "\n",
    "y_val = yNTrain[:10000]\n",
    "partial_y_train = yNTrain[10000:]"
   ]
  },
  {
   "cell_type": "code",
   "execution_count": null,
   "metadata": {},
   "outputs": [],
   "source": []
  },
  {
   "cell_type": "markdown",
   "metadata": {},
   "source": [
    "**Fit the first model with the class weights and employ validation data**"
   ]
  },
  {
   "cell_type": "code",
   "execution_count": 219,
   "metadata": {},
   "outputs": [
    {
     "name": "stdout",
     "output_type": "stream",
     "text": [
      "Epoch 1/100\n",
      "344/344 [==============================] - 1s 4ms/step - loss: 0.6255 - accuracy: 0.7793 - recall: 0.3929 - val_loss: 0.5135 - val_accuracy: 0.7875 - val_recall: 0.4844\n",
      "Epoch 2/100\n",
      "344/344 [==============================] - 1s 2ms/step - loss: 0.6071 - accuracy: 0.7767 - recall: 0.3879 - val_loss: 0.5273 - val_accuracy: 0.7889 - val_recall: 0.4898\n",
      "Epoch 3/100\n",
      "344/344 [==============================] - 1s 2ms/step - loss: 0.6041 - accuracy: 0.7818 - recall: 0.3859 - val_loss: 0.5500 - val_accuracy: 0.7873 - val_recall: 0.4871\n",
      "Epoch 4/100\n",
      "344/344 [==============================] - 1s 2ms/step - loss: 0.6014 - accuracy: 0.7605 - recall: 0.5456 - val_loss: 0.5489 - val_accuracy: 0.7560 - val_recall: 0.5808\n",
      "Epoch 5/100\n",
      "344/344 [==============================] - 1s 3ms/step - loss: 0.5957 - accuracy: 0.7307 - recall: 0.6412 - val_loss: 0.5742 - val_accuracy: 0.7313 - val_recall: 0.6374\n",
      "Epoch 6/100\n",
      "344/344 [==============================] - 1s 2ms/step - loss: 0.5944 - accuracy: 0.7339 - recall: 0.6474 - val_loss: 0.5823 - val_accuracy: 0.7200 - val_recall: 0.6546\n",
      "Epoch 7/100\n",
      "344/344 [==============================] - 1s 2ms/step - loss: 0.5936 - accuracy: 0.7216 - recall: 0.6741 - val_loss: 0.5643 - val_accuracy: 0.7307 - val_recall: 0.6374\n",
      "Epoch 8/100\n",
      "344/344 [==============================] - 1s 2ms/step - loss: 0.5959 - accuracy: 0.7181 - recall: 0.6654 - val_loss: 0.5521 - val_accuracy: 0.7374 - val_recall: 0.6215\n",
      "Epoch 9/100\n",
      "344/344 [==============================] - 1s 2ms/step - loss: 0.5886 - accuracy: 0.7181 - recall: 0.6736 - val_loss: 0.5788 - val_accuracy: 0.7243 - val_recall: 0.6474\n",
      "Epoch 10/100\n",
      "344/344 [==============================] - 1s 2ms/step - loss: 0.5919 - accuracy: 0.7154 - recall: 0.6810 - val_loss: 0.5488 - val_accuracy: 0.7388 - val_recall: 0.6093\n",
      "Epoch 11/100\n",
      "344/344 [==============================] - 1s 2ms/step - loss: 0.5937 - accuracy: 0.7114 - recall: 0.6851 - val_loss: 0.5652 - val_accuracy: 0.7279 - val_recall: 0.6329\n",
      "Epoch 12/100\n",
      "344/344 [==============================] - 1s 2ms/step - loss: 0.5934 - accuracy: 0.7173 - recall: 0.6831 - val_loss: 0.5841 - val_accuracy: 0.7229 - val_recall: 0.6555\n",
      "Epoch 13/100\n",
      "344/344 [==============================] - 1s 2ms/step - loss: 0.5899 - accuracy: 0.7062 - recall: 0.6802 - val_loss: 0.5765 - val_accuracy: 0.7278 - val_recall: 0.6397\n",
      "Epoch 14/100\n",
      "344/344 [==============================] - 1s 2ms/step - loss: 0.5904 - accuracy: 0.7072 - recall: 0.6938 - val_loss: 0.5639 - val_accuracy: 0.7322 - val_recall: 0.6338\n",
      "Epoch 15/100\n",
      "344/344 [==============================] - 1s 2ms/step - loss: 0.5911 - accuracy: 0.7076 - recall: 0.6819 - val_loss: 0.5606 - val_accuracy: 0.7315 - val_recall: 0.6360\n",
      "Epoch 16/100\n",
      "344/344 [==============================] - 1s 2ms/step - loss: 0.5923 - accuracy: 0.6992 - recall: 0.6933 - val_loss: 0.5638 - val_accuracy: 0.7342 - val_recall: 0.6283\n",
      "Epoch 17/100\n",
      "344/344 [==============================] - 1s 2ms/step - loss: 0.5941 - accuracy: 0.6968 - recall: 0.6970 - val_loss: 0.5824 - val_accuracy: 0.7243 - val_recall: 0.6492\n",
      "Epoch 18/100\n",
      "344/344 [==============================] - 1s 2ms/step - loss: 0.5881 - accuracy: 0.7080 - recall: 0.6929 - val_loss: 0.5590 - val_accuracy: 0.7374 - val_recall: 0.6301\n",
      "Epoch 19/100\n",
      "344/344 [==============================] - 1s 2ms/step - loss: 0.5922 - accuracy: 0.7037 - recall: 0.6860 - val_loss: 0.5784 - val_accuracy: 0.7293 - val_recall: 0.6451\n",
      "Epoch 20/100\n",
      "344/344 [==============================] - 1s 2ms/step - loss: 0.5936 - accuracy: 0.7051 - recall: 0.6954 - val_loss: 0.5924 - val_accuracy: 0.7071 - val_recall: 0.6768\n",
      "Epoch 21/100\n",
      "344/344 [==============================] - 1s 2ms/step - loss: 0.5926 - accuracy: 0.7029 - recall: 0.6933 - val_loss: 0.5687 - val_accuracy: 0.7293 - val_recall: 0.6347\n",
      "Epoch 22/100\n",
      "344/344 [==============================] - 1s 2ms/step - loss: 0.5920 - accuracy: 0.7026 - recall: 0.6954 - val_loss: 0.5769 - val_accuracy: 0.7266 - val_recall: 0.6428\n",
      "Epoch 23/100\n",
      "344/344 [==============================] - 1s 2ms/step - loss: 0.5886 - accuracy: 0.6971 - recall: 0.6950 - val_loss: 0.5729 - val_accuracy: 0.7313 - val_recall: 0.6378\n",
      "Epoch 24/100\n",
      "344/344 [==============================] - 1s 2ms/step - loss: 0.5886 - accuracy: 0.7085 - recall: 0.6868 - val_loss: 0.5939 - val_accuracy: 0.7054 - val_recall: 0.6704\n",
      "Epoch 25/100\n",
      "344/344 [==============================] - 1s 2ms/step - loss: 0.5918 - accuracy: 0.6934 - recall: 0.6958 - val_loss: 0.5619 - val_accuracy: 0.7260 - val_recall: 0.6374\n",
      "Epoch 26/100\n",
      "344/344 [==============================] - 1s 2ms/step - loss: 0.5884 - accuracy: 0.7032 - recall: 0.7098 - val_loss: 0.5691 - val_accuracy: 0.7256 - val_recall: 0.6401\n",
      "Epoch 27/100\n",
      "344/344 [==============================] - 1s 2ms/step - loss: 0.5901 - accuracy: 0.7052 - recall: 0.6851 - val_loss: 0.6153 - val_accuracy: 0.6764 - val_recall: 0.7162\n",
      "Epoch 28/100\n",
      "344/344 [==============================] - 1s 2ms/step - loss: 0.5902 - accuracy: 0.6945 - recall: 0.6991 - val_loss: 0.5747 - val_accuracy: 0.7223 - val_recall: 0.6460\n",
      "Epoch 29/100\n",
      "344/344 [==============================] - 1s 2ms/step - loss: 0.5891 - accuracy: 0.7020 - recall: 0.7003 - val_loss: 0.5852 - val_accuracy: 0.7064 - val_recall: 0.6632\n",
      "Epoch 30/100\n",
      "344/344 [==============================] - 1s 2ms/step - loss: 0.5899 - accuracy: 0.6929 - recall: 0.7081 - val_loss: 0.5588 - val_accuracy: 0.7320 - val_recall: 0.6329\n",
      "Epoch 31/100\n",
      "344/344 [==============================] - 1s 2ms/step - loss: 0.5924 - accuracy: 0.6942 - recall: 0.6983 - val_loss: 0.5794 - val_accuracy: 0.7132 - val_recall: 0.6573\n",
      "Epoch 32/100\n",
      "344/344 [==============================] - 1s 2ms/step - loss: 0.5946 - accuracy: 0.7011 - recall: 0.6995 - val_loss: 0.5817 - val_accuracy: 0.7202 - val_recall: 0.6537\n",
      "Epoch 33/100\n",
      "344/344 [==============================] - 1s 2ms/step - loss: 0.5916 - accuracy: 0.6969 - recall: 0.6958 - val_loss: 0.5815 - val_accuracy: 0.7065 - val_recall: 0.6682\n",
      "Epoch 34/100\n",
      "344/344 [==============================] - 1s 2ms/step - loss: 0.5921 - accuracy: 0.6921 - recall: 0.7073 - val_loss: 0.5712 - val_accuracy: 0.7269 - val_recall: 0.6374\n",
      "Epoch 35/100\n",
      "344/344 [==============================] - 1s 2ms/step - loss: 0.5936 - accuracy: 0.6935 - recall: 0.6954 - val_loss: 0.5801 - val_accuracy: 0.7134 - val_recall: 0.6578\n",
      "Epoch 36/100\n",
      "344/344 [==============================] - 1s 2ms/step - loss: 0.5885 - accuracy: 0.7032 - recall: 0.6921 - val_loss: 0.5816 - val_accuracy: 0.7156 - val_recall: 0.6596\n",
      "Epoch 37/100\n",
      "344/344 [==============================] - 1s 3ms/step - loss: 0.5908 - accuracy: 0.6997 - recall: 0.7118 - val_loss: 0.5712 - val_accuracy: 0.7208 - val_recall: 0.6474\n",
      "Epoch 38/100\n",
      "344/344 [==============================] - 1s 2ms/step - loss: 0.5903 - accuracy: 0.6951 - recall: 0.6983 - val_loss: 0.5769 - val_accuracy: 0.7206 - val_recall: 0.6546\n",
      "Epoch 39/100\n",
      "344/344 [==============================] - 1s 2ms/step - loss: 0.5893 - accuracy: 0.6967 - recall: 0.6950 - val_loss: 0.5678 - val_accuracy: 0.7219 - val_recall: 0.6501\n",
      "Epoch 40/100\n",
      "344/344 [==============================] - 1s 3ms/step - loss: 0.5854 - accuracy: 0.7058 - recall: 0.6995 - val_loss: 0.5704 - val_accuracy: 0.7155 - val_recall: 0.6519\n",
      "Epoch 41/100\n",
      "344/344 [==============================] - 1s 2ms/step - loss: 0.5915 - accuracy: 0.7015 - recall: 0.7007 - val_loss: 0.6203 - val_accuracy: 0.6662 - val_recall: 0.7306\n",
      "Epoch 42/100\n",
      "344/344 [==============================] - 1s 2ms/step - loss: 0.5890 - accuracy: 0.6868 - recall: 0.7061 - val_loss: 0.5650 - val_accuracy: 0.7270 - val_recall: 0.6383\n",
      "Epoch 43/100\n",
      "344/344 [==============================] - 1s 2ms/step - loss: 0.5900 - accuracy: 0.6940 - recall: 0.7003 - val_loss: 0.5602 - val_accuracy: 0.7273 - val_recall: 0.6347\n",
      "Epoch 44/100\n",
      "344/344 [==============================] - 1s 2ms/step - loss: 0.5904 - accuracy: 0.6927 - recall: 0.7069 - val_loss: 0.5580 - val_accuracy: 0.7343 - val_recall: 0.6333\n",
      "Epoch 45/100\n",
      "344/344 [==============================] - 1s 2ms/step - loss: 0.5893 - accuracy: 0.7021 - recall: 0.7040 - val_loss: 0.5723 - val_accuracy: 0.7169 - val_recall: 0.6528\n",
      "Epoch 46/100\n"
     ]
    },
    {
     "name": "stdout",
     "output_type": "stream",
     "text": [
      "344/344 [==============================] - 1s 2ms/step - loss: 0.5892 - accuracy: 0.7008 - recall: 0.6958 - val_loss: 0.5945 - val_accuracy: 0.6956 - val_recall: 0.6818\n",
      "Epoch 47/100\n",
      "344/344 [==============================] - 1s 2ms/step - loss: 0.5864 - accuracy: 0.6934 - recall: 0.7069 - val_loss: 0.5483 - val_accuracy: 0.7384 - val_recall: 0.6179\n",
      "Epoch 48/100\n",
      "344/344 [==============================] - 1s 2ms/step - loss: 0.5874 - accuracy: 0.7001 - recall: 0.6970 - val_loss: 0.5697 - val_accuracy: 0.7327 - val_recall: 0.6338\n",
      "Epoch 49/100\n",
      "344/344 [==============================] - 1s 2ms/step - loss: 0.5888 - accuracy: 0.6996 - recall: 0.6946 - val_loss: 0.5557 - val_accuracy: 0.7293 - val_recall: 0.6197\n",
      "Epoch 50/100\n",
      "344/344 [==============================] - 1s 2ms/step - loss: 0.5882 - accuracy: 0.6959 - recall: 0.7094 - val_loss: 0.5519 - val_accuracy: 0.7390 - val_recall: 0.6206\n",
      "Epoch 51/100\n",
      "344/344 [==============================] - 1s 2ms/step - loss: 0.5879 - accuracy: 0.6949 - recall: 0.7102 - val_loss: 0.5638 - val_accuracy: 0.7252 - val_recall: 0.6347\n",
      "Epoch 52/100\n",
      "344/344 [==============================] - 1s 2ms/step - loss: 0.5906 - accuracy: 0.7025 - recall: 0.6958 - val_loss: 0.5586 - val_accuracy: 0.7360 - val_recall: 0.6265\n",
      "Epoch 53/100\n",
      "344/344 [==============================] - 1s 2ms/step - loss: 0.5906 - accuracy: 0.6988 - recall: 0.7036 - val_loss: 0.5907 - val_accuracy: 0.7157 - val_recall: 0.6596\n",
      "Epoch 54/100\n",
      "344/344 [==============================] - 1s 2ms/step - loss: 0.5890 - accuracy: 0.6977 - recall: 0.6942 - val_loss: 0.5994 - val_accuracy: 0.6979 - val_recall: 0.6804\n",
      "Epoch 55/100\n",
      "344/344 [==============================] - 1s 2ms/step - loss: 0.5925 - accuracy: 0.6952 - recall: 0.7069 - val_loss: 0.5681 - val_accuracy: 0.7224 - val_recall: 0.6501\n",
      "Epoch 56/100\n",
      "344/344 [==============================] - 1s 2ms/step - loss: 0.5897 - accuracy: 0.6983 - recall: 0.7077 - val_loss: 0.5568 - val_accuracy: 0.7355 - val_recall: 0.6338\n",
      "Epoch 57/100\n",
      "344/344 [==============================] - 1s 2ms/step - loss: 0.5932 - accuracy: 0.6966 - recall: 0.6983 - val_loss: 0.5760 - val_accuracy: 0.7250 - val_recall: 0.6474\n",
      "Epoch 58/100\n",
      "344/344 [==============================] - 1s 2ms/step - loss: 0.5941 - accuracy: 0.6987 - recall: 0.7040 - val_loss: 0.5629 - val_accuracy: 0.7337 - val_recall: 0.6157\n",
      "Epoch 59/100\n",
      "344/344 [==============================] - 1s 2ms/step - loss: 0.5861 - accuracy: 0.6960 - recall: 0.6970 - val_loss: 0.5629 - val_accuracy: 0.7288 - val_recall: 0.6301\n",
      "Epoch 60/100\n",
      "344/344 [==============================] - 1s 2ms/step - loss: 0.5914 - accuracy: 0.6968 - recall: 0.6966 - val_loss: 0.5859 - val_accuracy: 0.7062 - val_recall: 0.6750\n",
      "Epoch 61/100\n",
      "344/344 [==============================] - 1s 2ms/step - loss: 0.5932 - accuracy: 0.6923 - recall: 0.7106 - val_loss: 0.5684 - val_accuracy: 0.7278 - val_recall: 0.6419\n",
      "Epoch 62/100\n",
      "344/344 [==============================] - 1s 2ms/step - loss: 0.5886 - accuracy: 0.6966 - recall: 0.7069 - val_loss: 0.5801 - val_accuracy: 0.7171 - val_recall: 0.6555\n",
      "Epoch 63/100\n",
      "344/344 [==============================] - 1s 2ms/step - loss: 0.5870 - accuracy: 0.6974 - recall: 0.6979 - val_loss: 0.5783 - val_accuracy: 0.7156 - val_recall: 0.6537\n",
      "Epoch 64/100\n",
      "344/344 [==============================] - 1s 2ms/step - loss: 0.5917 - accuracy: 0.6911 - recall: 0.7044 - val_loss: 0.5888 - val_accuracy: 0.7099 - val_recall: 0.6686\n",
      "Epoch 65/100\n",
      "344/344 [==============================] - 1s 2ms/step - loss: 0.5874 - accuracy: 0.7035 - recall: 0.7011 - val_loss: 0.5800 - val_accuracy: 0.7192 - val_recall: 0.6541\n",
      "Epoch 66/100\n",
      "344/344 [==============================] - 1s 2ms/step - loss: 0.5916 - accuracy: 0.6964 - recall: 0.7016 - val_loss: 0.5918 - val_accuracy: 0.7044 - val_recall: 0.6768\n",
      "Epoch 67/100\n",
      "344/344 [==============================] - 1s 2ms/step - loss: 0.5954 - accuracy: 0.6984 - recall: 0.7053 - val_loss: 0.5942 - val_accuracy: 0.7123 - val_recall: 0.6664\n",
      "Epoch 68/100\n",
      "344/344 [==============================] - 1s 2ms/step - loss: 0.5908 - accuracy: 0.6944 - recall: 0.7028 - val_loss: 0.5606 - val_accuracy: 0.7273 - val_recall: 0.6369\n",
      "Epoch 69/100\n",
      "344/344 [==============================] - 1s 2ms/step - loss: 0.5893 - accuracy: 0.6943 - recall: 0.7089 - val_loss: 0.5680 - val_accuracy: 0.7237 - val_recall: 0.6464\n",
      "Epoch 70/100\n",
      "344/344 [==============================] - 1s 2ms/step - loss: 0.5895 - accuracy: 0.6888 - recall: 0.7085 - val_loss: 0.5797 - val_accuracy: 0.7218 - val_recall: 0.6464\n",
      "Epoch 71/100\n",
      "344/344 [==============================] - 1s 2ms/step - loss: 0.5884 - accuracy: 0.6964 - recall: 0.6954 - val_loss: 0.5660 - val_accuracy: 0.7257 - val_recall: 0.6374\n",
      "Epoch 72/100\n",
      "344/344 [==============================] - 1s 2ms/step - loss: 0.5913 - accuracy: 0.6929 - recall: 0.7011 - val_loss: 0.5691 - val_accuracy: 0.7274 - val_recall: 0.6446\n",
      "Epoch 73/100\n",
      "344/344 [==============================] - 1s 2ms/step - loss: 0.5883 - accuracy: 0.6992 - recall: 0.7048 - val_loss: 0.5904 - val_accuracy: 0.7094 - val_recall: 0.6736\n",
      "Epoch 74/100\n",
      "344/344 [==============================] - 1s 2ms/step - loss: 0.5909 - accuracy: 0.6916 - recall: 0.7044 - val_loss: 0.5769 - val_accuracy: 0.7103 - val_recall: 0.6618\n",
      "Epoch 75/100\n",
      "344/344 [==============================] - 1s 2ms/step - loss: 0.5890 - accuracy: 0.6947 - recall: 0.6929 - val_loss: 0.5883 - val_accuracy: 0.7064 - val_recall: 0.6741\n",
      "Epoch 76/100\n",
      "344/344 [==============================] - 1s 2ms/step - loss: 0.5929 - accuracy: 0.6825 - recall: 0.7069 - val_loss: 0.5667 - val_accuracy: 0.7220 - val_recall: 0.6505\n",
      "Epoch 77/100\n",
      "344/344 [==============================] - 1s 2ms/step - loss: 0.5893 - accuracy: 0.6948 - recall: 0.7032 - val_loss: 0.5730 - val_accuracy: 0.7155 - val_recall: 0.6523\n",
      "Epoch 78/100\n",
      "344/344 [==============================] - 1s 2ms/step - loss: 0.5920 - accuracy: 0.6913 - recall: 0.7110 - val_loss: 0.5847 - val_accuracy: 0.7132 - val_recall: 0.6673\n",
      "Epoch 79/100\n",
      "344/344 [==============================] - 1s 2ms/step - loss: 0.5884 - accuracy: 0.6955 - recall: 0.7155 - val_loss: 0.5426 - val_accuracy: 0.7386 - val_recall: 0.6188\n",
      "Epoch 80/100\n",
      "344/344 [==============================] - 1s 2ms/step - loss: 0.5866 - accuracy: 0.7025 - recall: 0.7118 - val_loss: 0.5953 - val_accuracy: 0.6902 - val_recall: 0.6922\n",
      "Epoch 81/100\n",
      "344/344 [==============================] - 1s 2ms/step - loss: 0.5890 - accuracy: 0.6917 - recall: 0.6999 - val_loss: 0.5810 - val_accuracy: 0.7186 - val_recall: 0.6627\n",
      "Epoch 82/100\n",
      "344/344 [==============================] - 1s 2ms/step - loss: 0.5923 - accuracy: 0.6958 - recall: 0.6983 - val_loss: 0.5792 - val_accuracy: 0.7083 - val_recall: 0.6659\n",
      "Epoch 83/100\n",
      "344/344 [==============================] - 1s 2ms/step - loss: 0.5898 - accuracy: 0.6955 - recall: 0.7069 - val_loss: 0.5708 - val_accuracy: 0.7216 - val_recall: 0.6469\n",
      "Epoch 84/100\n",
      "344/344 [==============================] - 1s 2ms/step - loss: 0.5888 - accuracy: 0.6941 - recall: 0.7110 - val_loss: 0.5670 - val_accuracy: 0.7254 - val_recall: 0.6460\n",
      "Epoch 85/100\n",
      "344/344 [==============================] - 1s 2ms/step - loss: 0.5897 - accuracy: 0.6981 - recall: 0.7167 - val_loss: 0.5992 - val_accuracy: 0.7011 - val_recall: 0.6822\n",
      "Epoch 86/100\n",
      "344/344 [==============================] - 1s 2ms/step - loss: 0.5912 - accuracy: 0.6855 - recall: 0.7077 - val_loss: 0.5669 - val_accuracy: 0.7272 - val_recall: 0.6342\n",
      "Epoch 87/100\n",
      "344/344 [==============================] - 1s 2ms/step - loss: 0.5908 - accuracy: 0.6935 - recall: 0.7032 - val_loss: 0.5753 - val_accuracy: 0.7233 - val_recall: 0.6406\n",
      "Epoch 88/100\n",
      "344/344 [==============================] - 1s 2ms/step - loss: 0.5867 - accuracy: 0.6975 - recall: 0.7057 - val_loss: 0.5530 - val_accuracy: 0.7363 - val_recall: 0.6179\n",
      "Epoch 89/100\n",
      "344/344 [==============================] - 1s 2ms/step - loss: 0.5895 - accuracy: 0.6981 - recall: 0.6999 - val_loss: 0.5974 - val_accuracy: 0.7103 - val_recall: 0.6668\n",
      "Epoch 90/100\n",
      "344/344 [==============================] - 1s 2ms/step - loss: 0.5932 - accuracy: 0.6952 - recall: 0.7048 - val_loss: 0.5653 - val_accuracy: 0.7333 - val_recall: 0.6324\n",
      "Epoch 91/100\n",
      "344/344 [==============================] - 1s 2ms/step - loss: 0.5875 - accuracy: 0.6946 - recall: 0.6999 - val_loss: 0.5737 - val_accuracy: 0.7226 - val_recall: 0.6496\n",
      "Epoch 92/100\n",
      "344/344 [==============================] - 1s 2ms/step - loss: 0.5913 - accuracy: 0.6944 - recall: 0.7061 - val_loss: 0.5796 - val_accuracy: 0.7130 - val_recall: 0.6596\n",
      "Epoch 93/100\n",
      "344/344 [==============================] - 1s 2ms/step - loss: 0.5883 - accuracy: 0.6911 - recall: 0.7032 - val_loss: 0.5798 - val_accuracy: 0.7199 - val_recall: 0.6537\n",
      "Epoch 94/100\n",
      "344/344 [==============================] - 1s 2ms/step - loss: 0.5877 - accuracy: 0.6939 - recall: 0.7032 - val_loss: 0.5599 - val_accuracy: 0.7273 - val_recall: 0.6392\n",
      "Epoch 95/100\n",
      "344/344 [==============================] - 1s 2ms/step - loss: 0.5902 - accuracy: 0.6997 - recall: 0.7036 - val_loss: 0.5834 - val_accuracy: 0.7109 - val_recall: 0.6618\n",
      "Epoch 96/100\n",
      "344/344 [==============================] - 1s 2ms/step - loss: 0.5872 - accuracy: 0.6935 - recall: 0.7081 - val_loss: 0.5866 - val_accuracy: 0.7107 - val_recall: 0.6627\n",
      "Epoch 97/100\n",
      "344/344 [==============================] - 1s 2ms/step - loss: 0.5862 - accuracy: 0.6941 - recall: 0.7147 - val_loss: 0.5633 - val_accuracy: 0.7329 - val_recall: 0.6220\n",
      "Epoch 98/100\n",
      "344/344 [==============================] - 1s 2ms/step - loss: 0.5863 - accuracy: 0.6982 - recall: 0.7011 - val_loss: 0.5957 - val_accuracy: 0.6954 - val_recall: 0.6813\n",
      "Epoch 99/100\n",
      "344/344 [==============================] - 1s 2ms/step - loss: 0.5903 - accuracy: 0.6894 - recall: 0.7089 - val_loss: 0.5562 - val_accuracy: 0.7330 - val_recall: 0.6279\n",
      "Epoch 100/100\n",
      "344/344 [==============================] - 1s 2ms/step - loss: 0.5908 - accuracy: 0.6931 - recall: 0.7040 - val_loss: 0.5785 - val_accuracy: 0.7225 - val_recall: 0.6532\n"
     ]
    }
   ],
   "source": [
    "results1c =classifier.fit(partial_x_train,\n",
    "                    partial_y_train,\n",
    "                    epochs=100,\n",
    "                    batch_size=32,\n",
    "                    validation_data=(x_val, y_val),\n",
    "                       class_weight=class_weight)"
   ]
  },
  {
   "cell_type": "code",
   "execution_count": null,
   "metadata": {},
   "outputs": [],
   "source": []
  },
  {
   "cell_type": "code",
   "execution_count": 220,
   "metadata": {},
   "outputs": [
    {
     "data": {
      "text/plain": [
       "dict_keys(['loss', 'accuracy', 'recall', 'val_loss', 'val_accuracy', 'val_recall'])"
      ]
     },
     "execution_count": 220,
     "metadata": {},
     "output_type": "execute_result"
    }
   ],
   "source": [
    "# check the fitted metrics dictionary \n",
    "results_history_dict = results1c.history\n",
    "results_history_dict.keys()"
   ]
  },
  {
   "cell_type": "code",
   "execution_count": null,
   "metadata": {},
   "outputs": [],
   "source": []
  },
  {
   "cell_type": "markdown",
   "metadata": {},
   "source": [
    "Plot the training and validation loss side by side, as well as the training and validation accuracy.  Determine the optimal epochs to avoid overfitting."
   ]
  },
  {
   "cell_type": "code",
   "execution_count": 136,
   "metadata": {},
   "outputs": [
    {
     "data": {
      "image/png": "[encoded data removed]",
      "text/plain": [
       "<Figure size 576x396 with 1 Axes>"
      ]
     },
     "metadata": {},
     "output_type": "display_data"
    }
   ],
   "source": [
    "#### import matplotlib.pyplot as plt\n",
    "\n",
    "accRes = results.history['accuracy']\n",
    "val_accRes = results.history['val_accuracy']\n",
    "lossRes = results.history['loss']\n",
    "val_lossRes = results.history['val_loss']\n",
    "\n",
    "epochs = range(1, len(accRes) + 1)\n",
    "\n",
    "# \"bo\" is for \"blue dot\"\n",
    "plt.plot(epochs, lossRes, 'bo', label='Training loss')\n",
    "# b is for \"solid blue line\"\n",
    "plt.plot(epochs, val_lossRes, 'b', label='Validation loss')\n",
    "plt.title('Training and validation loss')\n",
    "plt.xlabel('Epochs')\n",
    "plt.ylabel('Loss')\n",
    "plt.legend()\n",
    "\n",
    "plt.show()"
   ]
  },
  {
   "cell_type": "code",
   "execution_count": 240,
   "metadata": {},
   "outputs": [
    {
     "data": {
      "image/png": "[encoded data removed]",
      "text/plain": [
       "<Figure size 576x396 with 1 Axes>"
      ]
     },
     "metadata": {},
     "output_type": "display_data"
    }
   ],
   "source": [
    "plt.clf()   # clear figure\n",
    "\n",
    "\n",
    "plt.plot(epochs, accRes, 'bo', label='Training acc')\n",
    "plt.plot(epochs, val_accRes, 'b', label='Validation acc')\n",
    "plt.title('Training and validation accuracy')\n",
    "plt.xlabel('Epochs')\n",
    "plt.ylabel('Loss')\n",
    "plt.legend()\n",
    "\n",
    "plt.show()"
   ]
  },
  {
   "cell_type": "code",
   "execution_count": null,
   "metadata": {},
   "outputs": [],
   "source": []
  },
  {
   "cell_type": "markdown",
   "metadata": {},
   "source": [
    "**Fit the first model again with optimal epochs and with the class weights and employ validation data**"
   ]
  },
  {
   "cell_type": "code",
   "execution_count": 222,
   "metadata": {},
   "outputs": [
    {
     "name": "stdout",
     "output_type": "stream",
     "text": [
      "Epoch 1/22\n",
      "344/344 [==============================] - 1s 3ms/step - loss: 0.5881 - accuracy: 0.6975 - recall: 0.7016 - val_loss: 0.5744 - val_accuracy: 0.7138 - val_recall: 0.6600\n",
      "Epoch 2/22\n",
      "344/344 [==============================] - 1s 2ms/step - loss: 0.5890 - accuracy: 0.7017 - recall: 0.7139 - val_loss: 0.5848 - val_accuracy: 0.7177 - val_recall: 0.6587\n",
      "Epoch 3/22\n",
      "344/344 [==============================] - 1s 2ms/step - loss: 0.5863 - accuracy: 0.6911 - recall: 0.7048 - val_loss: 0.5549 - val_accuracy: 0.7354 - val_recall: 0.6229\n",
      "Epoch 4/22\n",
      "344/344 [==============================] - 1s 2ms/step - loss: 0.5888 - accuracy: 0.6939 - recall: 0.7094 - val_loss: 0.5626 - val_accuracy: 0.7324 - val_recall: 0.6324\n",
      "Epoch 5/22\n",
      "344/344 [==============================] - 1s 2ms/step - loss: 0.5876 - accuracy: 0.6927 - recall: 0.7081 - val_loss: 0.5479 - val_accuracy: 0.7399 - val_recall: 0.6184\n",
      "Epoch 6/22\n",
      "344/344 [==============================] - 1s 2ms/step - loss: 0.5858 - accuracy: 0.7000 - recall: 0.6987 - val_loss: 0.5786 - val_accuracy: 0.7182 - val_recall: 0.6510\n",
      "Epoch 7/22\n",
      "344/344 [==============================] - 1s 2ms/step - loss: 0.5899 - accuracy: 0.6972 - recall: 0.7057 - val_loss: 0.5799 - val_accuracy: 0.7158 - val_recall: 0.6528\n",
      "Epoch 8/22\n",
      "344/344 [==============================] - 1s 2ms/step - loss: 0.5871 - accuracy: 0.6978 - recall: 0.7020 - val_loss: 0.5735 - val_accuracy: 0.7147 - val_recall: 0.6496\n",
      "Epoch 9/22\n",
      "344/344 [==============================] - 1s 2ms/step - loss: 0.5852 - accuracy: 0.6981 - recall: 0.7028 - val_loss: 0.5752 - val_accuracy: 0.7238 - val_recall: 0.6433\n",
      "Epoch 10/22\n",
      "344/344 [==============================] - 1s 2ms/step - loss: 0.5879 - accuracy: 0.6939 - recall: 0.7122 - val_loss: 0.5631 - val_accuracy: 0.7279 - val_recall: 0.6351\n",
      "Epoch 11/22\n",
      "344/344 [==============================] - 1s 2ms/step - loss: 0.5843 - accuracy: 0.6948 - recall: 0.7143 - val_loss: 0.5615 - val_accuracy: 0.7286 - val_recall: 0.6360\n",
      "Epoch 12/22\n",
      "344/344 [==============================] - 1s 2ms/step - loss: 0.5912 - accuracy: 0.6849 - recall: 0.7118 - val_loss: 0.5877 - val_accuracy: 0.7071 - val_recall: 0.6641\n",
      "Epoch 13/22\n",
      "344/344 [==============================] - 1s 2ms/step - loss: 0.5861 - accuracy: 0.6985 - recall: 0.7061 - val_loss: 0.5704 - val_accuracy: 0.7234 - val_recall: 0.6428\n",
      "Epoch 14/22\n",
      "344/344 [==============================] - 1s 2ms/step - loss: 0.5849 - accuracy: 0.6948 - recall: 0.7106 - val_loss: 0.5446 - val_accuracy: 0.7387 - val_recall: 0.6243\n",
      "Epoch 15/22\n",
      "344/344 [==============================] - 1s 2ms/step - loss: 0.5837 - accuracy: 0.7035 - recall: 0.7061 - val_loss: 0.5746 - val_accuracy: 0.7185 - val_recall: 0.6564\n",
      "Epoch 16/22\n",
      "344/344 [==============================] - 1s 3ms/step - loss: 0.5885 - accuracy: 0.6914 - recall: 0.7007 - val_loss: 0.5613 - val_accuracy: 0.7305 - val_recall: 0.6351\n",
      "Epoch 17/22\n",
      "344/344 [==============================] - 1s 2ms/step - loss: 0.5893 - accuracy: 0.6959 - recall: 0.7069 - val_loss: 0.5607 - val_accuracy: 0.7297 - val_recall: 0.6369\n",
      "Epoch 18/22\n",
      "344/344 [==============================] - 1s 2ms/step - loss: 0.5852 - accuracy: 0.6965 - recall: 0.7061 - val_loss: 0.5681 - val_accuracy: 0.7285 - val_recall: 0.6369\n",
      "Epoch 19/22\n",
      "344/344 [==============================] - 1s 2ms/step - loss: 0.5850 - accuracy: 0.7014 - recall: 0.7065 - val_loss: 0.5495 - val_accuracy: 0.7419 - val_recall: 0.6157\n",
      "Epoch 20/22\n",
      "344/344 [==============================] - 1s 2ms/step - loss: 0.5886 - accuracy: 0.6939 - recall: 0.7024 - val_loss: 0.5641 - val_accuracy: 0.7345 - val_recall: 0.6256\n",
      "Epoch 21/22\n",
      "344/344 [==============================] - 1s 2ms/step - loss: 0.5856 - accuracy: 0.6994 - recall: 0.7085 - val_loss: 0.5596 - val_accuracy: 0.7411 - val_recall: 0.6202\n",
      "Epoch 22/22\n",
      "344/344 [==============================] - 1s 2ms/step - loss: 0.5915 - accuracy: 0.6990 - recall: 0.6962 - val_loss: 0.5931 - val_accuracy: 0.7003 - val_recall: 0.6736\n"
     ]
    }
   ],
   "source": [
    "results2c =classifier.fit(partial_x_train,\n",
    "                    partial_y_train,\n",
    "                    epochs=22,\n",
    "                    batch_size=32,\n",
    "                    validation_data=(x_val, y_val),\n",
    "                         class_weight=class_weight)\n"
   ]
  },
  {
   "cell_type": "code",
   "execution_count": null,
   "metadata": {},
   "outputs": [],
   "source": []
  },
  {
   "cell_type": "markdown",
   "metadata": {},
   "source": [
    "**Evalulation Metrics**"
   ]
  },
  {
   "cell_type": "code",
   "execution_count": 223,
   "metadata": {},
   "outputs": [
    {
     "name": "stdout",
     "output_type": "stream",
     "text": [
      "  1/282 [..............................] - ETA: 0s - loss: 0.7007 - accuracy: 0.5625 - recall: 0.5714WARNING:tensorflow:Callbacks method `on_test_batch_end` is slow compared to the batch time (batch time: 0.0000s vs `on_test_batch_end` time: 0.0010s). Check your callbacks.\n",
      "282/282 [==============================] - 0s 859us/step - loss: 0.5958 - accuracy: 0.6989 - recall: 0.6861\n"
     ]
    },
    {
     "data": {
      "text/plain": [
       "[0.5957925319671631, 0.698888897895813, 0.6860873699188232]"
      ]
     },
     "execution_count": 223,
     "metadata": {},
     "output_type": "execute_result"
    }
   ],
   "source": [
    "score2c = classifier.evaluate(XNTest, yNTest)\n",
    "score2c"
   ]
  },
  {
   "cell_type": "code",
   "execution_count": null,
   "metadata": {},
   "outputs": [],
   "source": []
  },
  {
   "cell_type": "markdown",
   "metadata": {},
   "source": [
    "**Create a second model to vary the epochs and batch size**"
   ]
  },
  {
   "cell_type": "code",
   "execution_count": 173,
   "metadata": {},
   "outputs": [],
   "source": [
    "\n",
    "\n",
    "# Initialising the ANN\n",
    "model = models.Sequential()\n",
    "\n",
    "# Adding the input layer and the first hidden layer\n",
    "model.add(layers.Dense(16, activation='relu', input_shape=(8,)))\n",
    "# Adding the second hidden layer\n",
    "model.add(layers.Dense(16, activation='relu'))\n",
    "\n",
    "# Adding dropout layer\n",
    "model.add(Dropout(0.5))\n",
    "\n",
    "# Adding the output layer\n",
    "model.add(layers.Dense(1, activation='sigmoid'))\n",
    "\n",
    "# Compiling the ANN\n",
    "# crossentropy is usually the best choice when you are dealing with models that output probabilities. Crossentropy is a quantity\n",
    "# that measures the \"distance\" between probability distributions, or between the ground-truth distribution and our predictions.\n",
    "model.compile(optimizer='rmsprop',\n",
    "              loss='binary_crossentropy',\n",
    "              metrics=['accuracy', 'Recall'])"
   ]
  },
  {
   "cell_type": "code",
   "execution_count": null,
   "metadata": {},
   "outputs": [],
   "source": []
  },
  {
   "cell_type": "markdown",
   "metadata": {},
   "source": [
    "**Fit the first model with the class weights and employ validation data**"
   ]
  },
  {
   "cell_type": "code",
   "execution_count": 226,
   "metadata": {},
   "outputs": [
    {
     "name": "stdout",
     "output_type": "stream",
     "text": [
      "Epoch 1/20\n",
      "22/22 [==============================] - 0s 10ms/step - loss: 1.1992 - accuracy: 0.7795 - recall: 0.0086 - val_loss: 0.5488 - val_accuracy: 0.7791 - val_recall: 0.0000e+00\n",
      "Epoch 2/20\n",
      "22/22 [==============================] - 0s 4ms/step - loss: 1.0479 - accuracy: 0.7815 - recall: 0.0234 - val_loss: 0.5043 - val_accuracy: 0.7813 - val_recall: 0.0158\n",
      "Epoch 3/20\n",
      "22/22 [==============================] - 0s 4ms/step - loss: 0.8734 - accuracy: 0.7811 - recall: 0.0653 - val_loss: 0.4840 - val_accuracy: 0.7843 - val_recall: 0.0625\n",
      "Epoch 4/20\n",
      "22/22 [==============================] - 0s 4ms/step - loss: 0.7465 - accuracy: 0.7775 - recall: 0.1876 - val_loss: 0.4986 - val_accuracy: 0.7857 - val_recall: 0.2399\n",
      "Epoch 5/20\n",
      "22/22 [==============================] - 0s 5ms/step - loss: 0.6745 - accuracy: 0.7533 - recall: 0.3411 - val_loss: 0.5372 - val_accuracy: 0.7526 - val_recall: 0.4504\n",
      "Epoch 6/20\n",
      "22/22 [==============================] - 0s 4ms/step - loss: 0.6424 - accuracy: 0.7266 - recall: 0.4856 - val_loss: 0.5772 - val_accuracy: 0.7185 - val_recall: 0.5672\n",
      "Epoch 7/20\n",
      "22/22 [==============================] - 0s 4ms/step - loss: 0.6271 - accuracy: 0.6965 - recall: 0.5673 - val_loss: 0.5928 - val_accuracy: 0.7058 - val_recall: 0.6098\n",
      "Epoch 8/20\n",
      "22/22 [==============================] - 0s 5ms/step - loss: 0.6246 - accuracy: 0.6896 - recall: 0.5825 - val_loss: 0.5958 - val_accuracy: 0.7063 - val_recall: 0.6234\n",
      "Epoch 9/20\n",
      "22/22 [==============================] - 0s 3ms/step - loss: 0.6230 - accuracy: 0.6952 - recall: 0.5837 - val_loss: 0.5998 - val_accuracy: 0.7041 - val_recall: 0.6279\n",
      "Epoch 10/20\n",
      "22/22 [==============================] - 0s 4ms/step - loss: 0.6178 - accuracy: 0.7024 - recall: 0.6018 - val_loss: 0.5997 - val_accuracy: 0.7044 - val_recall: 0.6415\n",
      "Epoch 11/20\n",
      "22/22 [==============================] - 0s 3ms/step - loss: 0.6113 - accuracy: 0.7069 - recall: 0.6207 - val_loss: 0.5993 - val_accuracy: 0.7021 - val_recall: 0.6424\n",
      "Epoch 12/20\n",
      "22/22 [==============================] - 0s 4ms/step - loss: 0.6136 - accuracy: 0.7093 - recall: 0.6034 - val_loss: 0.5951 - val_accuracy: 0.7085 - val_recall: 0.6378\n",
      "Epoch 13/20\n",
      "22/22 [==============================] - 0s 4ms/step - loss: 0.6102 - accuracy: 0.7148 - recall: 0.6129 - val_loss: 0.5994 - val_accuracy: 0.7060 - val_recall: 0.6478\n",
      "Epoch 14/20\n",
      "22/22 [==============================] - 0s 4ms/step - loss: 0.6069 - accuracy: 0.7175 - recall: 0.6174 - val_loss: 0.5956 - val_accuracy: 0.7124 - val_recall: 0.6410\n",
      "Epoch 15/20\n",
      "22/22 [==============================] - 0s 4ms/step - loss: 0.6089 - accuracy: 0.7165 - recall: 0.6071 - val_loss: 0.5914 - val_accuracy: 0.7190 - val_recall: 0.6297\n",
      "Epoch 16/20\n",
      "22/22 [==============================] - 0s 4ms/step - loss: 0.6086 - accuracy: 0.7244 - recall: 0.5989 - val_loss: 0.5928 - val_accuracy: 0.7183 - val_recall: 0.6329\n",
      "Epoch 17/20\n",
      "22/22 [==============================] - 0s 4ms/step - loss: 0.6046 - accuracy: 0.7207 - recall: 0.6034 - val_loss: 0.5921 - val_accuracy: 0.7204 - val_recall: 0.6301\n",
      "Epoch 18/20\n",
      "22/22 [==============================] - 0s 4ms/step - loss: 0.6043 - accuracy: 0.7200 - recall: 0.6076 - val_loss: 0.5898 - val_accuracy: 0.7234 - val_recall: 0.6274\n",
      "Epoch 19/20\n",
      "22/22 [==============================] - 0s 4ms/step - loss: 0.6048 - accuracy: 0.7242 - recall: 0.6121 - val_loss: 0.5865 - val_accuracy: 0.7242 - val_recall: 0.6270\n",
      "Epoch 20/20\n",
      "22/22 [==============================] - 0s 4ms/step - loss: 0.6047 - accuracy: 0.7266 - recall: 0.6256 - val_loss: 0.5848 - val_accuracy: 0.7276 - val_recall: 0.6184\n"
     ]
    }
   ],
   "source": [
    "history1m = model.fit(partial_x_train,\n",
    "                    partial_y_train,\n",
    "                    epochs=20,\n",
    "                    batch_size=512,\n",
    "                    validation_data=(x_val, y_val),\n",
    "                   class_weight=class_weight)\n"
   ]
  },
  {
   "cell_type": "code",
   "execution_count": null,
   "metadata": {},
   "outputs": [],
   "source": []
  },
  {
   "cell_type": "code",
   "execution_count": 228,
   "metadata": {},
   "outputs": [
    {
     "data": {
      "text/plain": [
       "dict_keys(['loss', 'accuracy', 'recall', 'val_loss', 'val_accuracy', 'val_recall'])"
      ]
     },
     "execution_count": 228,
     "metadata": {},
     "output_type": "execute_result"
    }
   ],
   "source": [
    "# check the fitted metrics dictionary \n",
    "history_dict = history1m.history\n",
    "history_dict.keys()"
   ]
  },
  {
   "cell_type": "code",
   "execution_count": null,
   "metadata": {},
   "outputs": [],
   "source": []
  },
  {
   "cell_type": "markdown",
   "metadata": {},
   "source": [
    "Plot the training and validation loss side by side, as well as the training and validation accuracy.  Determine the optimal epochs to avoid overfitting.\n"
   ]
  },
  {
   "cell_type": "code",
   "execution_count": 156,
   "metadata": {},
   "outputs": [
    {
     "data": {
      "image/png": "[encoded data removed]",
      "text/plain": [
       "<Figure size 576x396 with 1 Axes>"
      ]
     },
     "metadata": {},
     "output_type": "display_data"
    }
   ],
   "source": [
    "import matplotlib.pyplot as plt\n",
    "\n",
    "accHis = history.history['accuracy']\n",
    "val_accHis = history.history['val_accuracy']\n",
    "lossHis = history.history['loss']\n",
    "val_lossHis = history.history['val_loss']\n",
    "\n",
    "epochs = range(1, len(accHis) + 1)\n",
    "\n",
    "# \"bo\" is for \"blue dot\"\n",
    "plt.plot(epochs, lossHis, 'bo', label='Training loss')\n",
    "# b is for \"solid blue line\"\n",
    "plt.plot(epochs, val_lossHis, 'b', label='Validation loss')\n",
    "plt.title('Training and validation loss')\n",
    "plt.xlabel('Epochs')\n",
    "plt.ylabel('Loss')\n",
    "plt.legend()\n",
    "\n",
    "plt.show()"
   ]
  },
  {
   "cell_type": "code",
   "execution_count": 153,
   "metadata": {},
   "outputs": [
    {
     "data": {
      "image/png": "[encoded data removed]",
      "text/plain": [
       "<Figure size 576x396 with 1 Axes>"
      ]
     },
     "metadata": {},
     "output_type": "display_data"
    }
   ],
   "source": [
    "plt.clf()   # clear figure\n",
    "\n",
    "plt.plot(epochs, accHis, 'bo', label='Training acc')\n",
    "plt.plot(epochs, val_accHis, 'b', label='Validation acc')\n",
    "plt.title('Training and validation accuracy')\n",
    "plt.xlabel('Epochs')\n",
    "plt.ylabel('Loss')\n",
    "plt.legend()\n",
    "\n",
    "plt.show()"
   ]
  },
  {
   "cell_type": "code",
   "execution_count": null,
   "metadata": {},
   "outputs": [],
   "source": []
  },
  {
   "cell_type": "markdown",
   "metadata": {},
   "source": [
    "**Refit with optimal number of epochs**"
   ]
  },
  {
   "cell_type": "code",
   "execution_count": 230,
   "metadata": {},
   "outputs": [
    {
     "name": "stdout",
     "output_type": "stream",
     "text": [
      "Epoch 1/8\n",
      "22/22 [==============================] - 0s 8ms/step - loss: 0.6037 - accuracy: 0.7320 - recall: 0.6236 - val_loss: 0.5919 - val_accuracy: 0.7231 - val_recall: 0.6333\n",
      "Epoch 2/8\n",
      "22/22 [==============================] - 0s 7ms/step - loss: 0.6055 - accuracy: 0.7223 - recall: 0.6186 - val_loss: 0.5872 - val_accuracy: 0.7247 - val_recall: 0.6288\n",
      "Epoch 3/8\n",
      "22/22 [==============================] - 0s 11ms/step - loss: 0.6018 - accuracy: 0.7215 - recall: 0.6195 - val_loss: 0.5904 - val_accuracy: 0.7245 - val_recall: 0.6324\n",
      "Epoch 4/8\n",
      "22/22 [==============================] - 0s 6ms/step - loss: 0.6058 - accuracy: 0.7242 - recall: 0.6322 - val_loss: 0.5915 - val_accuracy: 0.7234 - val_recall: 0.6351\n",
      "Epoch 5/8\n",
      "22/22 [==============================] - 0s 7ms/step - loss: 0.5988 - accuracy: 0.7241 - recall: 0.6388 - val_loss: 0.5835 - val_accuracy: 0.7291 - val_recall: 0.6243\n",
      "Epoch 6/8\n",
      "22/22 [==============================] - 0s 6ms/step - loss: 0.5977 - accuracy: 0.7244 - recall: 0.6236 - val_loss: 0.5857 - val_accuracy: 0.7275 - val_recall: 0.6279\n",
      "Epoch 7/8\n",
      "22/22 [==============================] - 0s 4ms/step - loss: 0.5993 - accuracy: 0.7255 - recall: 0.6568 - val_loss: 0.5895 - val_accuracy: 0.7230 - val_recall: 0.6351\n",
      "Epoch 8/8\n",
      "22/22 [==============================] - 0s 5ms/step - loss: 0.5973 - accuracy: 0.7065 - recall: 0.6597 - val_loss: 0.5873 - val_accuracy: 0.7241 - val_recall: 0.6311\n"
     ]
    }
   ],
   "source": [
    "history2m = model.fit(partial_x_train,\n",
    "                    partial_y_train,\n",
    "                    epochs=8,\n",
    "                    batch_size=512,\n",
    "                    validation_data=(x_val, y_val),\n",
    "                    class_weight=class_weight)"
   ]
  },
  {
   "cell_type": "code",
   "execution_count": null,
   "metadata": {},
   "outputs": [],
   "source": []
  },
  {
   "cell_type": "markdown",
   "metadata": {},
   "source": [
    "**Evalulation Metrics**"
   ]
  },
  {
   "cell_type": "code",
   "execution_count": 231,
   "metadata": {},
   "outputs": [
    {
     "name": "stdout",
     "output_type": "stream",
     "text": [
      "282/282 [==============================] - 0s 1ms/step - loss: 0.5880 - accuracy: 0.7256 - recall: 0.6419\n"
     ]
    },
    {
     "data": {
      "text/plain": [
       "[0.5879889130592346, 0.7255555391311646, 0.6418884992599487]"
      ]
     },
     "execution_count": 231,
     "metadata": {},
     "output_type": "execute_result"
    }
   ],
   "source": [
    "score2m = model.evaluate(XNTest, yNTest)\n",
    "score2m"
   ]
  },
  {
   "cell_type": "code",
   "execution_count": null,
   "metadata": {},
   "outputs": [],
   "source": []
  }
 ],
 "metadata": {
  "kernelspec": {
   "display_name": "Python 3",
   "language": "python",
   "name": "python3"
  },
  "language_info": {
   "codemirror_mode": {
    "name": "ipython",
    "version": 3
   },
   "file_extension": ".py",
   "mimetype": "text/x-python",
   "name": "python",
   "nbconvert_exporter": "python",
   "pygments_lexer": "ipython3",
   "version": "3.7.6"
  }
 },
 "nbformat": 4,
 "nbformat_minor": 4
}
