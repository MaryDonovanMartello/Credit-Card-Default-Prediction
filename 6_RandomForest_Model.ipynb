{
 "cells": [
  {
   "cell_type": "markdown",
   "metadata": {},
   "source": [
    "# Classification Prediction with Imbalanced Target"
   ]
  },
  {
   "cell_type": "markdown",
   "metadata": {},
   "source": [
    "# Mary Donovan Martello"
   ]
  },
  {
   "cell_type": "markdown",
   "metadata": {},
   "source": [
    "## The goal of this project was to design predictive binary classification models to predict whether credit card account holders will default on their payments in the next month. The models address the imbalance in the target variable. This notebook uses a Random Forest model to make the default prediciton."
   ]
  },
  {
   "cell_type": "markdown",
   "metadata": {},
   "source": [
    "# Part 6:  Random Forest Model"
   ]
  },
  {
   "cell_type": "code",
   "execution_count": null,
   "metadata": {},
   "outputs": [],
   "source": []
  },
  {
   "cell_type": "code",
   "execution_count": 3,
   "metadata": {},
   "outputs": [],
   "source": [
    "# import libraries\n",
    "\n",
    "import pandas as pd\n",
    "from pandas import read_csv\n",
    "import numpy as np\n",
    "from numpy import mean\n",
    "from numpy import std\n",
    "from numpy import argmax\n",
    "\n",
    "import seaborn as sns\n",
    "import matplotlib.pyplot as plt\n",
    "from IPython.display import Markdown, display\n",
    "\n",
    "from sklearn.preprocessing import LabelEncoder\n",
    "from sklearn.preprocessing import OneHotEncoder\n",
    "from sklearn.compose import ColumnTransformer\n",
    "\n",
    "from sklearn.model_selection import StratifiedKFold\n",
    "from sklearn.model_selection import train_test_split\n",
    "from sklearn.pipeline import make_pipeline\n",
    "from sklearn.model_selection import GridSearchCV\n",
    "from sklearn.model_selection import cross_validate\n",
    "from sklearn import model_selection, metrics\n",
    "from sklearn.metrics import accuracy_score\n",
    "from sklearn.metrics import recall_score\n",
    "from sklearn.metrics import classification_report\n",
    "from sklearn.metrics import log_loss\n",
    "from sklearn.metrics import brier_score_loss\n",
    "from sklearn.metrics import roc_auc_score\n",
    "from sklearn.metrics import confusion_matrix\n",
    "\n",
    "from sklearn.ensemble import GradientBoostingClassifier\n",
    "from sklearn.linear_model import LogisticRegression\n",
    "from sklearn.ensemble import RandomForestClassifier\n",
    "\n",
    "#stop unnecessary warnings from printing to the screen\n",
    "import warnings\n",
    "warnings.simplefilter('ignore')\n",
    "\n"
   ]
  },
  {
   "cell_type": "code",
   "execution_count": null,
   "metadata": {},
   "outputs": [],
   "source": []
  },
  {
   "cell_type": "markdown",
   "metadata": {},
   "source": [
    "### This notebook uses two datasets. The first dataset includes the full data that was cleaned, prepared, and transformed into Principal Component features in the 1_EDA_Prep notebook. The second dataset is the first dataset that has been reduced to the best select features identified in the 2_Test_Subsets_of_Features notebook."
   ]
  },
  {
   "cell_type": "code",
   "execution_count": 2,
   "metadata": {},
   "outputs": [],
   "source": [
    "# Load data into a dataframe\n",
    "\n",
    "df = pd.read_csv('pcaDefault.csv')\n"
   ]
  },
  {
   "cell_type": "code",
   "execution_count": null,
   "metadata": {},
   "outputs": [],
   "source": []
  },
  {
   "cell_type": "markdown",
   "metadata": {},
   "source": [
    "### Need a dataframe with dummy features for probability prediction and the classifier threshold."
   ]
  },
  {
   "cell_type": "code",
   "execution_count": 77,
   "metadata": {},
   "outputs": [
    {
     "name": "stdout",
     "output_type": "stream",
     "text": [
      "   SEX  EDUCATION  MARRIAGE\n",
      "0    1          1         2\n",
      "1    1          2         2\n",
      "2    1          1         1\n",
      "3    2          2         2\n"
     ]
    }
   ],
   "source": [
    "\n",
    "# convert categorical data to numbers \n",
    "#get the categorical data\n",
    "cat_features = ['SEX', 'EDUCATION', 'MARRIAGE']\n",
    "df_cat = df[cat_features]\n",
    "\n",
    "# create dummy variable dataframe for categorical values \n",
    "dfDumm = pd.get_dummies(df_cat)\n",
    "\n",
    "# check the data\n",
    "print(dfDumm.head(4))\n",
    "\n",
    "# create a whole features dataset that can be used for train and validation data splitting\n",
    "# combine the numerical features and the dummie features together\n",
    "dfNum = df.drop(['SEX', 'EDUCATION', 'MARRIAGE', 'default'], axis = 1)\n",
    "X = pd.concat([dfNum, dfDumm], axis=1)\n",
    "# create a whole target dataset that can be used for train and validation data splitting\n",
    "y =  df['default']\n"
   ]
  },
  {
   "cell_type": "markdown",
   "metadata": {},
   "source": [
    "Check the input features for testing feature subsets."
   ]
  },
  {
   "cell_type": "code",
   "execution_count": 8,
   "metadata": {},
   "outputs": [
    {
     "data": {
      "text/plain": [
       "Index(['PC1', 'PC2', 'PC3', 'PC4', 'PC5', 'PC6', 'PC7', 'PC8', 'SEX',\n",
       "       'EDUCATION', 'MARRIAGE'],\n",
       "      dtype='object')"
      ]
     },
     "execution_count": 8,
     "metadata": {},
     "output_type": "execute_result"
    }
   ],
   "source": [
    "X.columns"
   ]
  },
  {
   "cell_type": "code",
   "execution_count": 9,
   "metadata": {},
   "outputs": [
    {
     "data": {
      "text/plain": [
       "(30000, 11)"
      ]
     },
     "execution_count": 9,
     "metadata": {},
     "output_type": "execute_result"
    }
   ],
   "source": [
    "X.shape"
   ]
  },
  {
   "cell_type": "code",
   "execution_count": null,
   "metadata": {},
   "outputs": [],
   "source": []
  },
  {
   "cell_type": "code",
   "execution_count": 236,
   "metadata": {},
   "outputs": [],
   "source": [
    "# Load best subset data into a dataframe\n",
    "\n",
    "subset7 = pd.read_csv('subset7df.csv')"
   ]
  },
  {
   "cell_type": "code",
   "execution_count": 238,
   "metadata": {},
   "outputs": [
    {
     "data": {
      "text/html": [
       "<div>\n",
       "<style scoped>\n",
       "    .dataframe tbody tr th:only-of-type {\n",
       "        vertical-align: middle;\n",
       "    }\n",
       "\n",
       "    .dataframe tbody tr th {\n",
       "        vertical-align: top;\n",
       "    }\n",
       "\n",
       "    .dataframe thead th {\n",
       "        text-align: right;\n",
       "    }\n",
       "</style>\n",
       "<table border=\"1\" class=\"dataframe\">\n",
       "  <thead>\n",
       "    <tr style=\"text-align: right;\">\n",
       "      <th></th>\n",
       "      <th>PC7</th>\n",
       "      <th>PC1</th>\n",
       "      <th>PC8</th>\n",
       "      <th>PC2</th>\n",
       "      <th>PC4</th>\n",
       "      <th>PC3</th>\n",
       "    </tr>\n",
       "  </thead>\n",
       "  <tbody>\n",
       "    <tr>\n",
       "      <th>0</th>\n",
       "      <td>1.412181</td>\n",
       "      <td>-0.957833</td>\n",
       "      <td>0.851787</td>\n",
       "      <td>0.937311</td>\n",
       "      <td>-3.070175</td>\n",
       "      <td>1.089232</td>\n",
       "    </tr>\n",
       "    <tr>\n",
       "      <th>1</th>\n",
       "      <td>0.354654</td>\n",
       "      <td>0.140456</td>\n",
       "      <td>1.852528</td>\n",
       "      <td>0.781096</td>\n",
       "      <td>0.000953</td>\n",
       "      <td>1.595321</td>\n",
       "    </tr>\n",
       "    <tr>\n",
       "      <th>2</th>\n",
       "      <td>0.500938</td>\n",
       "      <td>0.975396</td>\n",
       "      <td>1.655141</td>\n",
       "      <td>0.018375</td>\n",
       "      <td>0.065376</td>\n",
       "      <td>-0.006510</td>\n",
       "    </tr>\n",
       "    <tr>\n",
       "      <th>3</th>\n",
       "      <td>1.405861</td>\n",
       "      <td>-0.147522</td>\n",
       "      <td>0.736916</td>\n",
       "      <td>1.543874</td>\n",
       "      <td>-1.732933</td>\n",
       "      <td>-1.033714</td>\n",
       "    </tr>\n",
       "    <tr>\n",
       "      <th>4</th>\n",
       "      <td>0.446885</td>\n",
       "      <td>-0.029195</td>\n",
       "      <td>2.491130</td>\n",
       "      <td>-0.055276</td>\n",
       "      <td>3.284571</td>\n",
       "      <td>0.443091</td>\n",
       "    </tr>\n",
       "  </tbody>\n",
       "</table>\n",
       "</div>"
      ],
      "text/plain": [
       "        PC7       PC1       PC8       PC2       PC4       PC3\n",
       "0  1.412181 -0.957833  0.851787  0.937311 -3.070175  1.089232\n",
       "1  0.354654  0.140456  1.852528  0.781096  0.000953  1.595321\n",
       "2  0.500938  0.975396  1.655141  0.018375  0.065376 -0.006510\n",
       "3  1.405861 -0.147522  0.736916  1.543874 -1.732933 -1.033714\n",
       "4  0.446885 -0.029195  2.491130 -0.055276  3.284571  0.443091"
      ]
     },
     "execution_count": 238,
     "metadata": {},
     "output_type": "execute_result"
    }
   ],
   "source": [
    "subset7.head()"
   ]
  },
  {
   "cell_type": "markdown",
   "metadata": {},
   "source": [
    "## Model Selection and Evaluation"
   ]
  },
  {
   "cell_type": "markdown",
   "metadata": {},
   "source": [
    "**Create Feature Dataframe for GridSearch Pipeline**"
   ]
  },
  {
   "cell_type": "code",
   "execution_count": 6,
   "metadata": {},
   "outputs": [],
   "source": [
    "\n",
    "# separate into input and output columns (X variable for features and y for target variables)\n",
    "\n",
    "Xp = df.drop('default', axis = 1) \n",
    "yP = df['default']\n",
    "# will not label encode the target variable for random forest model\n",
    "yRFp = df['default']\n",
    "\n",
    "# one-hot encode input variables\n",
    "# use ColumnTransformer to indicate which categorical variables to encode\n",
    "# https://machinelearningmastery.com/one-hot-encoding-for-categorical-data/\n",
    "#https://github.com/scikit-learn/scikit-learn/issues/9132 to include categories = 'auto' when negative values in X\n",
    "onehot_encoder = OneHotEncoder(categories='auto')\n",
    "onehot_encoder.fit(Xp)\n",
    "transformer = ColumnTransformer(transformers=[('cat', OneHotEncoder(), [8, 9, 10])], remainder='passthrough')\n",
    "Xp = transformer.fit_transform(Xp)\n",
    "\n",
    "# ordinal encode target variable\n",
    "label_encoder = LabelEncoder()\n",
    "label_encoder.fit(yP)\n",
    "yP = label_encoder.transform(yP)\n"
   ]
  },
  {
   "cell_type": "code",
   "execution_count": 57,
   "metadata": {},
   "outputs": [],
   "source": [
    "# custom confusion matrix function to show percentages\n",
    "def conf_matrix(y,pred):\n",
    "    ((tn, fp), (fn, tp)) = metrics.confusion_matrix(y, pred)\n",
    "    \n",
    "    return pd.DataFrame([[f'TN = {tn} (TNR = {tn / (tn+fp):1.2%})', \n",
    "                                f'FP = {fp} (FPR = {fp / (tn+fp):1.2%})'], \n",
    "                         [f'FN = {fn} (FNR = {fn / (fn+tp):1.2%})', \n",
    "                                f'TP = {tp} (TPR = {tp / (fn+tp):1.2%})']],\n",
    "            index=['True 0(No Default)', 'True 1(Default)'], \n",
    "            columns=['Pred 0(No Default)', \n",
    "                            'Pred 1(Default)'])"
   ]
  },
  {
   "cell_type": "code",
   "execution_count": null,
   "metadata": {},
   "outputs": [],
   "source": []
  },
  {
   "cell_type": "markdown",
   "metadata": {},
   "source": [
    "**Phase 1: All input features with GridSearch and Stratified K-fold cross validation**"
   ]
  },
  {
   "cell_type": "code",
   "execution_count": 53,
   "metadata": {},
   "outputs": [
    {
     "name": "stdout",
     "output_type": "stream",
     "text": [
      "{'fit_time': array([747.91497993, 736.70098901, 749.22447586, 735.19601774,\n",
      "       647.63973284, 647.75642085, 648.3029592 , 657.46743345,\n",
      "       613.54331446, 632.54373622]), 'score_time': array([0.67220211, 0.24634147, 0.75996733, 0.26828074, 0.33709955,\n",
      "       0.23936033, 0.2333765 , 0.64627337, 0.22539639, 1.13503647]), 'test_accuracy': array([0.79873376, 0.79140287, 0.79606798, 0.79406864, 0.79066667,\n",
      "       0.805     , 0.78926309, 0.80393464, 0.79626542, 0.79026342]), 'train_accuracy': array([0.97511019, 0.99885181, 0.97307308, 0.99892589, 0.99081481,\n",
      "       0.96825926, 0.96829747, 0.9972964 , 0.96840858, 0.97437132]), 'test_precision_macro': array([0.70765971, 0.68952272, 0.70175377, 0.69602801, 0.68745336,\n",
      "       0.73166688, 0.68306322, 0.72613351, 0.70133841, 0.68576728]), 'train_precision_macro': array([0.98357632, 0.99908275, 0.98211809, 0.99894975, 0.99340374,\n",
      "       0.97830409, 0.97885017, 0.99778249, 0.97861835, 0.9830536 ]), 'test_recall_macro': array([0.61795417, 0.60246603, 0.61031288, 0.60956825, 0.60364231,\n",
      "       0.61338505, 0.6049347 , 0.6143525 , 0.6126702 , 0.6039565 ]), 'train_recall_macro': array([0.94451673, 0.99758439, 0.94009174, 0.99793167, 0.97995579,\n",
      "       0.92992699, 0.92960279, 0.99436863, 0.93009365, 0.94291171]), 'test_neg_log_loss': array([-0.46343168, -0.50293824, -0.46218183, -0.50399912, -0.47415368,\n",
      "       -0.46620265, -0.46618017, -0.44649462, -0.45944485, -0.46683391]), 'train_neg_log_loss': array([-0.18999261, -0.12123675, -0.19025613, -0.12159129, -0.16034794,\n",
      "       -0.19221783, -0.19079073, -0.16016053, -0.19188087, -0.1894888 ])}\n",
      "results\n"
     ]
    }
   ],
   "source": [
    "# grid search in a pipeline / RF target not encoded\n",
    "    \n",
    "# create random forest classifier model\n",
    "modelRF = RandomForestClassifier(random_state=1)\n",
    "\n",
    "paramsRF = {\n",
    "    'n_estimators': [50, 150, 250],\n",
    "    'max_features': ['sqrt'],\n",
    "    'min_samples_split': [2, 4, 6]\n",
    "}\n",
    "\n",
    "grid = GridSearchCV(modelRF, paramsRF, cv=5, verbose=0)\n",
    "scoring = ['accuracy', 'precision_macro', 'recall_macro', 'neg_log_loss']\n",
    "\n",
    "# create a pipeline that standardizes, then runs logistic regression\n",
    "#pipeline=make_pipeline(standardizer, grid)\n",
    "pipeline=make_pipeline(grid)\n",
    "# create k-fold cross-validation\n",
    "skf= StratifiedKFold(n_splits=10, shuffle=True, random_state=1)\n",
    "# conduct a k-fold cross-validation\n",
    "cv_results=cross_validate(pipeline, # Pipeline\n",
    "                           Xp, # Feature matrix\n",
    "                           yRF,#target vector\n",
    "                           cv=skf, # Cross-validation technique\n",
    "                           scoring = scoring, # Loss function\n",
    "                           n_jobs = -1)\n",
    "\n",
    "print (cv_results)\n",
    "print(\"results\")"
   ]
  },
  {
   "cell_type": "code",
   "execution_count": null,
   "metadata": {},
   "outputs": [],
   "source": []
  },
  {
   "cell_type": "markdown",
   "metadata": {},
   "source": [
    "**Phase 2: Best subset of features with GridSearch and Stratified K-fold cross validation**"
   ]
  },
  {
   "cell_type": "code",
   "execution_count": 54,
   "metadata": {},
   "outputs": [
    {
     "name": "stdout",
     "output_type": "stream",
     "text": [
      "{'fit_time': array([ 688.35010552,  679.60650373,  667.04112887,  689.3504293 ,\n",
      "        672.74814749,  701.17337489,  700.23949075,  676.53281784,\n",
      "       2541.89955068, 2520.5474503 ]), 'score_time': array([1.16787601, 0.63330555, 0.21941328, 1.04919147, 0.21158504,\n",
      "       0.99777579, 1.01130033, 0.23160577, 0.80765128, 0.41888165]), 'test_accuracy': array([0.80006664, 0.78807064, 0.79806731, 0.79806731, 0.80066667,\n",
      "       0.80133333, 0.78626209, 0.81360453, 0.79626542, 0.78926309]), 'train_accuracy': array([0.98059187, 0.97855476, 0.97170266, 0.98007334, 0.97181481,\n",
      "       0.97981481, 0.98118588, 0.97270471, 0.97996371, 0.97781564]), 'test_precision_macro': array([0.70751196, 0.68081735, 0.70423719, 0.70342097, 0.71016275,\n",
      "       0.71336449, 0.67652112, 0.7400244 , 0.69968371, 0.68306084]), 'train_precision_macro': array([0.98531205, 0.98409834, 0.97826692, 0.98539071, 0.97847833,\n",
      "       0.98495763, 0.98622367, 0.97981235, 0.9851866 , 0.98349812]), 'test_recall_macro': array([0.63498184, 0.61865466, 0.62453408, 0.62938564, 0.63000547,\n",
      "       0.62504384, 0.61597089, 0.64864525, 0.62131191, 0.61789726]), 'train_recall_macro': array([0.95834657, 0.9536818 , 0.93951164, 0.95681476, 0.93964299,\n",
      "       0.95646851, 0.95921334, 0.94100266, 0.95669064, 0.95213512]), 'test_neg_log_loss': array([-0.46860609, -0.48246803, -0.49106182, -0.46671104, -0.49302982,\n",
      "       -0.45714859, -0.46221661, -0.44862064, -0.45352357, -0.47081735]), 'train_neg_log_loss': array([-0.17891905, -0.17869493, -0.180383  , -0.17900647, -0.18027843,\n",
      "       -0.1792603 , -0.17894028, -0.18116997, -0.1792806 , -0.17876551])}\n",
      "results\n"
     ]
    }
   ],
   "source": [
    "# grid search with pipeline / RF target not encoded\n",
    "   \n",
    "# create random forest classifier model\n",
    "modelRF = RandomForestClassifier(random_state=1)\n",
    "\n",
    "paramsRF = {\n",
    "    'n_estimators': [50, 150, 250],\n",
    "    'max_features': ['sqrt'],\n",
    "    'min_samples_split': [2, 4, 6]\n",
    "}\n",
    "\n",
    "grid = GridSearchCV(modelRF, paramsRF, cv=5, verbose=0)\n",
    "scoring = ['accuracy', 'precision_macro', 'recall_macro', 'neg_log_loss']\n",
    "\n",
    "# create a pipeline that standardizes, then runs logistic regression\n",
    "#pipeline=make_pipeline(standardizer, grid)\n",
    "pipeline=make_pipeline(grid)\n",
    "# create k-fold cross-validation\n",
    "skf= StratifiedKFold(n_splits=10, shuffle=True, random_state=1)\n",
    "# conduct a k-fold cross-validation\n",
    "cv_results=cross_validate(pipeline, # Pipeline\n",
    "                           subset7, # Feature matrix\n",
    "                           yRF,#target vector\n",
    "                           cv=skf, # Cross-validation technique\n",
    "                           scoring = scoring, # Loss function\n",
    "                           n_jobs = -1)\n",
    "\n",
    "print (cv_results)\n",
    "print(\"results\")"
   ]
  },
  {
   "cell_type": "code",
   "execution_count": null,
   "metadata": {},
   "outputs": [],
   "source": []
  },
  {
   "cell_type": "markdown",
   "metadata": {},
   "source": [
    "**Best parameters from parameters tested in above GridSearch**"
   ]
  },
  {
   "cell_type": "code",
   "execution_count": 91,
   "metadata": {},
   "outputs": [
    {
     "data": {
      "text/plain": [
       "({'mean_fit_time': array([ 5.30910625, 15.25704117, 26.15824709,  5.35411043, 16.90581322,\n",
       "         28.09746604,  6.16153269, 16.65542755, 26.97581086]),\n",
       "  'std_fit_time': array([0.19756298, 0.4822531 , 0.37169765, 0.2677691 , 0.93896425,\n",
       "         1.04737581, 0.73311514, 1.0829507 , 1.02633858]),\n",
       "  'mean_score_time': array([0.10388966, 0.29142704, 0.46515517, 0.09792538, 0.29651866,\n",
       "         0.50060239, 0.13164806, 0.28783026, 0.46256337]),\n",
       "  'std_score_time': array([0.02349786, 0.03803968, 0.04564967, 0.00737437, 0.03626477,\n",
       "         0.12168308, 0.0368877 , 0.03054252, 0.07985091]),\n",
       "  'param_max_features': masked_array(data=['sqrt', 'sqrt', 'sqrt', 'sqrt', 'sqrt', 'sqrt', 'sqrt',\n",
       "                     'sqrt', 'sqrt'],\n",
       "               mask=[False, False, False, False, False, False, False, False,\n",
       "                     False],\n",
       "         fill_value='?',\n",
       "              dtype=object),\n",
       "  'param_min_samples_split': masked_array(data=[2, 2, 2, 4, 4, 4, 6, 6, 6],\n",
       "               mask=[False, False, False, False, False, False, False, False,\n",
       "                     False],\n",
       "         fill_value='?',\n",
       "              dtype=object),\n",
       "  'param_n_estimators': masked_array(data=[50, 150, 250, 50, 150, 250, 50, 150, 250],\n",
       "               mask=[False, False, False, False, False, False, False, False,\n",
       "                     False],\n",
       "         fill_value='?',\n",
       "              dtype=object),\n",
       "  'params': [{'max_features': 'sqrt',\n",
       "    'min_samples_split': 2,\n",
       "    'n_estimators': 50},\n",
       "   {'max_features': 'sqrt', 'min_samples_split': 2, 'n_estimators': 150},\n",
       "   {'max_features': 'sqrt', 'min_samples_split': 2, 'n_estimators': 250},\n",
       "   {'max_features': 'sqrt', 'min_samples_split': 4, 'n_estimators': 50},\n",
       "   {'max_features': 'sqrt', 'min_samples_split': 4, 'n_estimators': 150},\n",
       "   {'max_features': 'sqrt', 'min_samples_split': 4, 'n_estimators': 250},\n",
       "   {'max_features': 'sqrt', 'min_samples_split': 6, 'n_estimators': 50},\n",
       "   {'max_features': 'sqrt', 'min_samples_split': 6, 'n_estimators': 150},\n",
       "   {'max_features': 'sqrt', 'min_samples_split': 6, 'n_estimators': 250}],\n",
       "  'split0_test_score': array([0.69721882, 0.69739188, 0.69896051, 0.69375171, 0.69990995,\n",
       "         0.69989102, 0.68904284, 0.69204144, 0.69418381]),\n",
       "  'split1_test_score': array([0.7242486 , 0.73371793, 0.73541054, 0.72468312, 0.73554794,\n",
       "         0.73806396, 0.73426816, 0.73947549, 0.74124583]),\n",
       "  'split2_test_score': array([0.67130662, 0.67894344, 0.6813831 , 0.67637598, 0.68691078,\n",
       "         0.68529041, 0.68195204, 0.69318316, 0.69382362]),\n",
       "  'split3_test_score': array([0.55796104, 0.56712631, 0.56893737, 0.56790101, 0.57661967,\n",
       "         0.57922212, 0.57144701, 0.58218645, 0.58464368]),\n",
       "  'split4_test_score': array([0.57802354, 0.57407951, 0.57872325, 0.57052138, 0.57581144,\n",
       "         0.58096238, 0.58293584, 0.5877058 , 0.58854567]),\n",
       "  'mean_test_score': array([0.64575172, 0.65025182, 0.65268296, 0.64664664, 0.65495996,\n",
       "         0.65668598, 0.65192918, 0.65891847, 0.66048852]),\n",
       "  'std_test_score': array([0.06596664, 0.06741522, 0.06677204, 0.06509738, 0.06623816,\n",
       "         0.06487215, 0.06371179, 0.06280077, 0.06276393]),\n",
       "  'rank_test_score': array([9, 7, 5, 8, 4, 3, 6, 2, 1]),\n",
       "  'split0_train_score': array([0.99979961, 0.99985823, 0.99984782, 0.99957457, 0.99968062,\n",
       "         0.99967201, 0.99897216, 0.99924461, 0.99925733]),\n",
       "  'split1_train_score': array([0.99983413, 0.99989643, 0.99990997, 0.99956429, 0.99968106,\n",
       "         0.99971362, 0.99873604, 0.99910663, 0.99916883]),\n",
       "  'split2_train_score': array([0.99982772, 0.99988658, 0.9998904 , 0.99958747, 0.9997026 ,\n",
       "         0.99971574, 0.99881213, 0.99922019, 0.99928869]),\n",
       "  'split3_train_score': array([0.99992709, 0.99995576, 0.99996267, 0.99973848, 0.99983366,\n",
       "         0.9998478 , 0.99898682, 0.99945235, 0.9995405 ]),\n",
       "  'split4_train_score': array([0.99988391, 0.99990405, 0.99991073, 0.99973009, 0.99981524,\n",
       "         0.99983002, 0.99907749, 0.99948217, 0.99956489]),\n",
       "  'mean_train_score': array([0.99985449, 0.99990021, 0.99990432, 0.99963898, 0.99974263,\n",
       "         0.99975584, 0.99891693, 0.99930119, 0.99936405]),\n",
       "  'std_train_score': array([4.53432486e-05, 3.18201031e-05, 3.70512300e-05, 7.82077888e-05,\n",
       "         6.75258801e-05, 6.98222997e-05, 1.24432203e-04, 1.43679068e-04,\n",
       "         1.59154500e-04])},\n",
       " {'max_features': 'sqrt', 'min_samples_split': 6, 'n_estimators': 250},\n",
       " 0.6604885213916527)"
      ]
     },
     "execution_count": 91,
     "metadata": {},
     "output_type": "execute_result"
    }
   ],
   "source": [
    "RFparam_test = {'n_estimators': [50, 150, 250],\n",
    "    'max_features': ['sqrt'],\n",
    "    'min_samples_split': [2, 4, 6]}\n",
    "RFsearch = GridSearchCV(estimator = RandomForestClassifier(random_state=1), \n",
    "param_grid = RFparam_test, scoring='roc_auc',n_jobs=4,iid=False, cv=5)\n",
    "RFsearch.fit(subset7, yP)\n",
    "RFsearch.cv_results_, RFsearch.best_params_, RFsearch.best_score_"
   ]
  },
  {
   "cell_type": "code",
   "execution_count": null,
   "metadata": {},
   "outputs": [],
   "source": []
  },
  {
   "cell_type": "markdown",
   "metadata": {},
   "source": [
    "### Probability Predictions and Classification Threshold Selection"
   ]
  },
  {
   "cell_type": "markdown",
   "metadata": {},
   "source": [
    "**Fit the model with best paramaters from the above GridSearch.**"
   ]
  },
  {
   "cell_type": "code",
   "execution_count": null,
   "metadata": {},
   "outputs": [],
   "source": []
  },
  {
   "cell_type": "code",
   "execution_count": null,
   "metadata": {},
   "outputs": [],
   "source": [
    "# create a best subset features dataframe to use in fitting the model\n",
    "cat_features = ['SEX', 'EDUCATION', 'MARRIAGE']\n",
    "df_cat = df[cat_features]\n",
    "dfPCAsub7 = X.loc[:, ['PC7', 'PC1', 'PC8', 'PC2', 'PC4', 'PC3']]\n",
    "Xsub7 = pd.concat([dfPCAsub7, df_cat], axis=1)\n",
    "# create a whole target dataset that can be used for train and validation data splitting\n",
    "y =  df['default']"
   ]
  },
  {
   "cell_type": "code",
   "execution_count": 92,
   "metadata": {},
   "outputs": [],
   "source": [
    "# separate data into training and validation = best subset df because it performed best in GridSearch\n",
    "XTrain, XTest, yTrain, yTest = train_test_split(Xsub7, y, stratify=y, test_size =0.3, random_state=11)\n",
    "\n",
    "# use best parameters from Grid Search above\n",
    "RF = RandomForestClassifier(max_features = 'sqrt', min_samples_split = 6, n_estimators = 250, random_state=1).fit(XTrain, yTrain)"
   ]
  },
  {
   "cell_type": "code",
   "execution_count": null,
   "metadata": {},
   "outputs": [],
   "source": []
  },
  {
   "cell_type": "markdown",
   "metadata": {},
   "source": [
    "**Make probability predictions to choose best classification threshold for imbalanced target.**"
   ]
  },
  {
   "cell_type": "code",
   "execution_count": 93,
   "metadata": {},
   "outputs": [
    {
     "name": "stdout",
     "output_type": "stream",
     "text": [
      "Best Threshold=0.265338\n"
     ]
    }
   ],
   "source": [
    "# choose the threshold with the Receiver Operating Characteristic curve and Youden's J statistic\n",
    "\n",
    "# predict probabilities; the last part of this line keeps the probabilities for the positive outcome only\n",
    "RFpredprob=RF.predict_proba(XTest)[:,1]\n",
    "\n",
    "# calculate roc curves\n",
    "fpr, tpr, thresholds = metrics.roc_curve(yTest, RFpredprob)\n",
    "\n",
    "# get the best threshold: Youden’s J statistic\n",
    "J = tpr - fpr\n",
    "from numpy import argmax\n",
    "ix = argmax(J)\n",
    "best_thresh = thresholds[ix]\n",
    "print('Best Threshold=%f' % (best_thresh))"
   ]
  },
  {
   "cell_type": "code",
   "execution_count": null,
   "metadata": {},
   "outputs": [],
   "source": []
  },
  {
   "cell_type": "markdown",
   "metadata": {},
   "source": [
    "**Use best threshold to convert probabilities to classification predictions**"
   ]
  },
  {
   "cell_type": "code",
   "execution_count": 94,
   "metadata": {},
   "outputs": [
    {
     "data": {
      "text/html": [
       "<div>\n",
       "<style scoped>\n",
       "    .dataframe tbody tr th:only-of-type {\n",
       "        vertical-align: middle;\n",
       "    }\n",
       "\n",
       "    .dataframe tbody tr th {\n",
       "        vertical-align: top;\n",
       "    }\n",
       "\n",
       "    .dataframe thead th {\n",
       "        text-align: right;\n",
       "    }\n",
       "</style>\n",
       "<table border=\"1\" class=\"dataframe\">\n",
       "  <thead>\n",
       "    <tr style=\"text-align: right;\">\n",
       "      <th></th>\n",
       "      <th>Pred 0(No Default)</th>\n",
       "      <th>Pred 1(Default)</th>\n",
       "    </tr>\n",
       "  </thead>\n",
       "  <tbody>\n",
       "    <tr>\n",
       "      <th>True 0(No Default)</th>\n",
       "      <td>TN = 5389 (TNR = 76.89%)</td>\n",
       "      <td>FP = 1620 (FPR = 23.11%)</td>\n",
       "    </tr>\n",
       "    <tr>\n",
       "      <th>True 1(Default)</th>\n",
       "      <td>FN = 792 (FNR = 39.78%)</td>\n",
       "      <td>TP = 1199 (TPR = 60.22%)</td>\n",
       "    </tr>\n",
       "  </tbody>\n",
       "</table>\n",
       "</div>"
      ],
      "text/plain": [
       "                          Pred 0(No Default)           Pred 1(Default)\n",
       "True 0(No Default)  TN = 5389 (TNR = 76.89%)  FP = 1620 (FPR = 23.11%)\n",
       "True 1(Default)      FN = 792 (FNR = 39.78%)  TP = 1199 (TPR = 60.22%)"
      ]
     },
     "execution_count": 94,
     "metadata": {},
     "output_type": "execute_result"
    }
   ],
   "source": [
    "# predprob are predicted possibilities for positive outcome prediction \n",
    "# allocate the probability predictions between 1 and 0 based on the best threshold\n",
    "RFpredprob_tuned_thresh = np.where(RFpredprob >= 0.265338, 1, 0)\n",
    "\n",
    "# custom confusion matrix with predictions (showing percentages)\n",
    "conf_matRFthresh = conf_matrix(yTest, RFpredprob_tuned_thresh)\n",
    "conf_matRFthresh"
   ]
  },
  {
   "cell_type": "code",
   "execution_count": null,
   "metadata": {},
   "outputs": [],
   "source": []
  },
  {
   "cell_type": "markdown",
   "metadata": {},
   "source": [
    "**Visualize Confusion Matrix**"
   ]
  },
  {
   "cell_type": "code",
   "execution_count": 96,
   "metadata": {},
   "outputs": [
    {
     "name": "stdout",
     "output_type": "stream",
     "text": [
      "[[5389 1620]\n",
      " [ 792 1199]]\n"
     ]
    }
   ],
   "source": [
    "# need a different format of confusion matrix for visualizing the confusion matrix of predictions\n",
    "from sklearn.metrics import confusion_matrix\n",
    "conf_matRFthresh = confusion_matrix(yTest, RFpredprob_tuned_thresh)\n",
    "print(conf_matRFthresh)"
   ]
  },
  {
   "cell_type": "code",
   "execution_count": null,
   "metadata": {},
   "outputs": [],
   "source": []
  },
  {
   "cell_type": "code",
   "execution_count": 97,
   "metadata": {},
   "outputs": [
    {
     "data": {
      "text/plain": [
       "(array([0.5, 1.5]),\n",
       " [Text(0, 0.5, 'No Default Next Month'), Text(0, 1.5, 'Default Next Month')])"
      ]
     },
     "execution_count": 97,
     "metadata": {},
     "output_type": "execute_result"
    },
    {
     "data": {
      "image/png": "[encoded data removed]",
      "text/plain": [
       "<Figure size 720x504 with 2 Axes>"
      ]
     },
     "metadata": {},
     "output_type": "display_data"
    }
   ],
   "source": [
    "# seaborn confusion matrix\n",
    "df_cm = pd.DataFrame(conf_matRFthresh, columns=np.unique(yP), index = np.unique(yP))\n",
    "df_cm.index.name = 'Actual'\n",
    "df_cm.columns.name = 'Predicted'\n",
    "plt.figure(figsize = (10,7))\n",
    "sns.set(font_scale=1.4)#for label size\n",
    "x_axis_labels = [\"No Default Next Month\", \"Default Next Month\"] # labels for x-axis\n",
    "y_axis_labels = [\"No Default Next Month\", \"Default Next Month\"] # labels for y-axis\n",
    "sns.heatmap(df_cm, cmap=\"Blues\", annot=True,fmt='g', annot_kws={\"size\": 16}, xticklabels=x_axis_labels, yticklabels=y_axis_labels)# font size\n",
    "plt.title(\"Confusion Matrix\")\n",
    "plt.tight_layout()\n",
    "plt.ylabel(\"Actual\")\n",
    "plt.xlabel(\"Predicted\")\n",
    "# This sets the yticks \"upright\" with 0, as opposed to sideways with 90.\n",
    "plt.yticks(rotation=0)"
   ]
  },
  {
   "cell_type": "code",
   "execution_count": null,
   "metadata": {},
   "outputs": [],
   "source": []
  },
  {
   "cell_type": "markdown",
   "metadata": {},
   "source": [
    "**Classification Report to View Evaluation Metrics**"
   ]
  },
  {
   "cell_type": "code",
   "execution_count": 99,
   "metadata": {},
   "outputs": [
    {
     "data": {
      "text/plain": [
       "<AxesSubplot:>"
      ]
     },
     "execution_count": 99,
     "metadata": {},
     "output_type": "execute_result"
    },
    {
     "data": {
      "image/png": "[encoded data removed]",
      "text/plain": [
       "<Figure size 576x396 with 2 Axes>"
      ]
     },
     "metadata": {},
     "output_type": "display_data"
    }
   ],
   "source": [
    "class_repRFthresh = classification_report(yTest, RFpredprob_tuned_thresh, output_dict=True, target_names= ['No Default', 'Default'])\n",
    "\n",
    "# Create a dataframe from the dictionary and plot a heatmap of it.\n",
    "# .iloc[:-1, :] to exclude support\n",
    "sns.heatmap(pd.DataFrame(class_repRFthresh).iloc[:-1, :].T, annot=True, cmap=\"Blues\")"
   ]
  },
  {
   "cell_type": "code",
   "execution_count": null,
   "metadata": {},
   "outputs": [],
   "source": []
  },
  {
   "cell_type": "code",
   "execution_count": 100,
   "metadata": {},
   "outputs": [
    {
     "data": {
      "text/plain": [
       "['RF_predProb.sav']"
      ]
     },
     "execution_count": 100,
     "metadata": {},
     "output_type": "execute_result"
    }
   ],
   "source": [
    "import joblib\n",
    "# save the predicted probabilities\n",
    "filename = 'RF_predProb.sav'\n",
    "joblib.dump(RFpredprob_tuned_thresh, filename)"
   ]
  },
  {
   "cell_type": "code",
   "execution_count": null,
   "metadata": {},
   "outputs": [],
   "source": []
  },
  {
   "cell_type": "markdown",
   "metadata": {},
   "source": [
    "**Calculate Loss Scores for Imbalanced Targets**"
   ]
  },
  {
   "cell_type": "code",
   "execution_count": 101,
   "metadata": {},
   "outputs": [
    {
     "name": "stdout",
     "output_type": "stream",
     "text": [
      "Log Loss Score:  0.46048710147509053\n",
      "Brier Loss Score:  0.1460126499413307\n",
      "AUC Score:  0.7442477810154255\n"
     ]
    }
   ],
   "source": [
    "# loss scores with probabilities\n",
    "\n",
    "from sklearn.metrics import log_loss\n",
    "from sklearn.metrics import brier_score_loss\n",
    "from sklearn.metrics import roc_auc_score\n",
    "\n",
    "# the probabilities of the predictions were calcaulated above [below is the code used above]\n",
    "#RFpredtst=RF.predict_proba(XTest)[:,1]\n",
    "\n",
    "# calculate log loss\n",
    "# In the binary classification case, the function takes a list of true outcome values and a list of probabilities as arguments \n",
    "      # and calculates the average log loss for the predictions.\n",
    "RFlossLog = log_loss(yTest, RFpredprob)\n",
    "RFlossBrier = brier_score_loss(yTest, RFpredprob)\n",
    "RFlossAUC = roc_auc_score(yTest, RFpredprob)\n",
    "print('Log Loss Score: ', RFlossLog)\n",
    "print('Brier Loss Score: ', RFlossBrier)\n",
    "print('AUC Score: ', RFlossAUC)"
   ]
  },
  {
   "cell_type": "code",
   "execution_count": null,
   "metadata": {},
   "outputs": [],
   "source": []
  },
  {
   "cell_type": "code",
   "execution_count": null,
   "metadata": {},
   "outputs": [],
   "source": []
  },
  {
   "cell_type": "code",
   "execution_count": null,
   "metadata": {},
   "outputs": [],
   "source": []
  }
 ],
 "metadata": {
  "kernelspec": {
   "display_name": "Python 3",
   "language": "python",
   "name": "python3"
  },
  "language_info": {
   "codemirror_mode": {
    "name": "ipython",
    "version": 3
   },
   "file_extension": ".py",
   "mimetype": "text/x-python",
   "name": "python",
   "nbconvert_exporter": "python",
   "pygments_lexer": "ipython3",
   "version": "3.7.6"
  }
 },
 "nbformat": 4,
 "nbformat_minor": 4
}
